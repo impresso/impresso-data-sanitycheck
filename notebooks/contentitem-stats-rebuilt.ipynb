{
 "cells": [
  {
   "cell_type": "markdown",
   "metadata": {},
   "source": [
    "other statistics to add (per newspaper):\n",
    "- ✓ number of issues \n",
    "- number of pages\n",
    "- ✓ number of content items\n",
    "- number of images\n",
    "- number of tokens"
   ]
  },
  {
   "cell_type": "markdown",
   "metadata": {},
   "source": [
    "## Imports"
   ]
  },
  {
   "cell_type": "code",
   "execution_count": 178,
   "metadata": {},
   "outputs": [],
   "source": [
    "import os, sys\n",
    "sys.path.append(\"../\")\n",
    "import pandas as pd\n",
    "import json\n",
    "from dask import bag as db\n",
    "from dask_k8 import DaskCluster\n",
    "from dask.distributed import Client\n",
    "from impresso_commons.utils.s3 import IMPRESSO_STORAGEOPT, fixed_s3fs_glob\n",
    "from impresso_commons.utils.s3 import alternative_read_text\n",
    "from impresso_commons.utils.kube import (make_scheduler_configuration,\n",
    "                                         make_worker_configuration)\n",
    "from sanity_check.contents.s3_data import list_files_rebuilt, list_pages"
   ]
  },
  {
   "cell_type": "markdown",
   "metadata": {},
   "source": [
    "## Set up dask k8 cluster"
   ]
  },
  {
   "cell_type": "code",
   "execution_count": 52,
   "metadata": {},
   "outputs": [],
   "source": [
    "cluster = DaskCluster(\n",
    "    namespace=\"dhlab\",\n",
    "    cluster_id=\"impresso-sanitycheck\",\n",
    "    scheduler_pod_spec=make_scheduler_configuration(),\n",
    "    worker_pod_spec=make_worker_configuration(\n",
    "        docker_image=\"ic-registry.epfl.ch/dhlab/impresso_pycommons:v1\",\n",
    "        memory=\"10G\"\n",
    "    )\n",
    ")"
   ]
  },
  {
   "cell_type": "code",
   "execution_count": 116,
   "metadata": {},
   "outputs": [],
   "source": [
    "cluster.close()"
   ]
  },
  {
   "cell_type": "code",
   "execution_count": 119,
   "metadata": {},
   "outputs": [
    {
     "name": "stdout",
     "output_type": "stream",
     "text": [
      "Scheduler: tcp://10.90.47.30:30514\n",
      "Dashboard: http://10.90.47.30:15661\n"
     ]
    }
   ],
   "source": [
    "cluster.create()\n",
    "cluster.scale(150, blocking=False)"
   ]
  },
  {
   "cell_type": "code",
   "execution_count": 132,
   "metadata": {},
   "outputs": [],
   "source": [
    "dask_client = cluster.make_dask_client()"
   ]
  },
  {
   "cell_type": "code",
   "execution_count": 133,
   "metadata": {},
   "outputs": [
    {
     "data": {
      "text/html": [
       "<table style=\"border: 2px solid white;\">\n",
       "<tr>\n",
       "<td style=\"vertical-align: top; border: 0px solid white\">\n",
       "<h3 style=\"text-align: left;\">Client</h3>\n",
       "<ul style=\"text-align: left; list-style: none; margin: 0; padding: 0;\">\n",
       "  <li><b>Scheduler: </b>tcp://10.90.47.30:30514</li>\n",
       "  <li><b>Dashboard: </b><a href='http://10.90.47.30:8787/status' target='_blank'>http://10.90.47.30:8787/status</a>\n",
       "</ul>\n",
       "</td>\n",
       "<td style=\"vertical-align: top; border: 0px solid white\">\n",
       "<h3 style=\"text-align: left;\">Cluster</h3>\n",
       "<ul style=\"text-align: left; list-style:none; margin: 0; padding: 0;\">\n",
       "  <li><b>Workers: </b>150</li>\n",
       "  <li><b>Cores: </b>150</li>\n",
       "  <li><b>Memory: </b>1.50 TB</li>\n",
       "</ul>\n",
       "</td>\n",
       "</tr>\n",
       "</table>"
      ],
      "text/plain": [
       "<Client: scheduler='tcp://10.233.76.103:8786' processes=150 cores=150>"
      ]
     },
     "execution_count": 133,
     "metadata": {},
     "output_type": "execute_result"
    }
   ],
   "source": [
    "dask_client"
   ]
  },
  {
   "cell_type": "code",
   "execution_count": 83,
   "metadata": {
    "collapsed": true
   },
   "outputs": [
    {
     "ename": "ValueError",
     "evalue": "Mismatched versions found\n\npandas\n+---------------------------+---------+\n|                           | version |\n+---------------------------+---------+\n| client                    | 0.24.2  |\n| tcp://10.233.107.21:36029 | None    |\n+---------------------------+---------+",
     "output_type": "error",
     "traceback": [
      "\u001b[0;31m---------------------------------------------------------------------------\u001b[0m",
      "\u001b[0;31mValueError\u001b[0m                                Traceback (most recent call last)",
      "\u001b[0;32m<ipython-input-83-76cf7cf24770>\u001b[0m in \u001b[0;36m<module>\u001b[0;34m\u001b[0m\n\u001b[0;32m----> 1\u001b[0;31m \u001b[0mdask_client\u001b[0m\u001b[0;34m.\u001b[0m\u001b[0mget_versions\u001b[0m\u001b[0;34m(\u001b[0m\u001b[0mcheck\u001b[0m\u001b[0;34m=\u001b[0m\u001b[0;32mTrue\u001b[0m\u001b[0;34m)\u001b[0m\u001b[0;34m\u001b[0m\u001b[0;34m\u001b[0m\u001b[0m\n\u001b[0m",
      "\u001b[0;32m~/.pyenv/versions/3.6.7/envs/pycommons/lib/python3.6/site-packages/distributed/client.py\u001b[0m in \u001b[0;36mget_versions\u001b[0;34m(self, check, packages)\u001b[0m\n\u001b[1;32m   3485\u001b[0m \u001b[0;34m\u001b[0m\u001b[0m\n\u001b[1;32m   3486\u001b[0m                 raise ValueError(\n\u001b[0;32m-> 3487\u001b[0;31m                     \u001b[0;34m\"Mismatched versions found\\n\\n%s\"\u001b[0m \u001b[0;34m%\u001b[0m \u001b[0;34m(\u001b[0m\u001b[0;34m\"\\n\\n\"\u001b[0m\u001b[0;34m.\u001b[0m\u001b[0mjoin\u001b[0m\u001b[0;34m(\u001b[0m\u001b[0merrs\u001b[0m\u001b[0;34m)\u001b[0m\u001b[0;34m)\u001b[0m\u001b[0;34m\u001b[0m\u001b[0;34m\u001b[0m\u001b[0m\n\u001b[0m\u001b[1;32m   3488\u001b[0m                 )\n\u001b[1;32m   3489\u001b[0m \u001b[0;34m\u001b[0m\u001b[0m\n",
      "\u001b[0;31mValueError\u001b[0m: Mismatched versions found\n\npandas\n+---------------------------+---------+\n|                           | version |\n+---------------------------+---------+\n| client                    | 0.24.2  |\n| tcp://10.233.107.21:36029 | None    |\n+---------------------------+---------+"
     ]
    }
   ],
   "source": [
    "dask_client.get_versions(check=True)"
   ]
  },
  {
   "cell_type": "markdown",
   "metadata": {},
   "source": [
    "## Gather data for stats from rebuilt"
   ]
  },
  {
   "cell_type": "code",
   "execution_count": 124,
   "metadata": {},
   "outputs": [],
   "source": [
    "rebuilt_bucket = \"s3://canonical-rebuilt-release\""
   ]
  },
  {
   "cell_type": "code",
   "execution_count": 127,
   "metadata": {},
   "outputs": [
    {
     "name": "stdout",
     "output_type": "stream",
     "text": [
      "Fetching list of newspapers from s3://canonical-rebuilt-release\n",
      "canonical-rebuilt-release contains 76 newspapers\n",
      "s3://canonical-rebuilt-release contains 3040 .bz2 files\n"
     ]
    }
   ],
   "source": [
    "rebuilt_files = list_files_rebuilt(rebuilt_bucket)"
   ]
  },
  {
   "cell_type": "code",
   "execution_count": 134,
   "metadata": {},
   "outputs": [],
   "source": [
    "contentitems_df = db.from_sequence(\n",
    "    rebuilt_files,\n",
    "    partition_size=5\n",
    ").map(\n",
    "    alternative_read_text, IMPRESSO_STORAGEOPT\n",
    ").flatten().map(\n",
    "    json.loads\n",
    ").map(\n",
    "    lambda i: {\n",
    "        \"id\": i['id'],\n",
    "        \"type\": i['tp'],\n",
    "        \"year\": i['d'].split('-')[0],\n",
    "        \"newspaper\": i['id'].split('-')[0],\n",
    "        # \"tokens\": len(i['ft'].split()) if \"ft\" in i else 0\n",
    "    }\n",
    ").to_dataframe().set_index('id').persist()"
   ]
  },
  {
   "cell_type": "code",
   "execution_count": 141,
   "metadata": {},
   "outputs": [],
   "source": [
    "ci_grouped = contentitems_df.groupby(\n",
    "    by=['newspaper', 'year']\n",
    ").size().compute()"
   ]
  },
  {
   "cell_type": "code",
   "execution_count": 149,
   "metadata": {},
   "outputs": [],
   "source": [
    "df = pd.DataFrame(ci_grouped)"
   ]
  },
  {
   "cell_type": "code",
   "execution_count": 153,
   "metadata": {},
   "outputs": [],
   "source": [
    "df.reset_index(inplace=True)"
   ]
  },
  {
   "cell_type": "code",
   "execution_count": 158,
   "metadata": {},
   "outputs": [
    {
     "data": {
      "text/plain": [
       "RangeIndex(start=0, stop=3040, step=1)"
      ]
     },
     "execution_count": 158,
     "metadata": {},
     "output_type": "execute_result"
    }
   ],
   "source": [
    "df.index"
   ]
  },
  {
   "cell_type": "code",
   "execution_count": 159,
   "metadata": {},
   "outputs": [
    {
     "data": {
      "text/html": [
       "<div>\n",
       "<style scoped>\n",
       "    .dataframe tbody tr th:only-of-type {\n",
       "        vertical-align: middle;\n",
       "    }\n",
       "\n",
       "    .dataframe tbody tr th {\n",
       "        vertical-align: top;\n",
       "    }\n",
       "\n",
       "    .dataframe thead th {\n",
       "        text-align: right;\n",
       "    }\n",
       "</style>\n",
       "<table border=\"1\" class=\"dataframe\">\n",
       "  <thead>\n",
       "    <tr style=\"text-align: right;\">\n",
       "      <th></th>\n",
       "      <th>newspaper</th>\n",
       "      <th>year</th>\n",
       "      <th>0</th>\n",
       "    </tr>\n",
       "  </thead>\n",
       "  <tbody>\n",
       "    <tr>\n",
       "      <th>0</th>\n",
       "      <td>BDC</td>\n",
       "      <td>1839</td>\n",
       "      <td>146</td>\n",
       "    </tr>\n",
       "    <tr>\n",
       "      <th>1</th>\n",
       "      <td>BLB</td>\n",
       "      <td>1845</td>\n",
       "      <td>2</td>\n",
       "    </tr>\n",
       "    <tr>\n",
       "      <th>2</th>\n",
       "      <td>BLB</td>\n",
       "      <td>1846</td>\n",
       "      <td>172</td>\n",
       "    </tr>\n",
       "    <tr>\n",
       "      <th>3</th>\n",
       "      <td>BLB</td>\n",
       "      <td>1847</td>\n",
       "      <td>255</td>\n",
       "    </tr>\n",
       "    <tr>\n",
       "      <th>4</th>\n",
       "      <td>BNN</td>\n",
       "      <td>1885</td>\n",
       "      <td>47</td>\n",
       "    </tr>\n",
       "  </tbody>\n",
       "</table>\n",
       "</div>"
      ],
      "text/plain": [
       "  newspaper  year    0\n",
       "0       BDC  1839  146\n",
       "1       BLB  1845    2\n",
       "2       BLB  1846  172\n",
       "3       BLB  1847  255\n",
       "4       BNN  1885   47"
      ]
     },
     "execution_count": 159,
     "metadata": {},
     "output_type": "execute_result"
    }
   ],
   "source": [
    "df.head()"
   ]
  },
  {
   "cell_type": "code",
   "execution_count": 165,
   "metadata": {},
   "outputs": [],
   "source": [
    "df[\"id\"] = df.apply(lambda x: f\"{x.newspaper}-{x.year}\", axis=1)"
   ]
  },
  {
   "cell_type": "code",
   "execution_count": 167,
   "metadata": {},
   "outputs": [],
   "source": [
    "df.set_index('id', inplace=True)"
   ]
  },
  {
   "cell_type": "code",
   "execution_count": 173,
   "metadata": {},
   "outputs": [],
   "source": [
    "df.columns = ['newspaper', 'year', 'count']"
   ]
  },
  {
   "cell_type": "code",
   "execution_count": 176,
   "metadata": {},
   "outputs": [],
   "source": [
    "df[['count']].to_csv('../../impresso-processing/data/contentitems_stats.csv')"
   ]
  },
  {
   "cell_type": "code",
   "execution_count": null,
   "metadata": {},
   "outputs": [],
   "source": []
  }
 ],
 "metadata": {
  "kernelspec": {
   "display_name": "Python 3",
   "language": "python",
   "name": "python3"
  },
  "language_info": {
   "codemirror_mode": {
    "name": "ipython",
    "version": 3
   },
   "file_extension": ".py",
   "mimetype": "text/x-python",
   "name": "python",
   "nbconvert_exporter": "python",
   "pygments_lexer": "ipython3",
   "version": "3.6.7"
  },
  "toc": {
   "base_numbering": 1,
   "nav_menu": {},
   "number_sections": false,
   "sideBar": true,
   "skip_h1_title": false,
   "title_cell": "Table of Contents",
   "title_sidebar": "Contents",
   "toc_cell": false,
   "toc_position": {
    "height": "calc(100% - 180px)",
    "left": "10px",
    "top": "150px",
    "width": "411.771px"
   },
   "toc_section_display": true,
   "toc_window_display": true
  }
 },
 "nbformat": 4,
 "nbformat_minor": 2
}
