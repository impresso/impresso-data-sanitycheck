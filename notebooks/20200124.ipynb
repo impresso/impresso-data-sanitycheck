{
 "cells": [
  {
   "cell_type": "markdown",
   "metadata": {},
   "source": [
    "**Goal**: produce a list of new titles for the public release (in HTML)."
   ]
  },
  {
   "cell_type": "code",
   "execution_count": 5,
   "metadata": {},
   "outputs": [],
   "source": [
    "import pandas as pd\n",
    "import json"
   ]
  },
  {
   "cell_type": "code",
   "execution_count": 27,
   "metadata": {},
   "outputs": [],
   "source": [
    "newspapers_df = pd.read_csv('/home/romanell/Downloads/test-corpus-stats/newspaper_stats.csv')"
   ]
  },
  {
   "cell_type": "code",
   "execution_count": 11,
   "metadata": {},
   "outputs": [],
   "source": [
    "config_files = [\n",
    "    \"/home/romanell/Documents/impresso/impresso-processing/rebuild/RERO1/all.json\",\n",
    "    \"/home/romanell/Documents/impresso/impresso-processing/rebuild/BNL/all.json\"\n",
    "]"
   ]
  },
  {
   "cell_type": "code",
   "execution_count": 19,
   "metadata": {},
   "outputs": [],
   "source": [
    "old_newspapers = set()\n",
    "\n",
    "for cfg_file in config_files:\n",
    "\n",
    "    with open(cfg_file) as infile:\n",
    "        data = json.load(infile)\n",
    "\n",
    "        [\n",
    "            old_newspapers.add(list(datum.keys())[0])\n",
    "            for datum in data\n",
    "        ]"
   ]
  },
  {
   "cell_type": "code",
   "execution_count": 22,
   "metadata": {},
   "outputs": [
    {
     "data": {
      "text/plain": [
       "47"
      ]
     },
     "execution_count": 22,
     "metadata": {},
     "output_type": "execute_result"
    }
   ],
   "source": [
    "len(old_newspapers)"
   ]
  },
  {
   "cell_type": "code",
   "execution_count": 26,
   "metadata": {},
   "outputs": [],
   "source": [
    "# newspapers_df.set_index('Unnamed: 0', inplace=True)"
   ]
  },
  {
   "cell_type": "code",
   "execution_count": 32,
   "metadata": {},
   "outputs": [],
   "source": [
    "newspapers_df.rename({'Unnamed: 0': 'newspaper_id'}, axis='columns', inplace=True)"
   ]
  },
  {
   "cell_type": "code",
   "execution_count": 33,
   "metadata": {},
   "outputs": [],
   "source": [
    "publrelease_newspapers_df = newspapers_df[~newspapers_df.newspaper_id.isin(old_newspapers)]"
   ]
  },
  {
   "cell_type": "code",
   "execution_count": 36,
   "metadata": {},
   "outputs": [
    {
     "data": {
      "text/plain": [
       "29"
      ]
     },
     "execution_count": 36,
     "metadata": {},
     "output_type": "execute_result"
    }
   ],
   "source": [
    "publrelease_newspapers_df.shape[0]"
   ]
  },
  {
   "cell_type": "code",
   "execution_count": 50,
   "metadata": {},
   "outputs": [
    {
     "data": {
      "text/html": [
       "<div>\n",
       "<style scoped>\n",
       "    .dataframe tbody tr th:only-of-type {\n",
       "        vertical-align: middle;\n",
       "    }\n",
       "\n",
       "    .dataframe tbody tr th {\n",
       "        vertical-align: top;\n",
       "    }\n",
       "\n",
       "    .dataframe thead th {\n",
       "        text-align: right;\n",
       "    }\n",
       "</style>\n",
       "<table border=\"1\" class=\"dataframe\">\n",
       "  <thead>\n",
       "    <tr style=\"text-align: right;\">\n",
       "      <th></th>\n",
       "      <th>newspaper_id</th>\n",
       "      <th>title</th>\n",
       "      <th>start_year</th>\n",
       "      <th>end_year</th>\n",
       "      <th>n_issues</th>\n",
       "      <th>n_pages</th>\n",
       "      <th>n_tokens</th>\n",
       "      <th>n_images</th>\n",
       "    </tr>\n",
       "  </thead>\n",
       "  <tbody>\n",
       "    <tr>\n",
       "      <th>4</th>\n",
       "      <td>BLB</td>\n",
       "      <td>Bündner Landbote</td>\n",
       "      <td>1846</td>\n",
       "      <td>1847</td>\n",
       "      <td>110</td>\n",
       "      <td>430</td>\n",
       "      <td>530239</td>\n",
       "      <td>0</td>\n",
       "    </tr>\n",
       "    <tr>\n",
       "      <th>5</th>\n",
       "      <td>BNN</td>\n",
       "      <td>Bündner Nachrichten</td>\n",
       "      <td>1885</td>\n",
       "      <td>1892</td>\n",
       "      <td>1906</td>\n",
       "      <td>7674</td>\n",
       "      <td>15463632</td>\n",
       "      <td>0</td>\n",
       "    </tr>\n",
       "    <tr>\n",
       "      <th>8</th>\n",
       "      <td>CON</td>\n",
       "      <td>La Contrée</td>\n",
       "      <td>1902</td>\n",
       "      <td>1903</td>\n",
       "      <td>101</td>\n",
       "      <td>404</td>\n",
       "      <td>516013</td>\n",
       "      <td>303</td>\n",
       "    </tr>\n",
       "    <tr>\n",
       "      <th>12</th>\n",
       "      <td>DFS</td>\n",
       "      <td>Wochenblatt für die vier löblichen Kantone Ury...</td>\n",
       "      <td>1814</td>\n",
       "      <td>1849</td>\n",
       "      <td>1825</td>\n",
       "      <td>7687</td>\n",
       "      <td>10531868</td>\n",
       "      <td>6</td>\n",
       "    </tr>\n",
       "    <tr>\n",
       "      <th>15</th>\n",
       "      <td>DTT</td>\n",
       "      <td>Die Tat</td>\n",
       "      <td>1935</td>\n",
       "      <td>1978</td>\n",
       "      <td>12970</td>\n",
       "      <td>218285</td>\n",
       "      <td>541602394</td>\n",
       "      <td>57979</td>\n",
       "    </tr>\n",
       "  </tbody>\n",
       "</table>\n",
       "</div>"
      ],
      "text/plain": [
       "   newspaper_id                                              title  \\\n",
       "4           BLB                                   Bündner Landbote   \n",
       "5           BNN                                Bündner Nachrichten   \n",
       "8           CON                                         La Contrée   \n",
       "12          DFS  Wochenblatt für die vier löblichen Kantone Ury...   \n",
       "15          DTT                                            Die Tat   \n",
       "\n",
       "    start_year  end_year  n_issues  n_pages   n_tokens  n_images  \n",
       "4         1846      1847       110      430     530239         0  \n",
       "5         1885      1892      1906     7674   15463632         0  \n",
       "8         1902      1903       101      404     516013       303  \n",
       "12        1814      1849      1825     7687   10531868         6  \n",
       "15        1935      1978     12970   218285  541602394     57979  "
      ]
     },
     "execution_count": 50,
     "metadata": {},
     "output_type": "execute_result"
    }
   ],
   "source": [
    "publrelease_newspapers_df.head()"
   ]
  },
  {
   "cell_type": "code",
   "execution_count": 62,
   "metadata": {},
   "outputs": [],
   "source": [
    "titles = []\n",
    "\n",
    "for idx, row in publrelease_newspapers_df.sort_values(by='title').iterrows():\n",
    "    newspaper_title = row.title\n",
    "    newspaper_id = row.newspaper_id\n",
    "    newspaper_metadata_link = f\"https://impresso-project.ch/app/newspapers/{newspaper_id}/metadata\"\n",
    "    newspaper_md_template = f\"{newspaper_title} ([{newspaper_id}]({newspaper_metadata_link}))\"\n",
    "    titles.append(newspaper_md_template)"
   ]
  },
  {
   "cell_type": "code",
   "execution_count": 63,
   "metadata": {},
   "outputs": [
    {
     "data": {
      "text/plain": [
       "'Bündner Landbote ([BLB](https://impresso-project.ch/app/newspapers/BLB/metadata)), Bündner Nachrichten ([BNN](https://impresso-project.ch/app/newspapers/BNN/metadata)), Der Erzähler ([EZR](https://impresso-project.ch/app/newspapers/EZR/metadata)), Der Liberale Alpenbote ([LAB](https://impresso-project.ch/app/newspapers/LAB/metadata)), Der Morgenstern ([MGS](https://impresso-project.ch/app/newspapers/MGS/metadata)), Der Volksfreund ([DVF](https://impresso-project.ch/app/newspapers/DVF/metadata)), Der Wahrheitsfreund ([WHD](https://impresso-project.ch/app/newspapers/WHD/metadata)), Der Zugerbieter ([ZBT](https://impresso-project.ch/app/newspapers/ZBT/metadata)), Der helvetische Volksfreund ([HRV](https://impresso-project.ch/app/newspapers/HRV/metadata)), Die Gewerkschaft ([OIZ](https://impresso-project.ch/app/newspapers/OIZ/metadata)), Die Tat ([DTT](https://impresso-project.ch/app/newspapers/DTT/metadata)), Freiburger Nachrichten ([FZG](https://impresso-project.ch/app/newspapers/FZG/metadata)), Gazette du Simplon ([GAZ](https://impresso-project.ch/app/newspapers/GAZ/metadata)), Gazette du Valais / Nouvelle gazette du Valais ([GAV](https://impresso-project.ch/app/newspapers/GAV/metadata)), Journal de Saxon ([SAX](https://impresso-project.ch/app/newspapers/SAX/metadata)), La Contrée ([CON](https://impresso-project.ch/app/newspapers/CON/metadata)), La FCTA ([FCT](https://impresso-project.ch/app/newspapers/FCT/metadata)), La Liberté ([LLE](https://impresso-project.ch/app/newspapers/LLE/metadata)), La Voix du Rhône ([VDR](https://impresso-project.ch/app/newspapers/VDR/metadata)), La lutte syndicale ([LLS](https://impresso-project.ch/app/newspapers/LLS/metadata)), Neue Zuger Zeitung (II) ([NZG](https://impresso-project.ch/app/newspapers/NZG/metadata)), Neue Zürcher Zeitung ([NZZ](https://impresso-project.ch/app/newspapers/NZZ/metadata)), Neues Tagblatt aus der östlichen Schweiz ([NTS](https://impresso-project.ch/app/newspapers/NTS/metadata)), SMUV-Zeitung ([SMZ](https://impresso-project.ch/app/newspapers/SMZ/metadata)), Schweizerische Tag-Blätter ([SRT](https://impresso-project.ch/app/newspapers/SRT/metadata)), Solidarité ([SDT](https://impresso-project.ch/app/newspapers/SDT/metadata)), St.Galler Zeitung ([SGZ](https://impresso-project.ch/app/newspapers/SGZ/metadata)), VHTL-Zeitung ([VHT](https://impresso-project.ch/app/newspapers/VHT/metadata)), Wochenblatt für die vier löblichen Kantone Ury, Schwytz, Unterwalden und Zug ([DFS](https://impresso-project.ch/app/newspapers/DFS/metadata))'"
      ]
     },
     "execution_count": 63,
     "metadata": {},
     "output_type": "execute_result"
    }
   ],
   "source": [
    "\", \".join(titles)"
   ]
  },
  {
   "cell_type": "markdown",
   "metadata": {},
   "source": [
    "Bündner Landbote ([BLB](https://impresso-project.ch/app/newspapers/BLB/metadata)), Bündner Nachrichten ([BNN](https://impresso-project.ch/app/newspapers/BNN/metadata)), Der Erzähler ([EZR](https://impresso-project.ch/app/newspapers/EZR/metadata)), Der Liberale Alpenbote ([LAB](https://impresso-project.ch/app/newspapers/LAB/metadata)), Der Morgenstern ([MGS](https://impresso-project.ch/app/newspapers/MGS/metadata)), Der Volksfreund ([DVF](https://impresso-project.ch/app/newspapers/DVF/metadata)), Der Wahrheitsfreund ([WHD](https://impresso-project.ch/app/newspapers/WHD/metadata)), Der Zugerbieter ([ZBT](https://impresso-project.ch/app/newspapers/ZBT/metadata)), Der helvetische Volksfreund ([HRV](https://impresso-project.ch/app/newspapers/HRV/metadata)), Die Gewerkschaft ([OIZ](https://impresso-project.ch/app/newspapers/OIZ/metadata)), Die Tat ([DTT](https://impresso-project.ch/app/newspapers/DTT/metadata)), Freiburger Nachrichten ([FZG](https://impresso-project.ch/app/newspapers/FZG/metadata)), Gazette du Simplon ([GAZ](https://impresso-project.ch/app/newspapers/GAZ/metadata)), Gazette du Valais / Nouvelle gazette du Valais ([GAV](https://impresso-project.ch/app/newspapers/GAV/metadata)), Journal de Saxon ([SAX](https://impresso-project.ch/app/newspapers/SAX/metadata)), La Contrée ([CON](https://impresso-project.ch/app/newspapers/CON/metadata)), La FCTA ([FCT](https://impresso-project.ch/app/newspapers/FCT/metadata)), La Liberté ([LLE](https://impresso-project.ch/app/newspapers/LLE/metadata)), La Voix du Rhône ([VDR](https://impresso-project.ch/app/newspapers/VDR/metadata)), La lutte syndicale ([LLS](https://impresso-project.ch/app/newspapers/LLS/metadata)), Neue Zuger Zeitung (II) ([NZG](https://impresso-project.ch/app/newspapers/NZG/metadata)), Neue Zürcher Zeitung ([NZZ](https://impresso-project.ch/app/newspapers/NZZ/metadata)), Neues Tagblatt aus der östlichen Schweiz ([NTS](https://impresso-project.ch/app/newspapers/NTS/metadata)), SMUV-Zeitung ([SMZ](https://impresso-project.ch/app/newspapers/SMZ/metadata)), Schweizerische Tag-Blätter ([SRT](https://impresso-project.ch/app/newspapers/SRT/metadata)), Solidarité ([SDT](https://impresso-project.ch/app/newspapers/SDT/metadata)), St.Galler Zeitung ([SGZ](https://impresso-project.ch/app/newspapers/SGZ/metadata)), VHTL-Zeitung ([VHT](https://impresso-project.ch/app/newspapers/VHT/metadata)), Wochenblatt für die vier löblichen Kantone Ury, Schwytz, Unterwalden und Zug ([DFS](https://impresso-project.ch/app/newspapers/DFS/metadata))"
   ]
  }
 ],
 "metadata": {
  "kernelspec": {
   "display_name": "Python 3",
   "language": "python",
   "name": "python3"
  },
  "language_info": {
   "codemirror_mode": {
    "name": "ipython",
    "version": 3
   },
   "file_extension": ".py",
   "mimetype": "text/x-python",
   "name": "python",
   "nbconvert_exporter": "python",
   "pygments_lexer": "ipython3",
   "version": "3.6.7"
  },
  "toc": {
   "base_numbering": 1,
   "nav_menu": {},
   "number_sections": true,
   "sideBar": true,
   "skip_h1_title": false,
   "title_cell": "Table of Contents",
   "title_sidebar": "Contents",
   "toc_cell": false,
   "toc_position": {},
   "toc_section_display": true,
   "toc_window_display": false
  }
 },
 "nbformat": 4,
 "nbformat_minor": 2
}
