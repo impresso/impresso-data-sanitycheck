{
 "cells": [
  {
   "cell_type": "markdown",
   "metadata": {},
   "source": [
    "# Compute stats about PoS tags"
   ]
  },
  {
   "cell_type": "markdown",
   "metadata": {},
   "source": [
    "**Goal**: sample of Lux data to test `spellux` lemmatization\n",
    "\n",
    "**Logic**:\n",
    "- ..."
   ]
  },
  {
   "cell_type": "markdown",
   "metadata": {},
   "source": [
    "## imports"
   ]
  },
  {
   "cell_type": "code",
   "execution_count": 2,
   "metadata": {},
   "outputs": [],
   "source": [
    "from impresso_commons.utils.s3 import get_s3_client, alternative_read_text, IMPRESSO_STORAGEOPT\n",
    "from impresso_commons.utils.s3 import fixed_s3fs_glob\n",
    "from impresso_commons.utils.kube import (\n",
    "    make_scheduler_configuration,\n",
    "    make_worker_configuration,\n",
    ")\n",
    "from dask_k8 import DaskCluster\n",
    "from dask import bag as db\n",
    "from dask.distributed import Client\n",
    "import json\n",
    "import os\n",
    "import codecs\n",
    "import pandas as pd\n",
    "import matplotlib"
   ]
  },
  {
   "cell_type": "markdown",
   "metadata": {},
   "source": [
    "## local dask cluster"
   ]
  },
  {
   "cell_type": "code",
   "execution_count": 2,
   "metadata": {},
   "outputs": [
    {
     "name": "stderr",
     "output_type": "stream",
     "text": [
      "/home/romanell/.pyenv/versions/3.6.7/envs/impresso-sanity-check/lib/python3.6/site-packages/distributed/dashboard/core.py:72: UserWarning: \n",
      "Port 8787 is already in use. \n",
      "Perhaps you already have a cluster running?\n",
      "Hosting the diagnostics dashboard on a random port instead.\n",
      "  warnings.warn(\"\\n\" + msg)\n"
     ]
    },
    {
     "data": {
      "text/plain": [
       "41353"
      ]
     },
     "execution_count": 2,
     "metadata": {},
     "output_type": "execute_result"
    }
   ],
   "source": [
    "dask_client = Client()\n",
    "dask_client.scheduler_info()['services']['dashboard']"
   ]
  },
  {
   "cell_type": "markdown",
   "metadata": {},
   "source": [
    "## setup dask k8 cluster"
   ]
  },
  {
   "cell_type": "code",
   "execution_count": null,
   "metadata": {},
   "outputs": [],
   "source": [
    "dask_client = Client()\n",
    "dask_client.scheduler_info()['services']['dashboard']"
   ]
  },
  {
   "cell_type": "code",
   "execution_count": 35,
   "metadata": {},
   "outputs": [],
   "source": [
    "image_uri = \"ic-registry.epfl.ch/dhlab/impresso_pycommons:v1\"\n",
    "memory = \"20G\"\n",
    "# memory = \"1G\"\n",
    "n_workers = 100"
   ]
  },
  {
   "cell_type": "code",
   "execution_count": 36,
   "metadata": {
    "collapsed": true
   },
   "outputs": [
    {
     "name": "stdout",
     "output_type": "stream",
     "text": [
      "\n",
      "      containers:\n",
      "        - image: ic-registry.epfl.ch/dhlab/impresso_pycommons:v1\n",
      "          args: [dask-worker, $(DASK_SCHEDULER_ADDRESS), --nthreads, '1', --no-bokeh, --memory-limit, 20G, --death-timeout, '120']\n",
      "          imagePullPolicy: Always\n",
      "          name: dask-worker\n",
      "          env:\n",
      "            - name: POD_IP\n",
      "              valueFrom:\n",
      "                fieldRef:\n",
      "                  fieldPath: status.podIP\n",
      "            - name: POD_NAME\n",
      "              valueFrom:\n",
      "                fieldRef:\n",
      "                  fieldPath: metadata.name\n",
      "            - name: EXTRA_PIP_PACKAGES\n",
      "              value: \n",
      "            - name: EXTRA_CONDA_PACKAGES\n",
      "              value:\n",
      "            - name: SE_ACCESS_KEY\n",
      "              value: 18c8f162ee474359ba3a6dbf08edca0f\n",
      "            - name: SE_SECRET_KEY\n",
      "              value: 733f24dbbef045b480da0fdd088a92b6\n",
      "          resources:\n",
      "            requests:\n",
      "              cpu: 1\n",
      "              memory: 20G\n",
      "            limits:\n",
      "              cpu: 1\n",
      "              memory: 20G\n",
      "          volumeMounts:\n",
      "            - mountPath: /shared_volume\n",
      "              name: site-data\n",
      "      volumes:\n",
      "        - name: site-data\n",
      "          persistentVolumeClaim:\n",
      "            claimName: dhlab-scratch\n",
      "    \n"
     ]
    },
    {
     "name": "stderr",
     "output_type": "stream",
     "text": [
      "distributed.client - ERROR - Failed to reconnect to scheduler after 10.00 seconds, closing client\n",
      "distributed.client - ERROR - Failed to reconnect to scheduler after 10.00 seconds, closing client\n",
      "distributed.client - ERROR - Failed to reconnect to scheduler after 10.00 seconds, closing client\n",
      "distributed.client - ERROR - Failed to reconnect to scheduler after 10.00 seconds, closing client\n",
      "distributed.client - ERROR - Failed to reconnect to scheduler after 10.00 seconds, closing client\n",
      "distributed.client - ERROR - Failed to reconnect to scheduler after 10.00 seconds, closing client\n",
      "distributed.client - ERROR - Failed to reconnect to scheduler after 10.00 seconds, closing client\n",
      "distributed.client - ERROR - Failed to reconnect to scheduler after 10.00 seconds, closing client\n",
      "_GatheringFuture exception was never retrieved\n",
      "future: <_GatheringFuture finished exception=CancelledError()>\n",
      "concurrent.futures._base.CancelledError\n",
      "_GatheringFuture exception was never retrieved\n",
      "future: <_GatheringFuture finished exception=CancelledError()>\n",
      "concurrent.futures._base.CancelledErrordistributed.client - ERROR - Failed to reconnect to scheduler after 10.00 seconds, closing client\n",
      "\n",
      "_GatheringFuture exception was never retrieved\n",
      "future: <_GatheringFuture finished exception=CancelledError()>\n",
      "concurrent.futures._base.CancelledErrordistributed.client - ERROR - Failed to reconnect to scheduler after 10.00 seconds, closing client\n",
      "\n",
      "distributed.client - ERROR - Failed to reconnect to scheduler after 10.00 seconds, closing client\n",
      "_GatheringFuture exception was never retrieved\n",
      "future: <_GatheringFuture finished exception=CancelledError()>\n",
      "concurrent.futures._base.CancelledError\n",
      "_GatheringFuture exception was never retrieved\n",
      "future: <_GatheringFuture finished exception=CancelledError()>\n",
      "concurrent.futures._base.CancelledError\n",
      "_GatheringFuture exception was never retrieved\n",
      "future: <_GatheringFuture finished exception=CancelledError()>\n",
      "concurrent.futures._base.CancelledError\n",
      "_GatheringFuture exception was never retrieved\n",
      "future: <_GatheringFuture finished exception=CancelledError()>\n",
      "concurrent.futures._base.CancelledError\n",
      "_GatheringFuture exception was never retrieved\n",
      "future: <_GatheringFuture finished exception=CancelledError()>\n",
      "concurrent.futures._base.CancelledError\n",
      "_GatheringFuture exception was never retrieved\n",
      "future: <_GatheringFuture finished exception=CancelledError()>\n",
      "concurrent.futures._base.CancelledError\n",
      "_GatheringFuture exception was never retrieved\n",
      "future: <_GatheringFuture finished exception=CancelledError()>\n",
      "concurrent.futures._base.CancelledError\n",
      "_GatheringFuture exception was never retrieved\n",
      "future: <_GatheringFuture finished exception=CancelledError()>\n",
      "concurrent.futures._base.CancelledError\n",
      "distributed.client - ERROR - Failed to reconnect to scheduler after 10.00 seconds, closing client\n",
      "distributed.client - ERROR - Failed to reconnect to scheduler after 10.00 seconds, closing client\n",
      "distributed.client - ERROR - Failed to reconnect to scheduler after 10.00 seconds, closing client\n",
      "distributed.client - ERROR - Failed to reconnect to scheduler after 10.00 seconds, closing client\n",
      "distributed.client - ERROR - Failed to reconnect to scheduler after 10.00 seconds, closing client\n",
      "distributed.client - ERROR - Failed to reconnect to scheduler after 10.00 seconds, closing client\n",
      "distributed.client - ERROR - Failed to reconnect to scheduler after 10.00 seconds, closing client\n",
      "distributed.client - ERROR - Failed to reconnect to scheduler after 10.00 seconds, closing client\n",
      "distributed.client - ERROR - Failed to reconnect to scheduler after 10.00 seconds, closing client\n",
      "_GatheringFuture exception was never retrieved\n",
      "future: <_GatheringFuture finished exception=CancelledError()>\n",
      "concurrent.futures._base.CancelledError\n",
      "_GatheringFuture exception was never retrieved\n",
      "future: <_GatheringFuture finished exception=CancelledError()>\n",
      "concurrent.futures._base.CancelledError\n",
      "_GatheringFuture exception was never retrieved\n",
      "future: <_GatheringFuture finished exception=CancelledError()>\n",
      "concurrent.futures._base.CancelledError\n",
      "_GatheringFuture exception was never retrieved\n",
      "future: <_GatheringFuture finished exception=CancelledError()>\n",
      "concurrent.futures._base.CancelledError\n",
      "_GatheringFuture exception was never retrieved\n",
      "future: <_GatheringFuture finished exception=CancelledError()>\n",
      "concurrent.futures._base.CancelledError\n",
      "_GatheringFuture exception was never retrieved\n",
      "future: <_GatheringFuture finished exception=CancelledError()>\n",
      "concurrent.futures._base.CancelledError\n",
      "_GatheringFuture exception was never retrieved\n",
      "future: <_GatheringFuture finished exception=CancelledError()>\n",
      "concurrent.futures._base.CancelledError\n",
      "_GatheringFuture exception was never retrieved\n",
      "future: <_GatheringFuture finished exception=CancelledError()>\n",
      "concurrent.futures._base.CancelledError\n",
      "_GatheringFuture exception was never retrieved\n",
      "future: <_GatheringFuture finished exception=CancelledError()>\n",
      "concurrent.futures._base.CancelledError\n"
     ]
    }
   ],
   "source": [
    "print(make_worker_configuration(\n",
    "        docker_image=image_uri,\n",
    "        memory=memory\n",
    "    ))"
   ]
  },
  {
   "cell_type": "code",
   "execution_count": 37,
   "metadata": {
    "code_folding": []
   },
   "outputs": [],
   "source": [
    "worker_config = \"\"\"\n",
    "      containers:\n",
    "        - image: ic-registry.epfl.ch/dhlab/impresso_pycommons:v1\n",
    "          args: [dask-worker, $(DASK_SCHEDULER_ADDRESS), --nthreads, '1', --no-bokeh, --memory-limit, 20G, --death-timeout, '120']\n",
    "          imagePullPolicy: Always\n",
    "          name: dask-worker\n",
    "          env:\n",
    "            - name: POD_IP\n",
    "              valueFrom:\n",
    "                fieldRef:\n",
    "                  fieldPath: status.podIP\n",
    "            - name: POD_NAME\n",
    "              valueFrom:\n",
    "                fieldRef:\n",
    "                  fieldPath: metadata.name\n",
    "            - name: EXTRA_PIP_PACKAGES\n",
    "              value: \n",
    "            - name: EXTRA_CONDA_PACKAGES\n",
    "              value:\n",
    "            - name: SE_ACCESS_KEY\n",
    "              value: 18c8f162ee474359ba3a6dbf08edca0f\n",
    "            - name: SE_SECRET_KEY\n",
    "              value: 733f24dbbef045b480da0fdd088a92b6\n",
    "          resources:\n",
    "            requests:\n",
    "              cpu: 1\n",
    "              memory: 20G\n",
    "            limits:\n",
    "              cpu: 1\n",
    "              memory: 20G\n",
    "          volumeMounts:\n",
    "            - mountPath: /shared_volume\n",
    "              name: site-data\n",
    "      volumes:\n",
    "        - name: site-data\n",
    "          persistentVolumeClaim:\n",
    "            claimName: dhlab-scratch\n",
    "\"\"\""
   ]
  },
  {
   "cell_type": "code",
   "execution_count": 38,
   "metadata": {},
   "outputs": [
    {
     "name": "stdout",
     "output_type": "stream",
     "text": [
      "Scheduler: tcp://10.90.49.5:10806\n",
      "Dashboard: http://10.90.49.5:11595\n"
     ]
    }
   ],
   "source": [
    "cluster = DaskCluster(\n",
    "    namespace=\"dhlab\",\n",
    "    cluster_id=\"impresso-load\",\n",
    "    scheduler_pod_spec=make_scheduler_configuration(),\n",
    "    worker_pod_spec=worker_config\n",
    ")\n",
    "cluster.create()\n",
    "cluster.scale(n_workers, blocking=False)\n",
    "dask_client = cluster.make_dask_client()"
   ]
  },
  {
   "cell_type": "code",
   "execution_count": 34,
   "metadata": {},
   "outputs": [],
   "source": [
    "cluster.close()"
   ]
  },
  {
   "cell_type": "code",
   "execution_count": 44,
   "metadata": {},
   "outputs": [
    {
     "data": {
      "text/html": [
       "<table style=\"border: 2px solid white;\">\n",
       "<tr>\n",
       "<td style=\"vertical-align: top; border: 0px solid white\">\n",
       "<h3 style=\"text-align: left;\">Client</h3>\n",
       "<ul style=\"text-align: left; list-style: none; margin: 0; padding: 0;\">\n",
       "  <li><b>Scheduler: </b>tcp://10.90.49.5:10806</li>\n",
       "  <li><b>Dashboard: </b><a href='http://10.90.49.5:8787/status' target='_blank'>http://10.90.49.5:8787/status</a></li>\n",
       "</ul>\n",
       "</td>\n",
       "<td style=\"vertical-align: top; border: 0px solid white\">\n",
       "<h3 style=\"text-align: left;\">Cluster</h3>\n",
       "<ul style=\"text-align: left; list-style:none; margin: 0; padding: 0;\">\n",
       "  <li><b>Workers: </b>59</li>\n",
       "  <li><b>Cores: </b>59</li>\n",
       "  <li><b>Memory: </b>1.18 TB</li>\n",
       "</ul>\n",
       "</td>\n",
       "</tr>\n",
       "</table>"
      ],
      "text/plain": [
       "<Client: 'tcp://10.233.122.16:8786' processes=46 threads=46, memory=920.00 GB>"
      ]
     },
     "execution_count": 44,
     "metadata": {},
     "output_type": "execute_result"
    }
   ],
   "source": [
    "dask_client"
   ]
  },
  {
   "cell_type": "markdown",
   "metadata": {},
   "source": [
    "## configuration"
   ]
  },
  {
   "cell_type": "code",
   "execution_count": 45,
   "metadata": {},
   "outputs": [],
   "source": [
    "S3_LANGID_BUCKET = \"s3://processed-canonical-data/langident/v01\"\n",
    "S3_OCRQA_BUCKET = \"s3://processed-canonical-data/ocrqa/ocrqa004/\"\n",
    "S3_CANONICAL_DATA_BUCKET = \"s3://original-canonical-fixed\"\n",
    "S3_REBUILT_DATA_BUCKET = \"s3://canonical-rebuilt-release\"\n",
    "S3_STATS_BUCKET = \"s3://impresso-stats/content-item-stats/\"\n",
    "S3_LINGPROCESSED_BUCKET = \"s3://processed-canonical-data/linguistic-processing/2020-03-11/\""
   ]
  },
  {
   "cell_type": "markdown",
   "metadata": {},
   "source": [
    "## read linguistically processed data"
   ]
  },
  {
   "cell_type": "code",
   "execution_count": 46,
   "metadata": {},
   "outputs": [],
   "source": [
    "input_files = fixed_s3fs_glob(\n",
    "    os.path.join(S3_LINGPROCESSED_BUCKET, '*.bz2')\n",
    ")"
   ]
  },
  {
   "cell_type": "code",
   "execution_count": 47,
   "metadata": {},
   "outputs": [
    {
     "data": {
      "text/plain": [
       "3040"
      ]
     },
     "execution_count": 47,
     "metadata": {},
     "output_type": "execute_result"
    }
   ],
   "source": [
    "len(input_files)"
   ]
  },
  {
   "cell_type": "code",
   "execution_count": 48,
   "metadata": {},
   "outputs": [],
   "source": [
    "test = db.read_text(\n",
    "    input_files,\n",
    "    storage_options=IMPRESSO_STORAGEOPT\n",
    ").map(json.loads)"
   ]
  },
  {
   "cell_type": "code",
   "execution_count": 49,
   "metadata": {},
   "outputs": [],
   "source": [
    "def docs2postags(documents):\n",
    "    return [\n",
    "        {\n",
    "            \"ci_id\": document['id'],\n",
    "            \"lang\": sentence['lg'],\n",
    "            \"pos\": token['p']\n",
    "        }\n",
    "        for document in documents\n",
    "        for sentence in document['sents']\n",
    "        for token in sentence['tok']\n",
    "    ]"
   ]
  },
  {
   "cell_type": "code",
   "execution_count": 50,
   "metadata": {},
   "outputs": [],
   "source": [
    "df = test.map_partitions(docs2postags).to_dataframe()"
   ]
  },
  {
   "cell_type": "code",
   "execution_count": 51,
   "metadata": {},
   "outputs": [],
   "source": [
    "pos_counts_df = pd.DataFrame(df.groupby(['lang', 'pos']).size().compute()).rename(columns={0: 'count'})"
   ]
  },
  {
   "cell_type": "code",
   "execution_count": 52,
   "metadata": {
    "collapsed": true
   },
   "outputs": [
    {
     "name": "stderr",
     "output_type": "stream",
     "text": [
      "distributed.client - ERROR - Failed to reconnect to scheduler after 10.00 seconds, closing client\n",
      "distributed.client - ERROR - Failed to reconnect to scheduler after 10.00 seconds, closing client\n",
      "distributed.client - ERROR - Failed to reconnect to scheduler after 10.00 seconds, closing client\n",
      "distributed.client - ERROR - Failed to reconnect to scheduler after 10.00 seconds, closing client\n",
      "distributed.client - ERROR - Failed to reconnect to scheduler after 10.00 seconds, closing client\n",
      "distributed.client - ERROR - Failed to reconnect to scheduler after 10.00 seconds, closing client\n",
      "distributed.client - ERROR - Failed to reconnect to scheduler after 10.00 seconds, closing client\n",
      "distributed.client - ERROR - Failed to reconnect to scheduler after 10.00 seconds, closing client\n",
      "distributed.client - ERROR - Failed to reconnect to scheduler after 10.00 seconds, closing client\n",
      "distributed.client - ERROR - Failed to reconnect to scheduler after 10.00 seconds, closing client\n",
      "distributed.client - ERROR - Failed to reconnect to scheduler after 10.00 seconds, closing client\n",
      "distributed.client - ERROR - Failed to reconnect to scheduler after 10.00 seconds, closing client\n",
      "distributed.client - ERROR - Failed to reconnect to scheduler after 10.00 seconds, closing client\n",
      "distributed.client - ERROR - Failed to reconnect to scheduler after 10.00 seconds, closing client\n",
      "_GatheringFuture exception was never retrieved\n",
      "future: <_GatheringFuture finished exception=CancelledError()>\n",
      "concurrent.futures._base.CancelledError\n",
      "distributed.client - ERROR - Failed to reconnect to scheduler after 10.00 seconds, closing client\n",
      "_GatheringFuture exception was never retrieved\n",
      "future: <_GatheringFuture finished exception=CancelledError()>\n",
      "concurrent.futures._base.CancelledError\n",
      "_GatheringFuture exception was never retrieved\n",
      "future: <_GatheringFuture finished exception=CancelledError()>\n",
      "concurrent.futures._base.CancelledError\n",
      "_GatheringFuture exception was never retrieved\n",
      "future: <_GatheringFuture finished exception=CancelledError()>\n",
      "concurrent.futures._base.CancelledError\n",
      "distributed.client - ERROR - Failed to reconnect to scheduler after 10.00 seconds, closing client\n",
      "_GatheringFuture exception was never retrieved\n",
      "future: <_GatheringFuture finished exception=CancelledError()>\n",
      "concurrent.futures._base.CancelledError\n",
      "distributed.client - ERROR - Failed to reconnect to scheduler after 10.00 seconds, closing client\n",
      "_GatheringFuture exception was never retrieved\n",
      "future: <_GatheringFuture finished exception=CancelledError()>\n",
      "concurrent.futures._base.CancelledError\n",
      "_GatheringFuture exception was never retrieved\n",
      "future: <_GatheringFuture finished exception=CancelledError()>\n",
      "concurrent.futures._base.CancelledError\n",
      "distributed.client - ERROR - Failed to reconnect to scheduler after 10.00 seconds, closing client\n",
      "_GatheringFuture exception was never retrieved\n",
      "future: <_GatheringFuture finished exception=CancelledError()>\n",
      "concurrent.futures._base.CancelledError\n",
      "_GatheringFuture exception was never retrieved\n",
      "future: <_GatheringFuture finished exception=CancelledError()>\n",
      "concurrent.futures._base.CancelledErrordistributed.client - ERROR - Failed to reconnect to scheduler after 10.00 seconds, closing client\n",
      "\n",
      "distributed.client - ERROR - Failed to reconnect to scheduler after 10.00 seconds, closing client\n",
      "_GatheringFuture exception was never retrieved\n",
      "future: <_GatheringFuture finished exception=CancelledError()>\n",
      "concurrent.futures._base.CancelledError\n",
      "_GatheringFuture exception was never retrieved\n",
      "future: <_GatheringFuture finished exception=CancelledError()>\n",
      "concurrent.futures._base.CancelledError\n",
      "_GatheringFuture exception was never retrieved\n",
      "future: <_GatheringFuture finished exception=CancelledError()>\n",
      "concurrent.futures._base.CancelledError\n",
      "_GatheringFuture exception was never retrieved\n",
      "future: <_GatheringFuture finished exception=CancelledError()>\n",
      "concurrent.futures._base.CancelledError\n",
      "_GatheringFuture exception was never retrieved\n",
      "future: <_GatheringFuture finished exception=CancelledError()>\n",
      "concurrent.futures._base.CancelledError\n",
      "_GatheringFuture exception was never retrieved\n",
      "future: <_GatheringFuture finished exception=CancelledError()>\n",
      "concurrent.futures._base.CancelledError\n",
      "_GatheringFuture exception was never retrieved\n",
      "future: <_GatheringFuture finished exception=CancelledError()>\n",
      "concurrent.futures._base.CancelledError\n",
      "_GatheringFuture exception was never retrieved\n",
      "future: <_GatheringFuture finished exception=CancelledError()>\n",
      "concurrent.futures._base.CancelledError\n",
      "_GatheringFuture exception was never retrieved\n",
      "future: <_GatheringFuture finished exception=CancelledError()>\n",
      "concurrent.futures._base.CancelledError\n",
      "_GatheringFuture exception was never retrieved\n",
      "future: <_GatheringFuture finished exception=CancelledError()>\n",
      "concurrent.futures._base.CancelledError\n",
      "_GatheringFuture exception was never retrieved\n",
      "future: <_GatheringFuture finished exception=CancelledError()>\n",
      "concurrent.futures._base.CancelledError\n"
     ]
    }
   ],
   "source": [
    "cluster.close()"
   ]
  },
  {
   "cell_type": "code",
   "execution_count": 61,
   "metadata": {},
   "outputs": [
    {
     "data": {
      "text/html": [
       "<div>\n",
       "<style scoped>\n",
       "    .dataframe tbody tr th:only-of-type {\n",
       "        vertical-align: middle;\n",
       "    }\n",
       "\n",
       "    .dataframe tbody tr th {\n",
       "        vertical-align: top;\n",
       "    }\n",
       "\n",
       "    .dataframe thead th {\n",
       "        text-align: right;\n",
       "    }\n",
       "</style>\n",
       "<table border=\"1\" class=\"dataframe\">\n",
       "  <thead>\n",
       "    <tr style=\"text-align: right;\">\n",
       "      <th></th>\n",
       "      <th></th>\n",
       "      <th>count</th>\n",
       "    </tr>\n",
       "    <tr>\n",
       "      <th>lang</th>\n",
       "      <th>pos</th>\n",
       "      <th></th>\n",
       "    </tr>\n",
       "  </thead>\n",
       "  <tbody>\n",
       "    <tr>\n",
       "      <th rowspan=\"5\" valign=\"top\">fr</th>\n",
       "      <th></th>\n",
       "      <td>1635211</td>\n",
       "    </tr>\n",
       "    <tr>\n",
       "      <th>ADJ</th>\n",
       "      <td>552447071</td>\n",
       "    </tr>\n",
       "    <tr>\n",
       "      <th>ADP</th>\n",
       "      <td>1030500176</td>\n",
       "    </tr>\n",
       "    <tr>\n",
       "      <th>ADV</th>\n",
       "      <td>309902383</td>\n",
       "    </tr>\n",
       "    <tr>\n",
       "      <th>AUX</th>\n",
       "      <td>260788440</td>\n",
       "    </tr>\n",
       "    <tr>\n",
       "      <th>...</th>\n",
       "      <th>...</th>\n",
       "      <td>...</td>\n",
       "    </tr>\n",
       "    <tr>\n",
       "      <th rowspan=\"4\" valign=\"top\">lb</th>\n",
       "      <th>VERB</th>\n",
       "      <td>1097844</td>\n",
       "    </tr>\n",
       "    <tr>\n",
       "      <th>AUX</th>\n",
       "      <td>387595</td>\n",
       "    </tr>\n",
       "    <tr>\n",
       "      <th>X</th>\n",
       "      <td>1711</td>\n",
       "    </tr>\n",
       "    <tr>\n",
       "      <th>SPACE</th>\n",
       "      <td>499</td>\n",
       "    </tr>\n",
       "    <tr>\n",
       "      <th>en</th>\n",
       "      <th>SPACE</th>\n",
       "      <td>5</td>\n",
       "    </tr>\n",
       "  </tbody>\n",
       "</table>\n",
       "<p>66 rows × 1 columns</p>\n",
       "</div>"
      ],
      "text/plain": [
       "                 count\n",
       "lang pos              \n",
       "fr             1635211\n",
       "     ADJ     552447071\n",
       "     ADP    1030500176\n",
       "     ADV     309902383\n",
       "     AUX     260788440\n",
       "...                ...\n",
       "lb   VERB      1097844\n",
       "     AUX        387595\n",
       "     X            1711\n",
       "     SPACE         499\n",
       "en   SPACE           5\n",
       "\n",
       "[66 rows x 1 columns]"
      ]
     },
     "execution_count": 61,
     "metadata": {},
     "output_type": "execute_result"
    }
   ],
   "source": [
    "pos_counts_df"
   ]
  },
  {
   "cell_type": "code",
   "execution_count": 54,
   "metadata": {},
   "outputs": [
    {
     "data": {
      "text/plain": [
       "14604674510"
      ]
     },
     "execution_count": 54,
     "metadata": {},
     "output_type": "execute_result"
    }
   ],
   "source": [
    "pos_counts_df['count'].sum()"
   ]
  },
  {
   "cell_type": "code",
   "execution_count": 63,
   "metadata": {},
   "outputs": [
    {
     "data": {
      "text/plain": [
       "<matplotlib.axes._subplots.AxesSubplot at 0x7fa0e0e32a20>"
      ]
     },
     "execution_count": 63,
     "metadata": {},
     "output_type": "execute_result"
    },
    {
     "data": {
      "image/png": "[encoded data removed]",
      "text/plain": [
       "<Figure size 720x576 with 1 Axes>"
      ]
     },
     "metadata": {
      "needs_background": "light"
     },
     "output_type": "display_data"
    }
   ],
   "source": [
    "pos_counts_df.unstack().plot(kind='bar', figsize=(10, 8))"
   ]
  },
  {
   "cell_type": "code",
   "execution_count": 66,
   "metadata": {},
   "outputs": [
    {
     "data": {
      "text/plain": [
       "<matplotlib.axes._subplots.AxesSubplot at 0x7fa0d00c5278>"
      ]
     },
     "execution_count": 66,
     "metadata": {},
     "output_type": "execute_result"
    },
    {
     "data": {
      "image/png": "[encoded data removed]",
      "text/plain": [
       "<Figure size 1152x576 with 1 Axes>"
      ]
     },
     "metadata": {
      "needs_background": "light"
     },
     "output_type": "display_data"
    }
   ],
   "source": [
    "pos_counts_df.unstack().plot(\n",
    "    kind='bar',\n",
    "    figsize=(16, 8),\n",
    "    logy=True,\n",
    "    \n",
    ")"
   ]
  },
  {
   "cell_type": "markdown",
   "metadata": {},
   "source": [
    "The PoS tagset used by spacy can be found [here](https://spacy.io/api/annotation)\n",
    "\n",
    "- `ADJ`\t*adjective*\tbig, old, green, incomprehensible, first\n",
    "- `ADP`\t*adposition*\tin, to, during\n",
    "- `ADV`\t*adverb*\tvery, tomorrow, down, where, there\n",
    "- `AUX`\t*auxiliary*\tis, has (done), will (do), should (do)\n",
    "- `CONJ`\t*conjunction*\tand, or, but\n",
    "- `CCONJ`\t*coordinating conjunction*\tand, or, but\n",
    "- `DET`\t*determiner*\ta, an, the\n",
    "- `INTJ`\t*interjection*\tpsst, ouch, bravo, hello\n",
    "- `NOUN`\t*noun*\tgirl, cat, tree, air, beauty\n",
    "- `NUM`\t*numeral*\t1, 2017, one, seventy-seven, IV, MMXIV\n",
    "- `PART`\t*particle*\t’s, not,\n",
    "- `PRON`\t*pronoun*\tI, you, he, she, myself, themselves, somebody\n",
    "- `PROPN`\t*proper noun*\tMary, John, London, NATO, HBO\n",
    "- `PUNCT`\t*punctuation*\t., (, ), ?\n",
    "- `SCONJ`\t*subordinating conjunction*\tif, while, that\n",
    "- `SYM`\t*symbol*\t$, %, §, ©, +, −, ×, ÷, =, :), 😝\n",
    "- `VERB`\t*verb*\trun, runs, running, eat, ate, eating\n",
    "- `X`\t*other*\tsfpksdpsxmsa\n",
    "- `SPACE`\t*space*"
   ]
  },
  {
   "cell_type": "code",
   "execution_count": 172,
   "metadata": {},
   "outputs": [],
   "source": [
    "postag_whitelist = [\n",
    "    'NOUN', 'NUM', 'PROPN', 'VERB', 'ADJ'\n",
    "]"
   ]
  },
  {
   "cell_type": "code",
   "execution_count": 169,
   "metadata": {},
   "outputs": [
    {
     "name": "stdout",
     "output_type": "stream",
     "text": [
      "de ADJ 302598008\n",
      "de ADP 300593197\n",
      "de ADV 173025728\n",
      "de AUX 86019268\n",
      "de CCONJ 83644396\n",
      "de DET 335061025\n",
      "de INTJ 380468\n",
      "de NOUN 776736218\n",
      "de NUM 190571510\n",
      "de PART 32634508\n",
      "de PRON 129238012\n",
      "de PROPN 508591936\n",
      "de PUNCT 1112841276\n",
      "de SCONJ 29415104\n",
      "de SPACE 30023\n",
      "de VERB 265143104\n",
      "de X 284525503\n",
      "en ADJ 124415\n",
      "en ADP 109382\n",
      "en ADV 38654\n",
      "en AUX 30185\n",
      "en CCONJ 50437\n",
      "en DET 99755\n",
      "en INTJ 23776\n",
      "en NOUN 561926\n",
      "en NUM 639248\n",
      "en PART 17575\n",
      "en PRON 30300\n",
      "en PROPN 1277407\n",
      "en PUNCT 1589996\n",
      "en SCONJ 11563\n",
      "en SPACE 5\n",
      "en SYM 35047\n",
      "en VERB 108977\n",
      "en X 76802\n",
      "fr  1635211\n",
      "fr ADJ 552447071\n",
      "fr ADP 1030500176\n",
      "fr ADV 309902383\n",
      "fr AUX 260788440\n",
      "fr CCONJ 207330699\n",
      "fr DET 1075882026\n",
      "fr INTJ 858671\n",
      "fr NOUN 2092955413\n",
      "fr NUM 578054716\n",
      "fr PART 919177\n",
      "fr PRON 407388010\n",
      "fr PROPN 1042696683\n",
      "fr PUNCT 1631150626\n",
      "fr SCONJ 96099101\n",
      "fr SPACE 8816\n",
      "fr VERB 628529309\n",
      "fr X 61943995\n",
      "lb ADJ 646058\n",
      "lb ADP 813268\n",
      "lb ADV 1218322\n",
      "lb AUX 387595\n",
      "lb CONJ 446204\n",
      "lb DET 930131\n",
      "lb NOUN 1730308\n",
      "lb NUM 401757\n",
      "lb PART 219439\n",
      "lb PUNCT 1816117\n",
      "lb SPACE 499\n",
      "lb VERB 1097844\n",
      "lb X 1711\n"
     ]
    }
   ],
   "source": [
    "total_tokens_n = 0\n",
    "kept_tokens_n = 0\n",
    "\n",
    "for lang in list(pos_counts_df.unstack().index):\n",
    "    for column, pos_tag in pos_counts_df.unstack().loc[lang].index:\n",
    "        idx = (column, pos_tag)\n",
    "        \n",
    "        if pos_tag in postag_whitelist:\n",
    "            n_tokens = pos_counts_df.unstack().loc[lang].loc[idx]\n",
    "            if not pd.isnull(n_tokens):\n",
    "                kept_tokens_n += int(n_tokens)\n",
    "                print(lang, pos_tag, int(n_tokens))\n",
    "        else:\n",
    "            n_tokens = pos_counts_df.unstack().loc[lang].loc[idx]\n",
    "            if not pd.isnull(n_tokens):\n",
    "                total_tokens_n += int(n_tokens)\n",
    "                print(lang, pos_tag, int(n_tokens))"
   ]
  },
  {
   "cell_type": "code",
   "execution_count": 170,
   "metadata": {},
   "outputs": [
    {
     "data": {
      "text/plain": [
       "8515578154"
      ]
     },
     "execution_count": 170,
     "metadata": {},
     "output_type": "execute_result"
    }
   ],
   "source": [
    "total_tokens_n"
   ]
  },
  {
   "cell_type": "code",
   "execution_count": 171,
   "metadata": {},
   "outputs": [
    {
     "data": {
      "text/plain": [
       "6089096356"
      ]
     },
     "execution_count": 171,
     "metadata": {},
     "output_type": "execute_result"
    }
   ],
   "source": [
    "kept_tokens_n"
   ]
  },
  {
   "cell_type": "markdown",
   "metadata": {},
   "source": [
    "\\# 1 billion adjectives"
   ]
  },
  {
   "cell_type": "code",
   "execution_count": null,
   "metadata": {},
   "outputs": [],
   "source": []
  }
 ],
 "metadata": {
  "kernelspec": {
   "display_name": "Python 3",
   "language": "python",
   "name": "python3"
  },
  "language_info": {
   "codemirror_mode": {
    "name": "ipython",
    "version": 3
   },
   "file_extension": ".py",
   "mimetype": "text/x-python",
   "name": "python",
   "nbconvert_exporter": "python",
   "pygments_lexer": "ipython3",
   "version": "3.6.7"
  },
  "toc": {
   "base_numbering": 1,
   "nav_menu": {},
   "number_sections": false,
   "sideBar": true,
   "skip_h1_title": true,
   "title_cell": "Table of Contents",
   "title_sidebar": "Contents",
   "toc_cell": false,
   "toc_position": {
    "height": "calc(100% - 180px)",
    "left": "10px",
    "top": "150px",
    "width": "262.391px"
   },
   "toc_section_display": true,
   "toc_window_display": true
  }
 },
 "nbformat": 4,
 "nbformat_minor": 2
}
