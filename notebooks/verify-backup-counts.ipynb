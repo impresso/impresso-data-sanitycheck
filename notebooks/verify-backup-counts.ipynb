{
 "cells": [
  {
   "cell_type": "markdown",
   "metadata": {},
   "source": [
    "**Desc**:\n",
    "\n",
    "Verify the doc counts that Maud has done on the release backup data:\n",
    "\n",
    "> siclemat and @matteo as you might have seen I pushed the manifests and script on the only existing branch in impresso-data-release. I put both folders for last and current release in this branch. Once you’ve validated things we could merge.\n",
    " I re-executed rclone on all components. Here are a couple of counts on the backup (NAS):\n",
    "- number of content items in issues (not useful I know, that was a mistake, but since I have the count…) : 47,816,371\n",
    "- number of issues: 603,864\n",
    "- number of topic assignments: 42,394,381"
   ]
  },
  {
   "cell_type": "markdown",
   "metadata": {},
   "source": [
    "## Imports"
   ]
  },
  {
   "cell_type": "code",
   "execution_count": 1,
   "metadata": {},
   "outputs": [],
   "source": [
    "import os, sys\n",
    "sys.path.append(\"../\")\n",
    "import pandas as pd\n",
    "import json\n",
    "from dask import bag as db\n",
    "from dask_k8 import DaskCluster\n",
    "from dask.distributed import Client\n",
    "from impresso_commons.utils.s3 import IMPRESSO_STORAGEOPT, fixed_s3fs_glob\n",
    "from impresso_commons.utils.s3 import alternative_read_text\n",
    "from impresso_commons.utils.kube import (make_scheduler_configuration,\n",
    "                                         make_worker_configuration)\n",
    "from sanity_check.contents.s3_data import list_files_rebuilt, list_pages"
   ]
  },
  {
   "cell_type": "markdown",
   "metadata": {},
   "source": [
    "## Functions"
   ]
  },
  {
   "cell_type": "code",
   "execution_count": 7,
   "metadata": {},
   "outputs": [],
   "source": [
    "S3_CANONICAL_DATA_BUCKET = \"s3://original-canonical-release\"\n",
    "S3_REBUILT_DATA_BUCKET = \"s3://canonical-rebuilt-release\""
   ]
  },
  {
   "cell_type": "code",
   "execution_count": 13,
   "metadata": {
    "code_folding": []
   },
   "outputs": [],
   "source": [
    "from typing import List\n",
    "from sanity_check.contents.s3_data import list_newspapers\n",
    "\n",
    "def list_issues(bucket_name: str = S3_CANONICAL_DATA_BUCKET, newspapers : List = []):\n",
    "    if newspapers:\n",
    "        pass\n",
    "    else:\n",
    "        if bucket_name:\n",
    "            newspapers = list_newspapers(bucket_name)\n",
    "        else:\n",
    "            newspapers = list_newspapers()\n",
    "    print(f'Issues for these newspapers will be listed: {newspapers}')\n",
    "    issue_files = [\n",
    "        file\n",
    "        for np in newspapers\n",
    "        for file in fixed_s3fs_glob(f\"{os.path.join(bucket_name, f'{np}/issues/*')}\")\n",
    "    ]\n",
    "    print(f\"{bucket_name} contains {len(issue_files)} .bz2 files with issues\")\n",
    "    return issue_files"
   ]
  },
  {
   "cell_type": "code",
   "execution_count": 5,
   "metadata": {
    "code_folding": []
   },
   "outputs": [],
   "source": [
    "def fetch_issues(bucket_name=S3_CANONICAL_DATA_BUCKET, newspapers=[], compute=True):\n",
    "    \"\"\"\n",
    "    Fetch issue JSON docs from an s3 bucket with impresso canonical data.\n",
    "    \"\"\"\n",
    "    if newspapers:\n",
    "        issue_files = list_issues(bucket_name, newspapers)\n",
    "    else:\n",
    "        issue_files = list_issues(bucket_name)\n",
    "\n",
    "    print(\n",
    "        (\n",
    "            f\"Fetching issue ids from {len(issue_files)} .bz2 files \"\n",
    "            f\"(compute={compute})\"\n",
    "        )\n",
    "    )\n",
    "    issue_bag = db.read_text(issue_files, storage_options=IMPRESSO_STORAGEOPT).map(\n",
    "        json.loads\n",
    "    )\n",
    "\n",
    "    if compute:\n",
    "        return issue_bag.compute()\n",
    "    else:\n",
    "        return issue_bag"
   ]
  },
  {
   "cell_type": "code",
   "execution_count": 6,
   "metadata": {
    "code_folding": [
     0
    ]
   },
   "outputs": [],
   "source": [
    "def start_cluster(n_workers : int = 10, worker_memory : str = '1G', blocking : bool = False):\n",
    "    cluster = DaskCluster(\n",
    "        namespace=\"dhlab\",\n",
    "        cluster_id=\"impresso-sanitycheck\",\n",
    "        scheduler_pod_spec=make_scheduler_configuration(),\n",
    "        worker_pod_spec=make_worker_configuration(\n",
    "            docker_image=\"ic-registry.epfl.ch/dhlab/impresso_pycommons:v1\",\n",
    "            memory=worker_memory\n",
    "        )\n",
    "    )\n",
    "    cluster.create()\n",
    "    cluster.scale(n_workers, blocking=False)\n",
    "    return cluster, cluster.make_dask_client()"
   ]
  },
  {
   "cell_type": "markdown",
   "metadata": {},
   "source": [
    "## dask k8 cluster"
   ]
  },
  {
   "cell_type": "code",
   "execution_count": 9,
   "metadata": {},
   "outputs": [
    {
     "name": "stdout",
     "output_type": "stream",
     "text": [
      "Scheduler: tcp://10.90.47.13:19713\n",
      "Dashboard: http://10.90.47.13:8211\n"
     ]
    }
   ],
   "source": [
    "dask_cluster, dask_client = start_cluster(n_workers=100, worker_memory='2G')"
   ]
  },
  {
   "cell_type": "code",
   "execution_count": 11,
   "metadata": {},
   "outputs": [
    {
     "data": {
      "text/html": [
       "<table style=\"border: 2px solid white;\">\n",
       "<tr>\n",
       "<td style=\"vertical-align: top; border: 0px solid white\">\n",
       "<h3 style=\"text-align: left;\">Client</h3>\n",
       "<ul style=\"text-align: left; list-style: none; margin: 0; padding: 0;\">\n",
       "  <li><b>Scheduler: </b>tcp://10.90.47.13:19713</li>\n",
       "  <li><b>Dashboard: </b><a href='http://10.90.47.13:8787/status' target='_blank'>http://10.90.47.13:8787/status</a></li>\n",
       "</ul>\n",
       "</td>\n",
       "<td style=\"vertical-align: top; border: 0px solid white\">\n",
       "<h3 style=\"text-align: left;\">Cluster</h3>\n",
       "<ul style=\"text-align: left; list-style:none; margin: 0; padding: 0;\">\n",
       "  <li><b>Workers: </b>100</li>\n",
       "  <li><b>Cores: </b>100</li>\n",
       "  <li><b>Memory: </b>200.00 GB</li>\n",
       "</ul>\n",
       "</td>\n",
       "</tr>\n",
       "</table>"
      ],
      "text/plain": [
       "<Client: 'tcp://10.233.92.176:8786' processes=100 threads=100, memory=200.00 GB>"
      ]
     },
     "execution_count": 11,
     "metadata": {},
     "output_type": "execute_result"
    }
   ],
   "source": [
    "dask_client"
   ]
  },
  {
   "cell_type": "markdown",
   "metadata": {},
   "source": [
    "## Verify canonical counts"
   ]
  },
  {
   "cell_type": "code",
   "execution_count": 18,
   "metadata": {},
   "outputs": [
    {
     "name": "stdout",
     "output_type": "stream",
     "text": [
      "Fetching list of newspapers from s3://original-canonical-release\n",
      "original-canonical-release contains 78 newspapers\n"
     ]
    }
   ],
   "source": [
    "release_newspapers = list_newspapers(S3_CANONICAL_DATA_BUCKET)"
   ]
  },
  {
   "cell_type": "code",
   "execution_count": 19,
   "metadata": {},
   "outputs": [
    {
     "name": "stdout",
     "output_type": "stream",
     "text": [
      "Issues for these newspapers will be listed: {'LLS', 'luxwort', 'buergerbeamten', 'waechtersauer', 'onsjongen', 'tageblatt', 'LBP', 'luxland', 'obermosel', 'LCE', 'luxzeit1858', 'dunioun', 'deletz1893', 'LLE', 'WHD', 'JDF', 'JDV', 'BDC', 'OIZ', 'JDG', 'DVF', 'lunion', 'EZR', 'GDL', 'LNF', 'arbeitgeber', 'CDV', 'GAV', 'SGZ', 'indeplux', 'NTS', 'demitock', 'SMZ', 'DTT', 'LCR', 'luxembourg1935', 'SRT', 'MGS', 'HRV', 'waeschfra', 'FZG', 'DFS', 'LSE', 'BNN', 'LSR', 'ZBT', 'LES', 'actionfem', 'avenirgdl', 'NZG', 'CON', 'NZZ', 'LCS', 'SAX', 'armeteufel', 'kommmit', 'landwortbild', 'EDA', 'handelsztg', 'diekwochen', 'IMP', 'LVE', 'FCT', 'schmiede', 'luxzeit1844', 'BLB', 'EXP', 'DLE', 'LTF', 'gazgrdlux', 'courriergdl', 'SDT', 'GAZ', 'LCG', 'VDR', 'volkfreu1869', 'LAB', 'VHT'}\n",
      "s3://original-canonical-release contains 3101 .bz2 files with issues\n"
     ]
    }
   ],
   "source": [
    "canonical_issue_files = list_issues(newspapers=release_newspapers)"
   ]
  },
  {
   "cell_type": "code",
   "execution_count": 20,
   "metadata": {},
   "outputs": [
    {
     "data": {
      "text/plain": [
       "3101"
      ]
     },
     "execution_count": 20,
     "metadata": {},
     "output_type": "execute_result"
    }
   ],
   "source": [
    "len(canonical_issue_files)"
   ]
  },
  {
   "cell_type": "code",
   "execution_count": 23,
   "metadata": {},
   "outputs": [
    {
     "name": "stdout",
     "output_type": "stream",
     "text": [
      "Issues for these newspapers will be listed: {'LLS', 'luxwort', 'buergerbeamten', 'waechtersauer', 'onsjongen', 'tageblatt', 'LBP', 'luxland', 'obermosel', 'LCE', 'luxzeit1858', 'dunioun', 'deletz1893', 'LLE', 'WHD', 'JDF', 'JDV', 'BDC', 'OIZ', 'JDG', 'DVF', 'lunion', 'EZR', 'GDL', 'LNF', 'arbeitgeber', 'CDV', 'GAV', 'SGZ', 'indeplux', 'NTS', 'demitock', 'SMZ', 'DTT', 'LCR', 'luxembourg1935', 'SRT', 'MGS', 'HRV', 'waeschfra', 'FZG', 'DFS', 'LSE', 'BNN', 'LSR', 'ZBT', 'LES', 'actionfem', 'avenirgdl', 'NZG', 'CON', 'NZZ', 'LCS', 'SAX', 'armeteufel', 'kommmit', 'landwortbild', 'EDA', 'handelsztg', 'diekwochen', 'IMP', 'LVE', 'FCT', 'schmiede', 'luxzeit1844', 'BLB', 'EXP', 'DLE', 'LTF', 'gazgrdlux', 'courriergdl', 'SDT', 'GAZ', 'LCG', 'VDR', 'volkfreu1869', 'LAB', 'VHT'}\n",
      "s3://original-canonical-release contains 3101 .bz2 files with issues\n",
      "Fetching issue ids from 3101 .bz2 files (compute=False)\n"
     ]
    }
   ],
   "source": [
    "canonical_issue_bag = fetch_issues(S3_CANONICAL_DATA_BUCKET, compute=False, newspapers=release_newspapers)"
   ]
  },
  {
   "cell_type": "code",
   "execution_count": 24,
   "metadata": {},
   "outputs": [
    {
     "data": {
      "text/plain": [
       "603864"
      ]
     },
     "execution_count": 24,
     "metadata": {},
     "output_type": "execute_result"
    }
   ],
   "source": [
    "canonical_issue_bag.count().compute()"
   ]
  },
  {
   "cell_type": "markdown",
   "metadata": {},
   "source": [
    "## Verify topic assignment counts"
   ]
  },
  {
   "cell_type": "code",
   "execution_count": 26,
   "metadata": {},
   "outputs": [],
   "source": [
    "bucket_name = \"s3://processed-canonical-data/topics/v2.0/\""
   ]
  },
  {
   "cell_type": "code",
   "execution_count": 27,
   "metadata": {},
   "outputs": [],
   "source": [
    "topic_assign_files = fixed_s3fs_glob(f\"{os.path.join(bucket_name, '*.bz2')}\")"
   ]
  },
  {
   "cell_type": "code",
   "execution_count": 28,
   "metadata": {},
   "outputs": [
    {
     "data": {
      "text/plain": [
       "['s3://processed-canonical-data/topics/v2.0/tm-de-all-v2.0/topic_model_topic_assignment.jsonl.bz2',\n",
       " 's3://processed-canonical-data/topics/v2.0/tm-de-all-v2.0/topic_model_topic_description.jsonl.bz2',\n",
       " 's3://processed-canonical-data/topics/v2.0/tm-fr-all-v2.0/topic_model_topic_assignment.jsonl.bz2',\n",
       " 's3://processed-canonical-data/topics/v2.0/tm-fr-all-v2.0/topic_model_topic_description.jsonl.bz2',\n",
       " 's3://processed-canonical-data/topics/v2.0/tm-lb-all-v2.0/topic_model_topic_assignment.jsonl.bz2',\n",
       " 's3://processed-canonical-data/topics/v2.0/tm-lb-all-v2.0/topic_model_topic_description.jsonl.bz2']"
      ]
     },
     "execution_count": 28,
     "metadata": {},
     "output_type": "execute_result"
    }
   ],
   "source": [
    "topic_assign_files"
   ]
  },
  {
   "cell_type": "code",
   "execution_count": 29,
   "metadata": {},
   "outputs": [],
   "source": [
    "topic_assign_bag = db.read_text(topic_assign_files, storage_options=IMPRESSO_STORAGEOPT).map(json.loads)"
   ]
  },
  {
   "cell_type": "code",
   "execution_count": 35,
   "metadata": {},
   "outputs": [
    {
     "data": {
      "text/plain": [
       "42394681"
      ]
     },
     "execution_count": 35,
     "metadata": {},
     "output_type": "execute_result"
    }
   ],
   "source": [
    "topic_assign_bag.count().compute()"
   ]
  },
  {
   "cell_type": "markdown",
   "metadata": {},
   "source": [
    "## Release resources"
   ]
  },
  {
   "cell_type": "code",
   "execution_count": 37,
   "metadata": {},
   "outputs": [],
   "source": [
    "dask_cluster.close()"
   ]
  }
 ],
 "metadata": {
  "kernelspec": {
   "display_name": "Python 3",
   "language": "python",
   "name": "python3"
  },
  "language_info": {
   "codemirror_mode": {
    "name": "ipython",
    "version": 3
   },
   "file_extension": ".py",
   "mimetype": "text/x-python",
   "name": "python",
   "nbconvert_exporter": "python",
   "pygments_lexer": "ipython3",
   "version": "3.7.4"
  },
  "toc": {
   "base_numbering": 1,
   "nav_menu": {},
   "number_sections": true,
   "sideBar": true,
   "skip_h1_title": false,
   "title_cell": "Table of Contents",
   "title_sidebar": "Contents",
   "toc_cell": false,
   "toc_position": {},
   "toc_section_display": true,
   "toc_window_display": false
  }
 },
 "nbformat": 4,
 "nbformat_minor": 4
}
