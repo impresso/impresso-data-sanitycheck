{
 "cells": [
  {
   "cell_type": "markdown",
   "metadata": {},
   "source": [
    "# Lux data sampling"
   ]
  },
  {
   "cell_type": "markdown",
   "metadata": {},
   "source": [
    "**Goal**: sample of Lux data to test `spellux` lemmatization\n",
    "\n",
    "**Logic**:\n",
    "- ..."
   ]
  },
  {
   "cell_type": "markdown",
   "metadata": {},
   "source": [
    "## imports"
   ]
  },
  {
   "cell_type": "code",
   "execution_count": 175,
   "metadata": {},
   "outputs": [],
   "source": [
    "from impresso_commons.utils.s3 import get_s3_client, alternative_read_text, IMPRESSO_STORAGEOPT\n",
    "from impresso_commons.utils.s3 import fixed_s3fs_glob\n",
    "from impresso_commons.utils.kube import (\n",
    "    make_scheduler_configuration,\n",
    "    make_worker_configuration,\n",
    ")\n",
    "from dask_k8 import DaskCluster\n",
    "from dask import bag as db\n",
    "from dask.distributed import Client\n",
    "import json\n",
    "import os\n",
    "import codecs"
   ]
  },
  {
   "cell_type": "markdown",
   "metadata": {},
   "source": [
    "## setup dask k8 cluster"
   ]
  },
  {
   "cell_type": "code",
   "execution_count": 176,
   "metadata": {},
   "outputs": [],
   "source": [
    "# dask_client = Client()\n",
    "# dask_client.scheduler_info()['services']['dashboard']"
   ]
  },
  {
   "cell_type": "code",
   "execution_count": 102,
   "metadata": {},
   "outputs": [],
   "source": [
    "image_uri = \"ic-registry.epfl.ch/dhlab/impresso_data-sanity-check:v1\"\n",
    "memory = \"10G\"\n",
    "# memory = \"1G\"\n",
    "n_workers = 100"
   ]
  },
  {
   "cell_type": "code",
   "execution_count": 103,
   "metadata": {},
   "outputs": [
    {
     "name": "stdout",
     "output_type": "stream",
     "text": [
      "\n",
      "      containers:\n",
      "        - image: ic-registry.epfl.ch/dhlab/impresso_data-sanity-check:v1\n",
      "          args: [dask-worker, $(DASK_SCHEDULER_ADDRESS), --nthreads, '1', --no-bokeh, --memory-limit, 10G, --death-timeout, '120']\n",
      "          imagePullPolicy: Always\n",
      "          name: dask-worker\n",
      "          env:\n",
      "            - name: POD_IP\n",
      "              valueFrom:\n",
      "                fieldRef:\n",
      "                  fieldPath: status.podIP\n",
      "            - name: POD_NAME\n",
      "              valueFrom:\n",
      "                fieldRef:\n",
      "                  fieldPath: metadata.name\n",
      "            - name: EXTRA_PIP_PACKAGES\n",
      "              value: \n",
      "            - name: EXTRA_CONDA_PACKAGES\n",
      "              value:\n",
      "            - name: SE_ACCESS_KEY\n",
      "              value: 18c8f162ee474359ba3a6dbf08edca0f\n",
      "            - name: SE_SECRET_KEY\n",
      "              value: 733f24dbbef045b480da0fdd088a92b6\n",
      "          resources:\n",
      "            requests:\n",
      "              cpu: 1\n",
      "              memory: 10G\n",
      "            limits:\n",
      "              cpu: 1\n",
      "              memory: 10G\n",
      "          volumeMounts:\n",
      "            - mountPath: /scratch\n",
      "              name: scratch\n",
      "              subPath: romanell\n",
      "      volumes:\n",
      "        - name: scratch\n",
      "          persistentVolumeClaim:\n",
      "            claimName: dhlab-scratch-tmp\n",
      "    \n"
     ]
    }
   ],
   "source": [
    "print(make_worker_configuration(\n",
    "        docker_image=image_uri,\n",
    "        memory=memory\n",
    "    ))"
   ]
  },
  {
   "cell_type": "code",
   "execution_count": 177,
   "metadata": {
    "code_folding": []
   },
   "outputs": [],
   "source": [
    "worker_config = \"\"\"\n",
    "      containers:\n",
    "        - image: ic-registry.epfl.ch/dhlab/impresso_data-sanity-check:v1\n",
    "          args: [dask-worker, $(DASK_SCHEDULER_ADDRESS), --nthreads, '1', --no-bokeh, --memory-limit, 10G, --death-timeout, '120']\n",
    "          imagePullPolicy: Always\n",
    "          name: dask-worker\n",
    "          env:\n",
    "            - name: POD_IP\n",
    "              valueFrom:\n",
    "                fieldRef:\n",
    "                  fieldPath: status.podIP\n",
    "            - name: POD_NAME\n",
    "              valueFrom:\n",
    "                fieldRef:\n",
    "                  fieldPath: metadata.name\n",
    "            - name: EXTRA_PIP_PACKAGES\n",
    "              value: \n",
    "            - name: EXTRA_CONDA_PACKAGES\n",
    "              value:\n",
    "            - name: SE_ACCESS_KEY\n",
    "              value: 18c8f162ee474359ba3a6dbf08edca0f\n",
    "            - name: SE_SECRET_KEY\n",
    "              value: 733f24dbbef045b480da0fdd088a92b6\n",
    "          resources:\n",
    "            requests:\n",
    "              cpu: 1\n",
    "              memory: 10G\n",
    "            limits:\n",
    "              cpu: 1\n",
    "              memory: 10G\n",
    "          volumeMounts:\n",
    "            - mountPath: /scratch\n",
    "              name: scratch\n",
    "              subPath: romanell\n",
    "      volumes:\n",
    "        - name: scratch\n",
    "          persistentVolumeClaim:\n",
    "            claimName: dhlab-scratch\n",
    "\"\"\""
   ]
  },
  {
   "cell_type": "code",
   "execution_count": 178,
   "metadata": {},
   "outputs": [
    {
     "name": "stdout",
     "output_type": "stream",
     "text": [
      "Scheduler: tcp://10.90.50.17:30316\n",
      "Dashboard: http://10.90.50.17:10012\n"
     ]
    }
   ],
   "source": [
    "cluster = DaskCluster(\n",
    "    namespace=\"dhlab\",\n",
    "    cluster_id=\"impresso-load\",\n",
    "    scheduler_pod_spec=make_scheduler_configuration(),\n",
    "    worker_pod_spec=worker_config\n",
    ")\n",
    "cluster.create()\n",
    "cluster.scale(n_workers, blocking=False)\n",
    "dask_client = cluster.make_dask_client()"
   ]
  },
  {
   "cell_type": "code",
   "execution_count": 179,
   "metadata": {},
   "outputs": [
    {
     "data": {
      "text/html": [
       "<table style=\"border: 2px solid white;\">\n",
       "<tr>\n",
       "<td style=\"vertical-align: top; border: 0px solid white\">\n",
       "<h3 style=\"text-align: left;\">Client</h3>\n",
       "<ul style=\"text-align: left; list-style: none; margin: 0; padding: 0;\">\n",
       "  <li><b>Scheduler: </b>tcp://10.90.50.17:30316</li>\n",
       "  <li><b>Dashboard: </b><a href='http://10.90.50.17:8787/status' target='_blank'>http://10.90.50.17:8787/status</a>\n",
       "</ul>\n",
       "</td>\n",
       "<td style=\"vertical-align: top; border: 0px solid white\">\n",
       "<h3 style=\"text-align: left;\">Cluster</h3>\n",
       "<ul style=\"text-align: left; list-style:none; margin: 0; padding: 0;\">\n",
       "  <li><b>Workers: </b>100</li>\n",
       "  <li><b>Cores: </b>100</li>\n",
       "  <li><b>Memory: </b>1000.00 GB</li>\n",
       "</ul>\n",
       "</td>\n",
       "</tr>\n",
       "</table>"
      ],
      "text/plain": [
       "<Client: scheduler='tcp://10.233.94.222:8786' processes=100 cores=100>"
      ]
     },
     "execution_count": 179,
     "metadata": {},
     "output_type": "execute_result"
    }
   ],
   "source": [
    "dask_client"
   ]
  },
  {
   "cell_type": "markdown",
   "metadata": {},
   "source": [
    "## configuration"
   ]
  },
  {
   "cell_type": "code",
   "execution_count": 68,
   "metadata": {},
   "outputs": [],
   "source": [
    "S3_LANGID_BUCKET = \"s3://processed-canonical-data/langident/v01\"\n",
    "S3_OCRQA_BUCKET = \"s3://processed-canonical-data/ocrqa/ocrqa004/\"\n",
    "S3_CANONICAL_DATA_BUCKET = \"s3://original-canonical-fixed\"\n",
    "S3_REBUILT_DATA_BUCKET = \"s3://canonical-rebuilt-release\"\n",
    "S3_STATS_BUCKET = \"s3://impresso-stats/content-item-stats/\"\n",
    "S3_LINGPROCESSED_BUCKET = \"s3://processed-canonical-data/linguistic-processing/2020-03-11/\""
   ]
  },
  {
   "cell_type": "markdown",
   "metadata": {},
   "source": [
    "## read language identification data"
   ]
  },
  {
   "cell_type": "code",
   "execution_count": 10,
   "metadata": {
    "code_folding": [
     0
    ]
   },
   "outputs": [],
   "source": [
    "def list_newspapers(bucket_name=S3_CANONICAL_DATA_BUCKET, s3_client=get_s3_client()):\n",
    "    \"\"\"List newspapers contained in an s3 bucket with impresso data.\"\"\"\n",
    "    print(f'Fetching list of newspapers from {bucket_name}')\n",
    "\n",
    "    if \"s3://\" in bucket_name:\n",
    "        bucket_name = bucket_name.replace(\"s3://\", \"\") #.split(\"/\")[0]\n",
    "\n",
    "    paginator = s3_client.get_paginator('list_objects')\n",
    "\n",
    "    newspapers = set()\n",
    "    for n, resp in enumerate(paginator.paginate(Bucket=bucket_name, PaginationConfig={'PageSize': 10000})):\n",
    "        # means the bucket is empty\n",
    "        if 'Contents' not in resp:\n",
    "            continue\n",
    "\n",
    "        for f in resp['Contents']:\n",
    "            newspapers.add(f[\"Key\"].split(\"/\")[0])\n",
    "    print(f'{bucket_name} contains {len(newspapers)} newspapers')\n",
    "    return newspapers"
   ]
  },
  {
   "cell_type": "code",
   "execution_count": 11,
   "metadata": {},
   "outputs": [
    {
     "name": "stdout",
     "output_type": "stream",
     "text": [
      "Fetching list of newspapers from s3://canonical-rebuilt-release\n",
      "canonical-rebuilt-release contains 76 newspapers\n"
     ]
    }
   ],
   "source": [
    "nps = list_newspapers(S3_REBUILT_DATA_BUCKET)"
   ]
  },
  {
   "cell_type": "code",
   "execution_count": 12,
   "metadata": {},
   "outputs": [
    {
     "data": {
      "text/plain": [
       "76"
      ]
     },
     "execution_count": 12,
     "metadata": {},
     "output_type": "execute_result"
    }
   ],
   "source": [
    "len(nps)"
   ]
  },
  {
   "cell_type": "code",
   "execution_count": 13,
   "metadata": {},
   "outputs": [],
   "source": [
    "lang_ident_files = [\n",
    "    f\"{os.path.join(S3_LANGID_BUCKET, np, '*.bz2')}\"\n",
    "    for np in nps\n",
    "]"
   ]
  },
  {
   "cell_type": "code",
   "execution_count": 14,
   "metadata": {},
   "outputs": [],
   "source": [
    "lang_df = db.read_text(\n",
    "    lang_ident_files,\n",
    "    storage_options=IMPRESSO_STORAGEOPT\n",
    ").map(json.loads)\\\n",
    ".to_dataframe()[['cid', 'lg', 'tp', 'orig_lg']].set_index('cid')\\\n",
    ".repartition(partition_size=\"100MB\").persist()"
   ]
  },
  {
   "cell_type": "code",
   "execution_count": 15,
   "metadata": {},
   "outputs": [
    {
     "data": {
      "text/plain": [
       "118"
      ]
     },
     "execution_count": 15,
     "metadata": {},
     "output_type": "execute_result"
    }
   ],
   "source": [
    "lang_df.npartitions"
   ]
  },
  {
   "cell_type": "code",
   "execution_count": 16,
   "metadata": {},
   "outputs": [
    {
     "data": {
      "text/plain": [
       "35900085"
      ]
     },
     "execution_count": 16,
     "metadata": {},
     "output_type": "execute_result"
    }
   ],
   "source": [
    "lang_df[lang_df.lg=='fr'].shape[0].compute()"
   ]
  },
  {
   "cell_type": "code",
   "execution_count": 37,
   "metadata": {},
   "outputs": [
    {
     "data": {
      "text/plain": [
       "8266928"
      ]
     },
     "execution_count": 37,
     "metadata": {},
     "output_type": "execute_result"
    }
   ],
   "source": [
    "lang_df[lang_df.lg=='de'].shape[0].compute()"
   ]
  },
  {
   "cell_type": "code",
   "execution_count": 35,
   "metadata": {},
   "outputs": [
    {
     "data": {
      "text/plain": [
       "42086"
      ]
     },
     "execution_count": 35,
     "metadata": {},
     "output_type": "execute_result"
    }
   ],
   "source": [
    "lang_df[lang_df.lg=='lb'].shape[0].compute()"
   ]
  },
  {
   "cell_type": "code",
   "execution_count": 21,
   "metadata": {},
   "outputs": [],
   "source": [
    "lux_df = lang_df[lang_df.lg=='lb'].compute()"
   ]
  },
  {
   "cell_type": "code",
   "execution_count": 22,
   "metadata": {},
   "outputs": [],
   "source": [
    "lux_df['year'] =  lux_df.index.map(lambda cid: int(cid.split('-')[1]))"
   ]
  },
  {
   "cell_type": "code",
   "execution_count": 23,
   "metadata": {},
   "outputs": [],
   "source": [
    "lux_df['np-year'] =  lux_df.index.map(lambda cid: f\"{cid.split('-')[0]}-{cid.split('-')[1]}\")"
   ]
  },
  {
   "cell_type": "code",
   "execution_count": 24,
   "metadata": {},
   "outputs": [
    {
     "data": {
      "text/html": [
       "<div>\n",
       "<style scoped>\n",
       "    .dataframe tbody tr th:only-of-type {\n",
       "        vertical-align: middle;\n",
       "    }\n",
       "\n",
       "    .dataframe tbody tr th {\n",
       "        vertical-align: top;\n",
       "    }\n",
       "\n",
       "    .dataframe thead th {\n",
       "        text-align: right;\n",
       "    }\n",
       "</style>\n",
       "<table border=\"1\" class=\"dataframe\">\n",
       "  <thead>\n",
       "    <tr style=\"text-align: right;\">\n",
       "      <th></th>\n",
       "      <th>lg</th>\n",
       "      <th>tp</th>\n",
       "      <th>orig_lg</th>\n",
       "      <th>year</th>\n",
       "      <th>np-year</th>\n",
       "    </tr>\n",
       "    <tr>\n",
       "      <th>cid</th>\n",
       "      <th></th>\n",
       "      <th></th>\n",
       "      <th></th>\n",
       "      <th></th>\n",
       "      <th></th>\n",
       "    </tr>\n",
       "  </thead>\n",
       "  <tbody>\n",
       "    <tr>\n",
       "      <th>actionfem-1929-01-15-a-i0009</th>\n",
       "      <td>lb</td>\n",
       "      <td>ar</td>\n",
       "      <td>lb</td>\n",
       "      <td>1929</td>\n",
       "      <td>actionfem-1929</td>\n",
       "    </tr>\n",
       "    <tr>\n",
       "      <th>actionfem-1929-01-15-a-i0010</th>\n",
       "      <td>lb</td>\n",
       "      <td>ar</td>\n",
       "      <td>lb</td>\n",
       "      <td>1929</td>\n",
       "      <td>actionfem-1929</td>\n",
       "    </tr>\n",
       "    <tr>\n",
       "      <th>actionfem-1929-02-15-a-i0009</th>\n",
       "      <td>lb</td>\n",
       "      <td>ar</td>\n",
       "      <td>lb</td>\n",
       "      <td>1929</td>\n",
       "      <td>actionfem-1929</td>\n",
       "    </tr>\n",
       "    <tr>\n",
       "      <th>actionfem-1929-03-15-a-i0003</th>\n",
       "      <td>lb</td>\n",
       "      <td>ar</td>\n",
       "      <td>lb</td>\n",
       "      <td>1929</td>\n",
       "      <td>actionfem-1929</td>\n",
       "    </tr>\n",
       "    <tr>\n",
       "      <th>actionfem-1929-05-15-a-i0005</th>\n",
       "      <td>lb</td>\n",
       "      <td>ar</td>\n",
       "      <td>lb</td>\n",
       "      <td>1929</td>\n",
       "      <td>actionfem-1929</td>\n",
       "    </tr>\n",
       "  </tbody>\n",
       "</table>\n",
       "</div>"
      ],
      "text/plain": [
       "                              lg  tp orig_lg  year         np-year\n",
       "cid                                                               \n",
       "actionfem-1929-01-15-a-i0009  lb  ar      lb  1929  actionfem-1929\n",
       "actionfem-1929-01-15-a-i0010  lb  ar      lb  1929  actionfem-1929\n",
       "actionfem-1929-02-15-a-i0009  lb  ar      lb  1929  actionfem-1929\n",
       "actionfem-1929-03-15-a-i0003  lb  ar      lb  1929  actionfem-1929\n",
       "actionfem-1929-05-15-a-i0005  lb  ar      lb  1929  actionfem-1929"
      ]
     },
     "execution_count": 24,
     "metadata": {},
     "output_type": "execute_result"
    }
   ],
   "source": [
    "lux_df.head()"
   ]
  },
  {
   "cell_type": "code",
   "execution_count": 25,
   "metadata": {},
   "outputs": [
    {
     "data": {
      "text/plain": [
       "<matplotlib.axes._subplots.AxesSubplot at 0x7f837b35afd0>"
      ]
     },
     "execution_count": 25,
     "metadata": {},
     "output_type": "execute_result"
    },
    {
     "data": {
      "image/png": "[encoded data removed]",
      "text/plain": [
       "<Figure size 1008x504 with 1 Axes>"
      ]
     },
     "metadata": {
      "needs_background": "light"
     },
     "output_type": "display_data"
    }
   ],
   "source": [
    "%matplotlib inline\n",
    "lux_df.groupby(by='year').size().plot(kind='bar', figsize=(14, 7))"
   ]
  },
  {
   "cell_type": "code",
   "execution_count": 26,
   "metadata": {},
   "outputs": [
    {
     "data": {
      "text/plain": [
       "<matplotlib.axes._subplots.AxesSubplot at 0x7f83798ec518>"
      ]
     },
     "execution_count": 26,
     "metadata": {},
     "output_type": "execute_result"
    },
    {
     "data": {
      "image/png": "[encoded data removed]",
      "text/plain": [
       "<Figure size 1008x504 with 1 Axes>"
      ]
     },
     "metadata": {
      "needs_background": "light"
     },
     "output_type": "display_data"
    }
   ],
   "source": [
    "%matplotlib inline\n",
    "lux_df.groupby(by='year').size().plot(kind='bar', figsize=(14, 7), logy=True)"
   ]
  },
  {
   "cell_type": "markdown",
   "metadata": {},
   "source": [
    "take home message:\n",
    "- Lux language is present over ~110 years within our corpus\n",
    "- but for half of the years (n = 32, out of 61), there are 100 or less Lux articles (per year)"
   ]
  },
  {
   "cell_type": "markdown",
   "metadata": {},
   "source": [
    "## read content item stats"
   ]
  },
  {
   "cell_type": "code",
   "execution_count": 29,
   "metadata": {},
   "outputs": [],
   "source": [
    "from dask import dataframe as ddf\n",
    "\n",
    "ci_stats_df = ddf.read_csv(\n",
    "    f\"{os.path.join(S3_STATS_BUCKET, '*')}\",\n",
    "    storage_options=IMPRESSO_STORAGEOPT\n",
    ").fillna(0).astype(\n",
    "    {\n",
    "        'title_length':'int64',\n",
    "        'n_tokens': 'int64',\n",
    "        'year': 'int64',\n",
    "        'newspaper': 'str',\n",
    "        'type': 'str'\n",
    "    }\n",
    ").set_index('id').persist()"
   ]
  },
  {
   "cell_type": "code",
   "execution_count": 30,
   "metadata": {},
   "outputs": [
    {
     "data": {
      "text/html": [
       "<div>\n",
       "<style scoped>\n",
       "    .dataframe tbody tr th:only-of-type {\n",
       "        vertical-align: middle;\n",
       "    }\n",
       "\n",
       "    .dataframe tbody tr th {\n",
       "        vertical-align: top;\n",
       "    }\n",
       "\n",
       "    .dataframe thead th {\n",
       "        text-align: right;\n",
       "    }\n",
       "</style>\n",
       "<table border=\"1\" class=\"dataframe\">\n",
       "  <thead>\n",
       "    <tr style=\"text-align: right;\">\n",
       "      <th></th>\n",
       "      <th>year</th>\n",
       "      <th>newspaper</th>\n",
       "      <th>type</th>\n",
       "      <th>n_tokens</th>\n",
       "      <th>title_length</th>\n",
       "    </tr>\n",
       "    <tr>\n",
       "      <th>id</th>\n",
       "      <th></th>\n",
       "      <th></th>\n",
       "      <th></th>\n",
       "      <th></th>\n",
       "      <th></th>\n",
       "    </tr>\n",
       "  </thead>\n",
       "  <tbody>\n",
       "    <tr>\n",
       "      <th>BDC-1839-01-20-a-i0001</th>\n",
       "      <td>1839</td>\n",
       "      <td>BDC</td>\n",
       "      <td>ar</td>\n",
       "      <td>250</td>\n",
       "      <td>4</td>\n",
       "    </tr>\n",
       "    <tr>\n",
       "      <th>BDC-1839-01-20-a-i0002</th>\n",
       "      <td>1839</td>\n",
       "      <td>BDC</td>\n",
       "      <td>ar</td>\n",
       "      <td>758</td>\n",
       "      <td>0</td>\n",
       "    </tr>\n",
       "    <tr>\n",
       "      <th>BDC-1839-01-20-a-i0003</th>\n",
       "      <td>1839</td>\n",
       "      <td>BDC</td>\n",
       "      <td>ar</td>\n",
       "      <td>14</td>\n",
       "      <td>31</td>\n",
       "    </tr>\n",
       "    <tr>\n",
       "      <th>BDC-1839-01-20-a-i0004</th>\n",
       "      <td>1839</td>\n",
       "      <td>BDC</td>\n",
       "      <td>ar</td>\n",
       "      <td>349</td>\n",
       "      <td>22</td>\n",
       "    </tr>\n",
       "    <tr>\n",
       "      <th>BDC-1839-01-20-a-i0005</th>\n",
       "      <td>1839</td>\n",
       "      <td>BDC</td>\n",
       "      <td>ar</td>\n",
       "      <td>193</td>\n",
       "      <td>0</td>\n",
       "    </tr>\n",
       "  </tbody>\n",
       "</table>\n",
       "</div>"
      ],
      "text/plain": [
       "                        year newspaper type  n_tokens  title_length\n",
       "id                                                                 \n",
       "BDC-1839-01-20-a-i0001  1839       BDC   ar       250             4\n",
       "BDC-1839-01-20-a-i0002  1839       BDC   ar       758             0\n",
       "BDC-1839-01-20-a-i0003  1839       BDC   ar        14            31\n",
       "BDC-1839-01-20-a-i0004  1839       BDC   ar       349            22\n",
       "BDC-1839-01-20-a-i0005  1839       BDC   ar       193             0"
      ]
     },
     "execution_count": 30,
     "metadata": {},
     "output_type": "execute_result"
    }
   ],
   "source": [
    "ci_stats_df.head()"
   ]
  },
  {
   "cell_type": "code",
   "execution_count": 32,
   "metadata": {},
   "outputs": [
    {
     "data": {
      "text/html": [
       "<div>\n",
       "<style scoped>\n",
       "    .dataframe tbody tr th:only-of-type {\n",
       "        vertical-align: middle;\n",
       "    }\n",
       "\n",
       "    .dataframe tbody tr th {\n",
       "        vertical-align: top;\n",
       "    }\n",
       "\n",
       "    .dataframe thead th {\n",
       "        text-align: right;\n",
       "    }\n",
       "</style>\n",
       "<table border=\"1\" class=\"dataframe\">\n",
       "  <thead>\n",
       "    <tr style=\"text-align: right;\">\n",
       "      <th></th>\n",
       "      <th>lg</th>\n",
       "      <th>tp</th>\n",
       "      <th>orig_lg</th>\n",
       "      <th>year</th>\n",
       "      <th>np-year</th>\n",
       "    </tr>\n",
       "    <tr>\n",
       "      <th>cid</th>\n",
       "      <th></th>\n",
       "      <th></th>\n",
       "      <th></th>\n",
       "      <th></th>\n",
       "      <th></th>\n",
       "    </tr>\n",
       "  </thead>\n",
       "  <tbody>\n",
       "    <tr>\n",
       "      <th>actionfem-1929-01-15-a-i0009</th>\n",
       "      <td>lb</td>\n",
       "      <td>ar</td>\n",
       "      <td>lb</td>\n",
       "      <td>1929</td>\n",
       "      <td>actionfem-1929</td>\n",
       "    </tr>\n",
       "    <tr>\n",
       "      <th>actionfem-1929-01-15-a-i0010</th>\n",
       "      <td>lb</td>\n",
       "      <td>ar</td>\n",
       "      <td>lb</td>\n",
       "      <td>1929</td>\n",
       "      <td>actionfem-1929</td>\n",
       "    </tr>\n",
       "    <tr>\n",
       "      <th>actionfem-1929-02-15-a-i0009</th>\n",
       "      <td>lb</td>\n",
       "      <td>ar</td>\n",
       "      <td>lb</td>\n",
       "      <td>1929</td>\n",
       "      <td>actionfem-1929</td>\n",
       "    </tr>\n",
       "    <tr>\n",
       "      <th>actionfem-1929-03-15-a-i0003</th>\n",
       "      <td>lb</td>\n",
       "      <td>ar</td>\n",
       "      <td>lb</td>\n",
       "      <td>1929</td>\n",
       "      <td>actionfem-1929</td>\n",
       "    </tr>\n",
       "    <tr>\n",
       "      <th>actionfem-1929-05-15-a-i0005</th>\n",
       "      <td>lb</td>\n",
       "      <td>ar</td>\n",
       "      <td>lb</td>\n",
       "      <td>1929</td>\n",
       "      <td>actionfem-1929</td>\n",
       "    </tr>\n",
       "  </tbody>\n",
       "</table>\n",
       "</div>"
      ],
      "text/plain": [
       "                              lg  tp orig_lg  year         np-year\n",
       "cid                                                               \n",
       "actionfem-1929-01-15-a-i0009  lb  ar      lb  1929  actionfem-1929\n",
       "actionfem-1929-01-15-a-i0010  lb  ar      lb  1929  actionfem-1929\n",
       "actionfem-1929-02-15-a-i0009  lb  ar      lb  1929  actionfem-1929\n",
       "actionfem-1929-03-15-a-i0003  lb  ar      lb  1929  actionfem-1929\n",
       "actionfem-1929-05-15-a-i0005  lb  ar      lb  1929  actionfem-1929"
      ]
     },
     "execution_count": 32,
     "metadata": {},
     "output_type": "execute_result"
    }
   ],
   "source": [
    "lux_df.head()"
   ]
  },
  {
   "cell_type": "code",
   "execution_count": 38,
   "metadata": {},
   "outputs": [],
   "source": [
    "# the join between a Dask Dataframe and a pandas one\n",
    "# does not quite work. thus conversion before join is necessary\n",
    "lux_ddf = ddf.from_pandas(lux_df, npartitions=100)"
   ]
  },
  {
   "cell_type": "code",
   "execution_count": 42,
   "metadata": {},
   "outputs": [],
   "source": [
    "lux_df = lux_ddf.join(ci_stats_df[['n_tokens']], how='inner').compute()"
   ]
  },
  {
   "cell_type": "code",
   "execution_count": 44,
   "metadata": {},
   "outputs": [
    {
     "data": {
      "text/html": [
       "<div>\n",
       "<style scoped>\n",
       "    .dataframe tbody tr th:only-of-type {\n",
       "        vertical-align: middle;\n",
       "    }\n",
       "\n",
       "    .dataframe tbody tr th {\n",
       "        vertical-align: top;\n",
       "    }\n",
       "\n",
       "    .dataframe thead th {\n",
       "        text-align: right;\n",
       "    }\n",
       "</style>\n",
       "<table border=\"1\" class=\"dataframe\">\n",
       "  <thead>\n",
       "    <tr style=\"text-align: right;\">\n",
       "      <th></th>\n",
       "      <th>lg</th>\n",
       "      <th>tp</th>\n",
       "      <th>orig_lg</th>\n",
       "      <th>year</th>\n",
       "      <th>np-year</th>\n",
       "      <th>n_tokens</th>\n",
       "    </tr>\n",
       "  </thead>\n",
       "  <tbody>\n",
       "    <tr>\n",
       "      <th>actionfem-1929-01-15-a-i0009</th>\n",
       "      <td>lb</td>\n",
       "      <td>ar</td>\n",
       "      <td>lb</td>\n",
       "      <td>1929</td>\n",
       "      <td>actionfem-1929</td>\n",
       "      <td>2</td>\n",
       "    </tr>\n",
       "    <tr>\n",
       "      <th>actionfem-1929-01-15-a-i0010</th>\n",
       "      <td>lb</td>\n",
       "      <td>ar</td>\n",
       "      <td>lb</td>\n",
       "      <td>1929</td>\n",
       "      <td>actionfem-1929</td>\n",
       "      <td>7</td>\n",
       "    </tr>\n",
       "    <tr>\n",
       "      <th>actionfem-1929-02-15-a-i0009</th>\n",
       "      <td>lb</td>\n",
       "      <td>ar</td>\n",
       "      <td>lb</td>\n",
       "      <td>1929</td>\n",
       "      <td>actionfem-1929</td>\n",
       "      <td>2</td>\n",
       "    </tr>\n",
       "    <tr>\n",
       "      <th>actionfem-1929-03-15-a-i0003</th>\n",
       "      <td>lb</td>\n",
       "      <td>ar</td>\n",
       "      <td>lb</td>\n",
       "      <td>1929</td>\n",
       "      <td>actionfem-1929</td>\n",
       "      <td>5</td>\n",
       "    </tr>\n",
       "    <tr>\n",
       "      <th>actionfem-1929-05-15-a-i0005</th>\n",
       "      <td>lb</td>\n",
       "      <td>ar</td>\n",
       "      <td>lb</td>\n",
       "      <td>1929</td>\n",
       "      <td>actionfem-1929</td>\n",
       "      <td>124</td>\n",
       "    </tr>\n",
       "  </tbody>\n",
       "</table>\n",
       "</div>"
      ],
      "text/plain": [
       "                              lg  tp orig_lg  year         np-year  n_tokens\n",
       "actionfem-1929-01-15-a-i0009  lb  ar      lb  1929  actionfem-1929         2\n",
       "actionfem-1929-01-15-a-i0010  lb  ar      lb  1929  actionfem-1929         7\n",
       "actionfem-1929-02-15-a-i0009  lb  ar      lb  1929  actionfem-1929         2\n",
       "actionfem-1929-03-15-a-i0003  lb  ar      lb  1929  actionfem-1929         5\n",
       "actionfem-1929-05-15-a-i0005  lb  ar      lb  1929  actionfem-1929       124"
      ]
     },
     "execution_count": 44,
     "metadata": {},
     "output_type": "execute_result"
    }
   ],
   "source": [
    "lux_df.head()"
   ]
  },
  {
   "cell_type": "markdown",
   "metadata": {},
   "source": [
    "## read OCR QA data\n",
    "\n",
    "- read ocr qa data only for newspaper-years for which we have some articles in Lux\n",
    "- join together `lux_df` and ocr qa information\n",
    "- look at distribution of values\n",
    "- select a random sample by decade (size = 2 ?) and get the content item ids"
   ]
  },
  {
   "cell_type": "code",
   "execution_count": 45,
   "metadata": {},
   "outputs": [],
   "source": [
    "lb_nps = set([\n",
    "    x.split('-')[0]\n",
    "    for x in list(lux_df['np-year'].unique())\n",
    "])"
   ]
  },
  {
   "cell_type": "code",
   "execution_count": 46,
   "metadata": {},
   "outputs": [
    {
     "data": {
      "text/plain": [
       "13"
      ]
     },
     "execution_count": 46,
     "metadata": {},
     "output_type": "execute_result"
    }
   ],
   "source": [
    "len(lb_nps)"
   ]
  },
  {
   "cell_type": "code",
   "execution_count": 48,
   "metadata": {},
   "outputs": [],
   "source": [
    "ocrqa_files = [\n",
    "    f\"{os.path.join(S3_OCRQA_BUCKET, f'{np}_ocrqa.jsonl.bz2')}\"\n",
    "    for np in lb_nps\n",
    "]"
   ]
  },
  {
   "cell_type": "code",
   "execution_count": 49,
   "metadata": {},
   "outputs": [],
   "source": [
    "ocrqa_lux_ddf = db.read_text(\n",
    "    ocrqa_files,\n",
    "    storage_options=IMPRESSO_STORAGEOPT\n",
    ").map(json.loads)\\\n",
    ".to_dataframe().set_index('ci_ref')\\\n",
    ".repartition(partition_size=\"100MB\").persist()"
   ]
  },
  {
   "cell_type": "code",
   "execution_count": 50,
   "metadata": {},
   "outputs": [
    {
     "data": {
      "text/plain": [
       "1895508"
      ]
     },
     "execution_count": 50,
     "metadata": {},
     "output_type": "execute_result"
    }
   ],
   "source": [
    "ocrqa_lux_ddf.shape[0].compute()"
   ]
  },
  {
   "cell_type": "code",
   "execution_count": 51,
   "metadata": {},
   "outputs": [
    {
     "data": {
      "text/plain": [
       "1895508"
      ]
     },
     "execution_count": 51,
     "metadata": {},
     "output_type": "execute_result"
    }
   ],
   "source": [
    "ocrqa_lux_ddf.index.nunique().compute()"
   ]
  },
  {
   "cell_type": "code",
   "execution_count": 52,
   "metadata": {},
   "outputs": [
    {
     "data": {
      "text/html": [
       "<div>\n",
       "<style scoped>\n",
       "    .dataframe tbody tr th:only-of-type {\n",
       "        vertical-align: middle;\n",
       "    }\n",
       "\n",
       "    .dataframe tbody tr th {\n",
       "        vertical-align: top;\n",
       "    }\n",
       "\n",
       "    .dataframe thead th {\n",
       "        text-align: right;\n",
       "    }\n",
       "</style>\n",
       "<table border=\"1\" class=\"dataframe\">\n",
       "  <thead>\n",
       "    <tr style=\"text-align: right;\">\n",
       "      <th></th>\n",
       "      <th>ocrqa</th>\n",
       "    </tr>\n",
       "    <tr>\n",
       "      <th>ci_ref</th>\n",
       "      <th></th>\n",
       "    </tr>\n",
       "  </thead>\n",
       "  <tbody>\n",
       "    <tr>\n",
       "      <th>actionfem-1927-10-15-a-i0001</th>\n",
       "      <td>0.91</td>\n",
       "    </tr>\n",
       "    <tr>\n",
       "      <th>actionfem-1927-10-15-a-i0002</th>\n",
       "      <td>0.81</td>\n",
       "    </tr>\n",
       "    <tr>\n",
       "      <th>actionfem-1927-10-15-a-i0003</th>\n",
       "      <td>0.73</td>\n",
       "    </tr>\n",
       "    <tr>\n",
       "      <th>actionfem-1927-10-15-a-i0004</th>\n",
       "      <td>0.79</td>\n",
       "    </tr>\n",
       "    <tr>\n",
       "      <th>actionfem-1927-10-15-a-i0005</th>\n",
       "      <td>0.82</td>\n",
       "    </tr>\n",
       "  </tbody>\n",
       "</table>\n",
       "</div>"
      ],
      "text/plain": [
       "                              ocrqa\n",
       "ci_ref                             \n",
       "actionfem-1927-10-15-a-i0001   0.91\n",
       "actionfem-1927-10-15-a-i0002   0.81\n",
       "actionfem-1927-10-15-a-i0003   0.73\n",
       "actionfem-1927-10-15-a-i0004   0.79\n",
       "actionfem-1927-10-15-a-i0005   0.82"
      ]
     },
     "execution_count": 52,
     "metadata": {},
     "output_type": "execute_result"
    }
   ],
   "source": [
    "ocrqa_lux_ddf.head()"
   ]
  },
  {
   "cell_type": "code",
   "execution_count": 53,
   "metadata": {},
   "outputs": [],
   "source": [
    "ocrqa_lux_df = ocrqa_lux_ddf.compute()"
   ]
  },
  {
   "cell_type": "code",
   "execution_count": 54,
   "metadata": {},
   "outputs": [
    {
     "data": {
      "text/html": [
       "<div>\n",
       "<style scoped>\n",
       "    .dataframe tbody tr th:only-of-type {\n",
       "        vertical-align: middle;\n",
       "    }\n",
       "\n",
       "    .dataframe tbody tr th {\n",
       "        vertical-align: top;\n",
       "    }\n",
       "\n",
       "    .dataframe thead th {\n",
       "        text-align: right;\n",
       "    }\n",
       "</style>\n",
       "<table border=\"1\" class=\"dataframe\">\n",
       "  <thead>\n",
       "    <tr style=\"text-align: right;\">\n",
       "      <th></th>\n",
       "      <th>ocrqa</th>\n",
       "    </tr>\n",
       "    <tr>\n",
       "      <th>ci_ref</th>\n",
       "      <th></th>\n",
       "    </tr>\n",
       "  </thead>\n",
       "  <tbody>\n",
       "    <tr>\n",
       "      <th>actionfem-1927-10-15-a-i0001</th>\n",
       "      <td>0.91</td>\n",
       "    </tr>\n",
       "    <tr>\n",
       "      <th>actionfem-1927-10-15-a-i0002</th>\n",
       "      <td>0.81</td>\n",
       "    </tr>\n",
       "    <tr>\n",
       "      <th>actionfem-1927-10-15-a-i0003</th>\n",
       "      <td>0.73</td>\n",
       "    </tr>\n",
       "    <tr>\n",
       "      <th>actionfem-1927-10-15-a-i0004</th>\n",
       "      <td>0.79</td>\n",
       "    </tr>\n",
       "    <tr>\n",
       "      <th>actionfem-1927-10-15-a-i0005</th>\n",
       "      <td>0.82</td>\n",
       "    </tr>\n",
       "  </tbody>\n",
       "</table>\n",
       "</div>"
      ],
      "text/plain": [
       "                              ocrqa\n",
       "ci_ref                             \n",
       "actionfem-1927-10-15-a-i0001   0.91\n",
       "actionfem-1927-10-15-a-i0002   0.81\n",
       "actionfem-1927-10-15-a-i0003   0.73\n",
       "actionfem-1927-10-15-a-i0004   0.79\n",
       "actionfem-1927-10-15-a-i0005   0.82"
      ]
     },
     "execution_count": 54,
     "metadata": {},
     "output_type": "execute_result"
    }
   ],
   "source": [
    "ocrqa_lux_df.head()"
   ]
  },
  {
   "cell_type": "code",
   "execution_count": 55,
   "metadata": {},
   "outputs": [],
   "source": [
    "df = lux_df.join(ocrqa_lux_df, how='inner')"
   ]
  },
  {
   "cell_type": "code",
   "execution_count": 56,
   "metadata": {},
   "outputs": [
    {
     "name": "stdout",
     "output_type": "stream",
     "text": [
      "<class 'pandas.core.frame.DataFrame'>\n",
      "Index: 42060 entries, actionfem-1929-01-15-a-i0009 to volkfreu1869-1876-12-24-a-i0002\n",
      "Data columns (total 7 columns):\n",
      "lg          42060 non-null object\n",
      "tp          42060 non-null object\n",
      "orig_lg     36800 non-null object\n",
      "year        42060 non-null int64\n",
      "np-year     42060 non-null object\n",
      "n_tokens    42060 non-null int64\n",
      "ocrqa       42060 non-null float64\n",
      "dtypes: float64(1), int64(2), object(4)\n",
      "memory usage: 2.6+ MB\n"
     ]
    }
   ],
   "source": [
    "df.info()"
   ]
  },
  {
   "cell_type": "code",
   "execution_count": 57,
   "metadata": {},
   "outputs": [
    {
     "data": {
      "text/html": [
       "<div>\n",
       "<style scoped>\n",
       "    .dataframe tbody tr th:only-of-type {\n",
       "        vertical-align: middle;\n",
       "    }\n",
       "\n",
       "    .dataframe tbody tr th {\n",
       "        vertical-align: top;\n",
       "    }\n",
       "\n",
       "    .dataframe thead th {\n",
       "        text-align: right;\n",
       "    }\n",
       "</style>\n",
       "<table border=\"1\" class=\"dataframe\">\n",
       "  <thead>\n",
       "    <tr style=\"text-align: right;\">\n",
       "      <th></th>\n",
       "      <th>lg</th>\n",
       "      <th>tp</th>\n",
       "      <th>orig_lg</th>\n",
       "      <th>year</th>\n",
       "      <th>np-year</th>\n",
       "      <th>n_tokens</th>\n",
       "      <th>ocrqa</th>\n",
       "    </tr>\n",
       "  </thead>\n",
       "  <tbody>\n",
       "    <tr>\n",
       "      <th>actionfem-1929-01-15-a-i0009</th>\n",
       "      <td>lb</td>\n",
       "      <td>ar</td>\n",
       "      <td>lb</td>\n",
       "      <td>1929</td>\n",
       "      <td>actionfem-1929</td>\n",
       "      <td>2</td>\n",
       "      <td>0.00</td>\n",
       "    </tr>\n",
       "    <tr>\n",
       "      <th>actionfem-1929-01-15-a-i0010</th>\n",
       "      <td>lb</td>\n",
       "      <td>ar</td>\n",
       "      <td>lb</td>\n",
       "      <td>1929</td>\n",
       "      <td>actionfem-1929</td>\n",
       "      <td>7</td>\n",
       "      <td>0.86</td>\n",
       "    </tr>\n",
       "    <tr>\n",
       "      <th>actionfem-1929-02-15-a-i0009</th>\n",
       "      <td>lb</td>\n",
       "      <td>ar</td>\n",
       "      <td>lb</td>\n",
       "      <td>1929</td>\n",
       "      <td>actionfem-1929</td>\n",
       "      <td>2</td>\n",
       "      <td>0.50</td>\n",
       "    </tr>\n",
       "    <tr>\n",
       "      <th>actionfem-1929-03-15-a-i0003</th>\n",
       "      <td>lb</td>\n",
       "      <td>ar</td>\n",
       "      <td>lb</td>\n",
       "      <td>1929</td>\n",
       "      <td>actionfem-1929</td>\n",
       "      <td>5</td>\n",
       "      <td>0.67</td>\n",
       "    </tr>\n",
       "    <tr>\n",
       "      <th>actionfem-1929-05-15-a-i0005</th>\n",
       "      <td>lb</td>\n",
       "      <td>ar</td>\n",
       "      <td>lb</td>\n",
       "      <td>1929</td>\n",
       "      <td>actionfem-1929</td>\n",
       "      <td>124</td>\n",
       "      <td>0.90</td>\n",
       "    </tr>\n",
       "  </tbody>\n",
       "</table>\n",
       "</div>"
      ],
      "text/plain": [
       "                              lg  tp orig_lg  year         np-year  n_tokens  \\\n",
       "actionfem-1929-01-15-a-i0009  lb  ar      lb  1929  actionfem-1929         2   \n",
       "actionfem-1929-01-15-a-i0010  lb  ar      lb  1929  actionfem-1929         7   \n",
       "actionfem-1929-02-15-a-i0009  lb  ar      lb  1929  actionfem-1929         2   \n",
       "actionfem-1929-03-15-a-i0003  lb  ar      lb  1929  actionfem-1929         5   \n",
       "actionfem-1929-05-15-a-i0005  lb  ar      lb  1929  actionfem-1929       124   \n",
       "\n",
       "                              ocrqa  \n",
       "actionfem-1929-01-15-a-i0009   0.00  \n",
       "actionfem-1929-01-15-a-i0010   0.86  \n",
       "actionfem-1929-02-15-a-i0009   0.50  \n",
       "actionfem-1929-03-15-a-i0003   0.67  \n",
       "actionfem-1929-05-15-a-i0005   0.90  "
      ]
     },
     "execution_count": 57,
     "metadata": {},
     "output_type": "execute_result"
    }
   ],
   "source": [
    "df.head()"
   ]
  },
  {
   "cell_type": "code",
   "execution_count": 58,
   "metadata": {},
   "outputs": [
    {
     "data": {
      "text/plain": [
       "count    42060.000000\n",
       "mean       188.446600\n",
       "std        256.304459\n",
       "min          1.000000\n",
       "25%         42.000000\n",
       "50%         93.000000\n",
       "75%        226.000000\n",
       "max       3622.000000\n",
       "Name: n_tokens, dtype: float64"
      ]
     },
     "execution_count": 58,
     "metadata": {},
     "output_type": "execute_result"
    }
   ],
   "source": [
    "df.n_tokens.describe()"
   ]
  },
  {
   "cell_type": "code",
   "execution_count": 142,
   "metadata": {},
   "outputs": [
    {
     "data": {
      "text/plain": [
       "<matplotlib.axes._subplots.AxesSubplot at 0x7fe2b3c5e3c8>"
      ]
     },
     "execution_count": 142,
     "metadata": {},
     "output_type": "execute_result"
    },
    {
     "data": {
      "image/png": "[encoded data removed]",
      "text/plain": [
       "<Figure size 1008x504 with 1 Axes>"
      ]
     },
     "metadata": {
      "needs_background": "light"
     },
     "output_type": "display_data"
    }
   ],
   "source": [
    "df.groupby('ocrqa').size().plot(\n",
    "        kind='bar',\n",
    "    figsize=(14, 7),\n",
    "    title='Distribution of OCR quality assessment values for articles in Luxembourgish',\n",
    ")"
   ]
  },
  {
   "cell_type": "markdown",
   "metadata": {},
   "source": [
    "## sampling"
   ]
  },
  {
   "cell_type": "code",
   "execution_count": 60,
   "metadata": {},
   "outputs": [],
   "source": [
    "sample_df = df[\n",
    "    (df.ocrqa >= 0.7 ) & (df.tp=='ar') & (df.n_tokens >= 90)\n",
    "].groupby('year').apply(lambda x: x.sample())"
   ]
  },
  {
   "cell_type": "code",
   "execution_count": 64,
   "metadata": {},
   "outputs": [
    {
     "data": {
      "text/html": [
       "<div>\n",
       "<style scoped>\n",
       "    .dataframe tbody tr th:only-of-type {\n",
       "        vertical-align: middle;\n",
       "    }\n",
       "\n",
       "    .dataframe tbody tr th {\n",
       "        vertical-align: top;\n",
       "    }\n",
       "\n",
       "    .dataframe thead th {\n",
       "        text-align: right;\n",
       "    }\n",
       "</style>\n",
       "<table border=\"1\" class=\"dataframe\">\n",
       "  <thead>\n",
       "    <tr style=\"text-align: right;\">\n",
       "      <th></th>\n",
       "      <th></th>\n",
       "      <th>lg</th>\n",
       "      <th>tp</th>\n",
       "      <th>orig_lg</th>\n",
       "      <th>year</th>\n",
       "      <th>np-year</th>\n",
       "      <th>n_tokens</th>\n",
       "      <th>ocrqa</th>\n",
       "    </tr>\n",
       "    <tr>\n",
       "      <th>year</th>\n",
       "      <th></th>\n",
       "      <th></th>\n",
       "      <th></th>\n",
       "      <th></th>\n",
       "      <th></th>\n",
       "      <th></th>\n",
       "      <th></th>\n",
       "      <th></th>\n",
       "    </tr>\n",
       "  </thead>\n",
       "  <tbody>\n",
       "    <tr>\n",
       "      <th>1841</th>\n",
       "      <th>diekwochen-1841-11-06-a-i0018</th>\n",
       "      <td>lb</td>\n",
       "      <td>ar</td>\n",
       "      <td>lb</td>\n",
       "      <td>1841</td>\n",
       "      <td>diekwochen-1841</td>\n",
       "      <td>143</td>\n",
       "      <td>0.77</td>\n",
       "    </tr>\n",
       "    <tr>\n",
       "      <th>1842</th>\n",
       "      <th>diekwochen-1842-04-09-a-i0010</th>\n",
       "      <td>lb</td>\n",
       "      <td>ar</td>\n",
       "      <td>lb</td>\n",
       "      <td>1842</td>\n",
       "      <td>diekwochen-1842</td>\n",
       "      <td>262</td>\n",
       "      <td>0.72</td>\n",
       "    </tr>\n",
       "    <tr>\n",
       "      <th>1843</th>\n",
       "      <th>diekwochen-1843-08-19-a-i0011</th>\n",
       "      <td>lb</td>\n",
       "      <td>ar</td>\n",
       "      <td>lb</td>\n",
       "      <td>1843</td>\n",
       "      <td>diekwochen-1843</td>\n",
       "      <td>91</td>\n",
       "      <td>0.70</td>\n",
       "    </tr>\n",
       "    <tr>\n",
       "      <th>1844</th>\n",
       "      <th>diekwochen-1844-02-03-a-i0005</th>\n",
       "      <td>lb</td>\n",
       "      <td>ar</td>\n",
       "      <td>lb</td>\n",
       "      <td>1844</td>\n",
       "      <td>diekwochen-1844</td>\n",
       "      <td>104</td>\n",
       "      <td>0.71</td>\n",
       "    </tr>\n",
       "    <tr>\n",
       "      <th>1845</th>\n",
       "      <th>diekwochen-1845-12-06-a-i0009</th>\n",
       "      <td>lb</td>\n",
       "      <td>ar</td>\n",
       "      <td>lb</td>\n",
       "      <td>1845</td>\n",
       "      <td>diekwochen-1845</td>\n",
       "      <td>161</td>\n",
       "      <td>0.75</td>\n",
       "    </tr>\n",
       "  </tbody>\n",
       "</table>\n",
       "</div>"
      ],
      "text/plain": [
       "                                    lg  tp orig_lg  year          np-year  \\\n",
       "year                                                                        \n",
       "1841 diekwochen-1841-11-06-a-i0018  lb  ar      lb  1841  diekwochen-1841   \n",
       "1842 diekwochen-1842-04-09-a-i0010  lb  ar      lb  1842  diekwochen-1842   \n",
       "1843 diekwochen-1843-08-19-a-i0011  lb  ar      lb  1843  diekwochen-1843   \n",
       "1844 diekwochen-1844-02-03-a-i0005  lb  ar      lb  1844  diekwochen-1844   \n",
       "1845 diekwochen-1845-12-06-a-i0009  lb  ar      lb  1845  diekwochen-1845   \n",
       "\n",
       "                                    n_tokens  ocrqa  \n",
       "year                                                 \n",
       "1841 diekwochen-1841-11-06-a-i0018       143   0.77  \n",
       "1842 diekwochen-1842-04-09-a-i0010       262   0.72  \n",
       "1843 diekwochen-1843-08-19-a-i0011        91   0.70  \n",
       "1844 diekwochen-1844-02-03-a-i0005       104   0.71  \n",
       "1845 diekwochen-1845-12-06-a-i0009       161   0.75  "
      ]
     },
     "execution_count": 64,
     "metadata": {},
     "output_type": "execute_result"
    }
   ],
   "source": [
    "sample_df.head()"
   ]
  },
  {
   "cell_type": "code",
   "execution_count": 66,
   "metadata": {},
   "outputs": [
    {
     "data": {
      "text/plain": [
       "pandas.core.frame.DataFrame"
      ]
     },
     "execution_count": 66,
     "metadata": {},
     "output_type": "execute_result"
    }
   ],
   "source": [
    "type(sample_df)"
   ]
  },
  {
   "cell_type": "markdown",
   "metadata": {},
   "source": [
    "## read spacy-tokenized data\n",
    "\n",
    "- read all from newspapers/years in the final sample\n",
    "- keep only the content items in the actual sample\n",
    "- for each item, pass the list of tokens to spellux for lemmatization"
   ]
  },
  {
   "cell_type": "code",
   "execution_count": 81,
   "metadata": {},
   "outputs": [],
   "source": [
    "input_files = []"
   ]
  },
  {
   "cell_type": "code",
   "execution_count": 82,
   "metadata": {},
   "outputs": [],
   "source": [
    "for np_year in list(sample_df['np-year'].unique()):\n",
    "    np, year = np_year.split('-')\n",
    "    filename = f\"{np_year}.ling.annotation.jsonl.bz2\"\n",
    "    input_files.append(f\"{os.path.join(S3_LINGPROCESSED_BUCKET, filename)}\")"
   ]
  },
  {
   "cell_type": "code",
   "execution_count": 84,
   "metadata": {},
   "outputs": [
    {
     "data": {
      "text/plain": [
       "['s3://processed-canonical-data/linguistic-processing/2020-03-11/diekwochen-1841.ling.annotation.jsonl.bz2',\n",
       " 's3://processed-canonical-data/linguistic-processing/2020-03-11/diekwochen-1842.ling.annotation.jsonl.bz2',\n",
       " 's3://processed-canonical-data/linguistic-processing/2020-03-11/diekwochen-1843.ling.annotation.jsonl.bz2',\n",
       " 's3://processed-canonical-data/linguistic-processing/2020-03-11/diekwochen-1844.ling.annotation.jsonl.bz2',\n",
       " 's3://processed-canonical-data/linguistic-processing/2020-03-11/diekwochen-1845.ling.annotation.jsonl.bz2']"
      ]
     },
     "execution_count": 84,
     "metadata": {},
     "output_type": "execute_result"
    }
   ],
   "source": [
    "input_files[:5]"
   ]
  },
  {
   "cell_type": "code",
   "execution_count": 97,
   "metadata": {},
   "outputs": [],
   "source": [
    "sampled_ci_ids = sample_df.index.get_level_values(1).to_list()"
   ]
  },
  {
   "cell_type": "code",
   "execution_count": 98,
   "metadata": {},
   "outputs": [
    {
     "data": {
      "text/plain": [
       "53"
      ]
     },
     "execution_count": 98,
     "metadata": {},
     "output_type": "execute_result"
    }
   ],
   "source": [
    "len(sampled_ci_ids)"
   ]
  },
  {
   "cell_type": "code",
   "execution_count": 99,
   "metadata": {},
   "outputs": [
    {
     "data": {
      "text/plain": [
       "['diekwochen-1841-11-06-a-i0018',\n",
       " 'diekwochen-1842-04-09-a-i0010',\n",
       " 'diekwochen-1843-08-19-a-i0011',\n",
       " 'diekwochen-1844-02-03-a-i0005',\n",
       " 'diekwochen-1845-12-06-a-i0009',\n",
       " 'diekwochen-1846-12-26-a-i0013',\n",
       " 'diekwochen-1847-12-25-a-i0010',\n",
       " 'diekwochen-1848-11-22-a-i0006',\n",
       " 'luxzeit1858-1858-10-01-a-i0006',\n",
       " 'luxzeit1858-1859-01-23-a-i0001']"
      ]
     },
     "execution_count": 99,
     "metadata": {},
     "output_type": "execute_result"
    }
   ],
   "source": [
    "sampled_ci_ids[:10]"
   ]
  },
  {
   "cell_type": "code",
   "execution_count": 108,
   "metadata": {},
   "outputs": [],
   "source": [
    "ci_bag = db.read_text(\n",
    "    input_files, storage_options=IMPRESSO_STORAGEOPT\n",
    ").map(json.loads)"
   ]
  },
  {
   "cell_type": "code",
   "execution_count": 116,
   "metadata": {},
   "outputs": [],
   "source": [
    "sampled_content_items = ci_bag.filter(lambda i: i['id'] in sampled_ci_ids).compute()"
   ]
  },
  {
   "cell_type": "code",
   "execution_count": 117,
   "metadata": {},
   "outputs": [
    {
     "data": {
      "text/plain": [
       "53"
      ]
     },
     "execution_count": 117,
     "metadata": {},
     "output_type": "execute_result"
    }
   ],
   "source": [
    "len(sampled_content_items)"
   ]
  },
  {
   "cell_type": "code",
   "execution_count": 133,
   "metadata": {},
   "outputs": [],
   "source": [
    "doc_tokens = [\n",
    "    token['t']\n",
    "    for sentence in sampled_content_items[0]['sents']\n",
    "    for token in sentence['tok']\n",
    "]"
   ]
  },
  {
   "cell_type": "code",
   "execution_count": 128,
   "metadata": {},
   "outputs": [],
   "source": [
    "doc_pos = [\n",
    "    token['p']\n",
    "    for sentence in sampled_content_items[0]['sents']\n",
    "    for token in sentence['tok']\n",
    "]"
   ]
  },
  {
   "cell_type": "code",
   "execution_count": 129,
   "metadata": {},
   "outputs": [],
   "source": [
    "doc_spacy_lemmas = [\n",
    "    token['l']\n",
    "    for sentence in sampled_content_items[0]['sents']\n",
    "    for token in sentence['tok']\n",
    "]"
   ]
  },
  {
   "cell_type": "code",
   "execution_count": 135,
   "metadata": {},
   "outputs": [],
   "source": [
    "# sampled_content_items[0]"
   ]
  },
  {
   "cell_type": "markdown",
   "metadata": {},
   "source": [
    "## export data for `spellux` processing\n",
    "\n",
    "- export metadata for sampled articles (including link to impresso interface)\n",
    "- export JSON (spacy-like) for each content item\n",
    "- export .txt for each article"
   ]
  },
  {
   "cell_type": "code",
   "execution_count": 152,
   "metadata": {},
   "outputs": [],
   "source": [
    "import json"
   ]
  },
  {
   "cell_type": "code",
   "execution_count": 142,
   "metadata": {},
   "outputs": [],
   "source": [
    "!mkdir -p /home/romanell/Documents/impresso/lux-lemmatization-sample/text"
   ]
  },
  {
   "cell_type": "code",
   "execution_count": 138,
   "metadata": {},
   "outputs": [],
   "source": [
    "export_dir = \"/home/romanell/Documents/impresso/lux-lemmatization-sample\""
   ]
  },
  {
   "cell_type": "code",
   "execution_count": 167,
   "metadata": {},
   "outputs": [],
   "source": [
    "for ci in sampled_content_items:\n",
    "    export_path = os.path.join(\n",
    "        export_dir,\n",
    "        \"text\",\n",
    "        f\"{ci['id']}.json\"\n",
    "    )\n",
    "    with open(export_path, mode='w', encoding='utf-8') as ofile:\n",
    "        json.dump(ci, ofile)"
   ]
  },
  {
   "cell_type": "code",
   "execution_count": 172,
   "metadata": {},
   "outputs": [
    {
     "name": "stdout",
     "output_type": "stream",
     "text": [
      "total 1216\r\n",
      "-rw-r--r-- 1 romanell   9336 Apr 21 10:09 actionfem-1929-05-15-a-i0005.json\r\n",
      "-rw-r--r-- 1 romanell   9034 Apr 21 10:09 actionfem-1932-04-15-a-i0017.json\r\n",
      "-rw-r--r-- 1 romanell  73590 Apr 21 10:09 actionfem-1934-04-15-a-i0010.json\r\n",
      "-rw-r--r-- 1 romanell   7309 Apr 21 10:09 deletz1893-1893-02-19-a-i0004.json\r\n",
      "-rw-r--r-- 1 romanell  90331 Apr 21 10:09 deletz1893-1894-02-24-a-i0001.json\r\n",
      "-rw-r--r-- 1 romanell 125735 Apr 21 10:09 deletz1893-1895-12-14-a-i0001.json\r\n",
      "-rw-r--r-- 1 romanell  15549 Apr 21 10:09 deletz1893-1896-07-25-a-i0002.json\r\n",
      "-rw-r--r-- 1 romanell  19070 Apr 21 10:09 deletz1893-1897-04-17-a-i0008.json\r\n",
      "-rw-r--r-- 1 romanell   9774 Apr 21 10:09 deletz1893-1898-04-16-a-i0007.json\r\n",
      "-rw-r--r-- 1 romanell  19207 Apr 21 10:09 deletz1893-1899-04-29-a-i0001.json\r\n",
      "-rw-r--r-- 1 romanell  24654 Apr 21 10:09 deletz1893-1900-11-17-a-i0007.json\r\n",
      "-rw-r--r-- 1 romanell  27857 Apr 21 10:09 deletz1893-1901-02-02-a-i0001.json\r\n",
      "-rw-r--r-- 1 romanell   7494 Apr 21 10:09 deletz1893-1902-11-08-a-i0007.json\r\n",
      "-rw-r--r-- 1 romanell  10378 Apr 21 10:09 deletz1893-1903-08-22-a-i0017.json\r\n",
      "-rw-r--r-- 1 romanell   8028 Apr 21 10:09 deletz1893-1904-04-16-a-i0002.json\r\n",
      "-rw-r--r-- 1 romanell   6670 Apr 21 10:09 deletz1893-1905-01-14-a-i0008.json\r\n",
      "-rw-r--r-- 1 romanell  24822 Apr 21 10:09 deletz1893-1906-01-13-a-i0004.json\r\n",
      "-rw-r--r-- 1 romanell  55660 Apr 21 10:09 deletz1893-1907-05-04-a-i0030.json\r\n",
      "-rw-r--r-- 1 romanell  59975 Apr 21 10:09 deletz1893-1908-12-12-a-i0020.json\r\n",
      "-rw-r--r-- 1 romanell  11976 Apr 21 10:09 deletz1893-1909-11-20-a-i0012.json\r\n",
      "-rw-r--r-- 1 romanell  11418 Apr 21 10:09 diekwochen-1841-11-06-a-i0018.json\r\n",
      "-rw-r--r-- 1 romanell  21722 Apr 21 10:09 diekwochen-1842-04-09-a-i0010.json\r\n",
      "-rw-r--r-- 1 romanell   7032 Apr 21 10:09 diekwochen-1843-08-19-a-i0011.json\r\n",
      "-rw-r--r-- 1 romanell   7953 Apr 21 10:09 diekwochen-1844-02-03-a-i0005.json\r\n",
      "-rw-r--r-- 1 romanell  11116 Apr 21 10:09 diekwochen-1845-12-06-a-i0009.json\r\n",
      "-rw-r--r-- 1 romanell  18120 Apr 21 10:09 diekwochen-1846-12-26-a-i0013.json\r\n",
      "-rw-r--r-- 1 romanell  33213 Apr 21 10:09 diekwochen-1847-12-25-a-i0010.json\r\n",
      "-rw-r--r-- 1 romanell  12828 Apr 21 10:09 diekwochen-1848-11-22-a-i0006.json\r\n",
      "-rw-r--r-- 1 romanell  46752 Apr 21 10:09 dunioun-1944-12-16-a-i0014.json\r\n",
      "-rw-r--r-- 1 romanell   5914 Apr 21 10:09 dunioun-1945-08-18-a-i0007.json\r\n",
      "-rw-r--r-- 1 romanell   9865 Apr 21 10:09 dunioun-1946-08-22-a-i0055.json\r\n",
      "-rw-r--r-- 1 romanell  27060 Apr 21 10:09 dunioun-1948-02-04-a-i0001.json\r\n",
      "-rw-r--r-- 1 romanell  15555 Apr 21 10:09 gazgrdlux-1878-07-07-a-i0011.json\r\n",
      "-rw-r--r-- 1 romanell  14805 Apr 21 10:09 kommmit-1884-10-01-a-i0001.json\r\n",
      "-rw-r--r-- 1 romanell  11860 Apr 21 10:09 luxzeit1858-1858-10-01-a-i0006.json\r\n",
      "-rw-r--r-- 1 romanell   9046 Apr 21 10:09 luxzeit1858-1859-01-23-a-i0001.json\r\n",
      "-rw-r--r-- 1 romanell   6798 Apr 21 10:09 obermosel-1881-10-22-a-i0005.json\r\n",
      "-rw-r--r-- 1 romanell   8780 Apr 21 10:09 obermosel-1924-07-05-a-i0010.json\r\n",
      "-rw-r--r-- 1 romanell  10579 Apr 21 10:09 obermosel-1937-04-17-a-i0107.json\r\n",
      "-rw-r--r-- 1 romanell  15143 Apr 21 10:09 obermosel-1939-04-25-a-i0010.json\r\n",
      "-rw-r--r-- 1 romanell  50253 Apr 21 10:09 onsjongen-1947-03-01-a-i0002.json\r\n",
      "-rw-r--r-- 1 romanell   6665 Apr 21 10:09 onsjongen-1949-06-15-a-i0011.json\r\n",
      "-rw-r--r-- 1 romanell  21449 Apr 21 10:09 onsjongen-1950-06-01-a-i0013.json\r\n",
      "-rw-r--r-- 1 romanell   7272 Apr 21 10:09 schmiede-1918-03-16-a-i0004.json\r\n",
      "-rw-r--r-- 1 romanell  10245 Apr 21 10:09 schmiede-1919-10-18-a-i0004.json\r\n",
      "-rw-r--r-- 1 romanell  15327 Apr 21 10:09 volkfreu1869-1869-08-31-a-i0013.json\r\n",
      "-rw-r--r-- 1 romanell  12740 Apr 21 10:09 volkfreu1869-1870-11-08-a-i0003.json\r\n",
      "-rw-r--r-- 1 romanell  16211 Apr 21 10:09 volkfreu1869-1871-08-22-a-i0009.json\r\n",
      "-rw-r--r-- 1 romanell  14954 Apr 21 10:09 volkfreu1869-1872-09-12-a-i0010.json\r\n",
      "-rw-r--r-- 1 romanell   6165 Apr 21 10:09 volkfreu1869-1873-05-07-a-i0004.json\r\n",
      "-rw-r--r-- 1 romanell  26599 Apr 21 10:09 volkfreu1869-1874-11-11-a-i0002.json\r\n",
      "-rw-r--r-- 1 romanell   8737 Apr 21 10:09 volkfreu1869-1875-04-28-a-i0003.json\r\n",
      "-rw-r--r-- 1 romanell  24979 Apr 21 10:09 volkfreu1869-1876-09-01-a-i0019.json\r\n"
     ]
    }
   ],
   "source": [
    "ll -H {export_dir}/text"
   ]
  },
  {
   "cell_type": "code",
   "execution_count": 164,
   "metadata": {},
   "outputs": [],
   "source": [
    "sample_df.to_pickle(os.path.join(export_dir, 'metadata_df.pkl'))"
   ]
  },
  {
   "cell_type": "markdown",
   "metadata": {},
   "source": [
    "## release resources"
   ]
  },
  {
   "cell_type": "code",
   "execution_count": 180,
   "metadata": {},
   "outputs": [
    {
     "name": "stderr",
     "output_type": "stream",
     "text": [
      "distributed.client - ERROR - Failed to reconnect to scheduler after 10.00 seconds, closing client\n",
      "distributed.client - ERROR - Failed to reconnect to scheduler after 10.00 seconds, closing client\n",
      "distributed.client - ERROR - Failed to reconnect to scheduler after 10.00 seconds, closing client\n",
      "distributed.client - ERROR - Failed to reconnect to scheduler after 10.00 seconds, closing client\n",
      "distributed.client - ERROR - Failed to reconnect to scheduler after 10.00 seconds, closing client\n",
      "distributed.client - ERROR - Failed to reconnect to scheduler after 10.00 seconds, closing client\n",
      "distributed.client - ERROR - Failed to reconnect to scheduler after 10.00 seconds, closing client\n",
      "distributed.client - ERROR - Failed to reconnect to scheduler after 10.00 seconds, closing client\n",
      "distributed.utils - ERROR - \n",
      "Traceback (most recent call last):\n",
      "  File \"/home/romanell/.pyenv/versions/3.6.7/envs/impresso-sanity-check/lib/python3.6/site-packages/distributed/utils.py\", line 666, in log_errors\n",
      "    yield\n",
      "  File \"/home/romanell/.pyenv/versions/3.6.7/envs/impresso-sanity-check/lib/python3.6/site-packages/distributed/client.py\", line 1268, in _close\n",
      "    await gen.with_timeout(timedelta(seconds=2), list(coroutines))\n",
      "concurrent.futures._base.CancelledError\n",
      "distributed.utils - ERROR - \n",
      "Traceback (most recent call last):\n",
      "  File \"/home/romanell/.pyenv/versions/3.6.7/envs/impresso-sanity-check/lib/python3.6/site-packages/distributed/utils.py\", line 666, in log_errors\n",
      "    yield\n",
      "  File \"/home/romanell/.pyenv/versions/3.6.7/envs/impresso-sanity-check/lib/python3.6/site-packages/distributed/client.py\", line 998, in _reconnect\n",
      "    await self._close()\n",
      "  File \"/home/romanell/.pyenv/versions/3.6.7/envs/impresso-sanity-check/lib/python3.6/site-packages/distributed/client.py\", line 1268, in _close\n",
      "    await gen.with_timeout(timedelta(seconds=2), list(coroutines))\n",
      "concurrent.futures._base.CancelledError\n",
      "distributed.utils - ERROR - \n",
      "Traceback (most recent call last):\n",
      "  File \"/home/romanell/.pyenv/versions/3.6.7/envs/impresso-sanity-check/lib/python3.6/site-packages/distributed/utils.py\", line 666, in log_errors\n",
      "    yield\n",
      "  File \"/home/romanell/.pyenv/versions/3.6.7/envs/impresso-sanity-check/lib/python3.6/site-packages/distributed/client.py\", line 1268, in _close\n",
      "    await gen.with_timeout(timedelta(seconds=2), list(coroutines))\n",
      "concurrent.futures._base.CancelledError\n",
      "distributed.utils - ERROR - \n",
      "Traceback (most recent call last):\n",
      "  File \"/home/romanell/.pyenv/versions/3.6.7/envs/impresso-sanity-check/lib/python3.6/site-packages/distributed/utils.py\", line 666, in log_errors\n",
      "    yield\n",
      "  File \"/home/romanell/.pyenv/versions/3.6.7/envs/impresso-sanity-check/lib/python3.6/site-packages/distributed/client.py\", line 998, in _reconnect\n",
      "    await self._close()\n",
      "  File \"/home/romanell/.pyenv/versions/3.6.7/envs/impresso-sanity-check/lib/python3.6/site-packages/distributed/client.py\", line 1268, in _close\n",
      "    await gen.with_timeout(timedelta(seconds=2), list(coroutines))\n",
      "concurrent.futures._base.CancelledError\n",
      "distributed.client - ERROR - Failed to reconnect to scheduler after 10.00 seconds, closing client\n",
      "distributed.client - ERROR - Failed to reconnect to scheduler after 10.00 seconds, closing client\n",
      "distributed.client - ERROR - Failed to reconnect to scheduler after 10.00 seconds, closing client\n",
      "distributed.client - ERROR - Failed to reconnect to scheduler after 10.00 seconds, closing client\n",
      "distributed.client - ERROR - Failed to reconnect to scheduler after 10.00 seconds, closing client\n",
      "distributed.utils - ERROR - \n",
      "Traceback (most recent call last):\n",
      "  File \"/home/romanell/.pyenv/versions/3.6.7/envs/impresso-sanity-check/lib/python3.6/site-packages/distributed/utils.py\", line 666, in log_errors\n",
      "    yield\n",
      "  File \"/home/romanell/.pyenv/versions/3.6.7/envs/impresso-sanity-check/lib/python3.6/site-packages/distributed/client.py\", line 1268, in _close\n",
      "    await gen.with_timeout(timedelta(seconds=2), list(coroutines))\n",
      "concurrent.futures._base.CancelledError\n",
      "distributed.utils - ERROR - \n",
      "Traceback (most recent call last):\n",
      "  File \"/home/romanell/.pyenv/versions/3.6.7/envs/impresso-sanity-check/lib/python3.6/site-packages/distributed/utils.py\", line 666, in log_errors\n",
      "    yield\n",
      "  File \"/home/romanell/.pyenv/versions/3.6.7/envs/impresso-sanity-check/lib/python3.6/site-packages/distributed/client.py\", line 1268, in _close\n",
      "    await gen.with_timeout(timedelta(seconds=2), list(coroutines))\n",
      "concurrent.futures._base.CancelledError\n",
      "distributed.utils - ERROR - \n",
      "Traceback (most recent call last):\n",
      "  File \"/home/romanell/.pyenv/versions/3.6.7/envs/impresso-sanity-check/lib/python3.6/site-packages/distributed/utils.py\", line 666, in log_errors\n",
      "    yield\n",
      "  File \"/home/romanell/.pyenv/versions/3.6.7/envs/impresso-sanity-check/lib/python3.6/site-packages/distributed/client.py\", line 1268, in _close\n",
      "    await gen.with_timeout(timedelta(seconds=2), list(coroutines))\n",
      "concurrent.futures._base.CancelledError\n",
      "distributed.client - ERROR - Failed to reconnect to scheduler after 10.00 seconds, closing client\n",
      "distributed.utils - ERROR - \n",
      "Traceback (most recent call last):\n",
      "  File \"/home/romanell/.pyenv/versions/3.6.7/envs/impresso-sanity-check/lib/python3.6/site-packages/distributed/utils.py\", line 666, in log_errors\n",
      "    yield\n",
      "  File \"/home/romanell/.pyenv/versions/3.6.7/envs/impresso-sanity-check/lib/python3.6/site-packages/distributed/client.py\", line 1268, in _close\n",
      "    await gen.with_timeout(timedelta(seconds=2), list(coroutines))\n",
      "concurrent.futures._base.CancelledError\n",
      "distributed.client - ERROR - Failed to reconnect to scheduler after 10.00 seconds, closing client\n",
      "distributed.client - ERROR - Failed to reconnect to scheduler after 10.00 seconds, closing client\n",
      "distributed.utils - ERROR - \n",
      "Traceback (most recent call last):\n",
      "  File \"/home/romanell/.pyenv/versions/3.6.7/envs/impresso-sanity-check/lib/python3.6/site-packages/distributed/utils.py\", line 666, in log_errors\n",
      "    yield\n",
      "  File \"/home/romanell/.pyenv/versions/3.6.7/envs/impresso-sanity-check/lib/python3.6/site-packages/distributed/client.py\", line 998, in _reconnect\n",
      "    await self._close()\n",
      "  File \"/home/romanell/.pyenv/versions/3.6.7/envs/impresso-sanity-check/lib/python3.6/site-packages/distributed/client.py\", line 1268, in _close\n",
      "    await gen.with_timeout(timedelta(seconds=2), list(coroutines))\n",
      "concurrent.futures._base.CancelledError\n",
      "distributed.client - ERROR - Failed to reconnect to scheduler after 10.00 seconds, closing client\n",
      "distributed.utils - ERROR - \n",
      "Traceback (most recent call last):\n",
      "  File \"/home/romanell/.pyenv/versions/3.6.7/envs/impresso-sanity-check/lib/python3.6/site-packages/distributed/utils.py\", line 666, in log_errors\n",
      "    yield\n",
      "  File \"/home/romanell/.pyenv/versions/3.6.7/envs/impresso-sanity-check/lib/python3.6/site-packages/distributed/client.py\", line 1268, in _close\n",
      "    await gen.with_timeout(timedelta(seconds=2), list(coroutines))\n",
      "concurrent.futures._base.CancelledError\n",
      "distributed.utils - ERROR - \n",
      "Traceback (most recent call last):\n",
      "  File \"/home/romanell/.pyenv/versions/3.6.7/envs/impresso-sanity-check/lib/python3.6/site-packages/distributed/utils.py\", line 666, in log_errors\n",
      "    yield\n",
      "  File \"/home/romanell/.pyenv/versions/3.6.7/envs/impresso-sanity-check/lib/python3.6/site-packages/distributed/client.py\", line 1268, in _close\n",
      "    await gen.with_timeout(timedelta(seconds=2), list(coroutines))\n",
      "concurrent.futures._base.CancelledError\n",
      "distributed.utils - ERROR - \n",
      "Traceback (most recent call last):\n",
      "  File \"/home/romanell/.pyenv/versions/3.6.7/envs/impresso-sanity-check/lib/python3.6/site-packages/distributed/utils.py\", line 666, in log_errors\n",
      "    yield\n",
      "  File \"/home/romanell/.pyenv/versions/3.6.7/envs/impresso-sanity-check/lib/python3.6/site-packages/distributed/client.py\", line 998, in _reconnect\n",
      "    await self._close()\n",
      "  File \"/home/romanell/.pyenv/versions/3.6.7/envs/impresso-sanity-check/lib/python3.6/site-packages/distributed/client.py\", line 1268, in _close\n",
      "    await gen.with_timeout(timedelta(seconds=2), list(coroutines))\n",
      "concurrent.futures._base.CancelledError\n",
      "distributed.utils - ERROR - \n",
      "Traceback (most recent call last):\n",
      "  File \"/home/romanell/.pyenv/versions/3.6.7/envs/impresso-sanity-check/lib/python3.6/site-packages/distributed/utils.py\", line 666, in log_errors\n",
      "    yield\n",
      "  File \"/home/romanell/.pyenv/versions/3.6.7/envs/impresso-sanity-check/lib/python3.6/site-packages/distributed/client.py\", line 998, in _reconnect\n",
      "    await self._close()\n",
      "  File \"/home/romanell/.pyenv/versions/3.6.7/envs/impresso-sanity-check/lib/python3.6/site-packages/distributed/client.py\", line 1268, in _close\n",
      "    await gen.with_timeout(timedelta(seconds=2), list(coroutines))\n"
     ]
    },
    {
     "name": "stderr",
     "output_type": "stream",
     "text": [
      "concurrent.futures._base.CancelledError\n",
      "distributed.client - ERROR - Failed to reconnect to scheduler after 10.00 seconds, closing client\n",
      "distributed.utils - ERROR - \n",
      "Traceback (most recent call last):\n",
      "  File \"/home/romanell/.pyenv/versions/3.6.7/envs/impresso-sanity-check/lib/python3.6/site-packages/distributed/utils.py\", line 666, in log_errors\n",
      "    yield\n",
      "  File \"/home/romanell/.pyenv/versions/3.6.7/envs/impresso-sanity-check/lib/python3.6/site-packages/distributed/client.py\", line 998, in _reconnect\n",
      "    await self._close()\n",
      "  File \"/home/romanell/.pyenv/versions/3.6.7/envs/impresso-sanity-check/lib/python3.6/site-packages/distributed/client.py\", line 1268, in _close\n",
      "    await gen.with_timeout(timedelta(seconds=2), list(coroutines))\n",
      "concurrent.futures._base.CancelledError\n",
      "distributed.client - ERROR - Failed to reconnect to scheduler after 10.00 seconds, closing client\n",
      "distributed.client - ERROR - Failed to reconnect to scheduler after 10.00 seconds, closing client\n",
      "distributed.utils - ERROR - \n",
      "Traceback (most recent call last):\n",
      "  File \"/home/romanell/.pyenv/versions/3.6.7/envs/impresso-sanity-check/lib/python3.6/site-packages/distributed/utils.py\", line 666, in log_errors\n",
      "    yield\n",
      "  File \"/home/romanell/.pyenv/versions/3.6.7/envs/impresso-sanity-check/lib/python3.6/site-packages/distributed/client.py\", line 1268, in _close\n",
      "    await gen.with_timeout(timedelta(seconds=2), list(coroutines))\n",
      "concurrent.futures._base.CancelledError\n",
      "distributed.utils - ERROR - \n",
      "Traceback (most recent call last):\n",
      "  File \"/home/romanell/.pyenv/versions/3.6.7/envs/impresso-sanity-check/lib/python3.6/site-packages/distributed/utils.py\", line 666, in log_errors\n",
      "    yield\n",
      "  File \"/home/romanell/.pyenv/versions/3.6.7/envs/impresso-sanity-check/lib/python3.6/site-packages/distributed/client.py\", line 1268, in _close\n",
      "    await gen.with_timeout(timedelta(seconds=2), list(coroutines))\n",
      "concurrent.futures._base.CancelledError\n",
      "distributed.utils - ERROR - \n",
      "Traceback (most recent call last):\n",
      "  File \"/home/romanell/.pyenv/versions/3.6.7/envs/impresso-sanity-check/lib/python3.6/site-packages/distributed/utils.py\", line 666, in log_errors\n",
      "    yield\n",
      "  File \"/home/romanell/.pyenv/versions/3.6.7/envs/impresso-sanity-check/lib/python3.6/site-packages/distributed/client.py\", line 1268, in _close\n",
      "    await gen.with_timeout(timedelta(seconds=2), list(coroutines))\n",
      "concurrent.futures._base.CancelledError\n",
      "distributed.utils - ERROR - \n",
      "Traceback (most recent call last):\n",
      "  File \"/home/romanell/.pyenv/versions/3.6.7/envs/impresso-sanity-check/lib/python3.6/site-packages/distributed/utils.py\", line 666, in log_errors\n",
      "    yield\n",
      "  File \"/home/romanell/.pyenv/versions/3.6.7/envs/impresso-sanity-check/lib/python3.6/site-packages/distributed/client.py\", line 1268, in _close\n",
      "    await gen.with_timeout(timedelta(seconds=2), list(coroutines))\n",
      "concurrent.futures._base.CancelledError\n",
      "distributed.utils - ERROR - \n",
      "Traceback (most recent call last):\n",
      "  File \"/home/romanell/.pyenv/versions/3.6.7/envs/impresso-sanity-check/lib/python3.6/site-packages/distributed/utils.py\", line 666, in log_errors\n",
      "    yield\n",
      "  File \"/home/romanell/.pyenv/versions/3.6.7/envs/impresso-sanity-check/lib/python3.6/site-packages/distributed/client.py\", line 998, in _reconnect\n",
      "    await self._close()\n",
      "  File \"/home/romanell/.pyenv/versions/3.6.7/envs/impresso-sanity-check/lib/python3.6/site-packages/distributed/client.py\", line 1268, in _close\n",
      "    await gen.with_timeout(timedelta(seconds=2), list(coroutines))\n",
      "concurrent.futures._base.CancelledError\n",
      "distributed.utils - ERROR - \n",
      "Traceback (most recent call last):\n",
      "  File \"/home/romanell/.pyenv/versions/3.6.7/envs/impresso-sanity-check/lib/python3.6/site-packages/distributed/utils.py\", line 666, in log_errors\n",
      "    yield\n",
      "  File \"/home/romanell/.pyenv/versions/3.6.7/envs/impresso-sanity-check/lib/python3.6/site-packages/distributed/client.py\", line 1268, in _close\n",
      "    await gen.with_timeout(timedelta(seconds=2), list(coroutines))\n",
      "concurrent.futures._base.CancelledError\n",
      "distributed.utils - ERROR - \n",
      "Traceback (most recent call last):\n",
      "  File \"/home/romanell/.pyenv/versions/3.6.7/envs/impresso-sanity-check/lib/python3.6/site-packages/distributed/utils.py\", line 666, in log_errors\n",
      "    yield\n",
      "  File \"/home/romanell/.pyenv/versions/3.6.7/envs/impresso-sanity-check/lib/python3.6/site-packages/distributed/client.py\", line 998, in _reconnect\n",
      "    await self._close()\n",
      "  File \"/home/romanell/.pyenv/versions/3.6.7/envs/impresso-sanity-check/lib/python3.6/site-packages/distributed/client.py\", line 1268, in _close\n",
      "    await gen.with_timeout(timedelta(seconds=2), list(coroutines))\n",
      "concurrent.futures._base.CancelledError\n",
      "distributed.utils - ERROR - \n",
      "Traceback (most recent call last):\n",
      "  File \"/home/romanell/.pyenv/versions/3.6.7/envs/impresso-sanity-check/lib/python3.6/site-packages/distributed/utils.py\", line 666, in log_errors\n",
      "    yield\n",
      "  File \"/home/romanell/.pyenv/versions/3.6.7/envs/impresso-sanity-check/lib/python3.6/site-packages/distributed/client.py\", line 1268, in _close\n",
      "    await gen.with_timeout(timedelta(seconds=2), list(coroutines))\n",
      "concurrent.futures._base.CancelledError\n",
      "distributed.utils - ERROR - \n",
      "Traceback (most recent call last):\n",
      "  File \"/home/romanell/.pyenv/versions/3.6.7/envs/impresso-sanity-check/lib/python3.6/site-packages/distributed/utils.py\", line 666, in log_errors\n",
      "    yield\n",
      "  File \"/home/romanell/.pyenv/versions/3.6.7/envs/impresso-sanity-check/lib/python3.6/site-packages/distributed/client.py\", line 1268, in _close\n",
      "    await gen.with_timeout(timedelta(seconds=2), list(coroutines))\n",
      "concurrent.futures._base.CancelledError\n",
      "distributed.utils - ERROR - \n",
      "Traceback (most recent call last):\n",
      "  File \"/home/romanell/.pyenv/versions/3.6.7/envs/impresso-sanity-check/lib/python3.6/site-packages/distributed/utils.py\", line 666, in log_errors\n",
      "    yield\n",
      "  File \"/home/romanell/.pyenv/versions/3.6.7/envs/impresso-sanity-check/lib/python3.6/site-packages/distributed/client.py\", line 1268, in _close\n",
      "    await gen.with_timeout(timedelta(seconds=2), list(coroutines))\n",
      "concurrent.futures._base.CancelledError\n",
      "distributed.utils - ERROR - \n",
      "Traceback (most recent call last):\n",
      "  File \"/home/romanell/.pyenv/versions/3.6.7/envs/impresso-sanity-check/lib/python3.6/site-packages/distributed/utils.py\", line 666, in log_errors\n",
      "    yield\n",
      "  File \"/home/romanell/.pyenv/versions/3.6.7/envs/impresso-sanity-check/lib/python3.6/site-packages/distributed/client.py\", line 1268, in _close\n",
      "    await gen.with_timeout(timedelta(seconds=2), list(coroutines))\n",
      "concurrent.futures._base.CancelledError\n",
      "distributed.utils - ERROR - \n",
      "Traceback (most recent call last):\n",
      "  File \"/home/romanell/.pyenv/versions/3.6.7/envs/impresso-sanity-check/lib/python3.6/site-packages/distributed/utils.py\", line 666, in log_errors\n",
      "    yield\n",
      "  File \"/home/romanell/.pyenv/versions/3.6.7/envs/impresso-sanity-check/lib/python3.6/site-packages/distributed/client.py\", line 998, in _reconnect\n",
      "    await self._close()\n",
      "  File \"/home/romanell/.pyenv/versions/3.6.7/envs/impresso-sanity-check/lib/python3.6/site-packages/distributed/client.py\", line 1268, in _close\n",
      "    await gen.with_timeout(timedelta(seconds=2), list(coroutines))\n",
      "concurrent.futures._base.CancelledError\n",
      "distributed.utils - ERROR - \n",
      "Traceback (most recent call last):\n",
      "  File \"/home/romanell/.pyenv/versions/3.6.7/envs/impresso-sanity-check/lib/python3.6/site-packages/distributed/utils.py\", line 666, in log_errors\n",
      "    yield\n",
      "  File \"/home/romanell/.pyenv/versions/3.6.7/envs/impresso-sanity-check/lib/python3.6/site-packages/distributed/client.py\", line 998, in _reconnect\n",
      "    await self._close()\n",
      "  File \"/home/romanell/.pyenv/versions/3.6.7/envs/impresso-sanity-check/lib/python3.6/site-packages/distributed/client.py\", line 1268, in _close\n",
      "    await gen.with_timeout(timedelta(seconds=2), list(coroutines))\n",
      "concurrent.futures._base.CancelledError\n",
      "distributed.utils - ERROR - \n",
      "Traceback (most recent call last):\n",
      "  File \"/home/romanell/.pyenv/versions/3.6.7/envs/impresso-sanity-check/lib/python3.6/site-packages/distributed/utils.py\", line 666, in log_errors\n",
      "    yield\n",
      "  File \"/home/romanell/.pyenv/versions/3.6.7/envs/impresso-sanity-check/lib/python3.6/site-packages/distributed/client.py\", line 998, in _reconnect\n",
      "    await self._close()\n",
      "  File \"/home/romanell/.pyenv/versions/3.6.7/envs/impresso-sanity-check/lib/python3.6/site-packages/distributed/client.py\", line 1268, in _close\n",
      "    await gen.with_timeout(timedelta(seconds=2), list(coroutines))\n"
     ]
    },
    {
     "name": "stderr",
     "output_type": "stream",
     "text": [
      "concurrent.futures._base.CancelledError\n",
      "distributed.utils - ERROR - \n",
      "Traceback (most recent call last):\n",
      "  File \"/home/romanell/.pyenv/versions/3.6.7/envs/impresso-sanity-check/lib/python3.6/site-packages/distributed/utils.py\", line 666, in log_errors\n",
      "    yield\n",
      "  File \"/home/romanell/.pyenv/versions/3.6.7/envs/impresso-sanity-check/lib/python3.6/site-packages/distributed/client.py\", line 1268, in _close\n",
      "    await gen.with_timeout(timedelta(seconds=2), list(coroutines))\n",
      "concurrent.futures._base.CancelledError\n",
      "distributed.utils - ERROR - \n",
      "Traceback (most recent call last):\n",
      "  File \"/home/romanell/.pyenv/versions/3.6.7/envs/impresso-sanity-check/lib/python3.6/site-packages/distributed/utils.py\", line 666, in log_errors\n",
      "    yield\n",
      "  File \"/home/romanell/.pyenv/versions/3.6.7/envs/impresso-sanity-check/lib/python3.6/site-packages/distributed/client.py\", line 998, in _reconnect\n",
      "    await self._close()\n",
      "  File \"/home/romanell/.pyenv/versions/3.6.7/envs/impresso-sanity-check/lib/python3.6/site-packages/distributed/client.py\", line 1268, in _close\n",
      "    await gen.with_timeout(timedelta(seconds=2), list(coroutines))\n",
      "concurrent.futures._base.CancelledError\n",
      "distributed.utils - ERROR - \n",
      "Traceback (most recent call last):\n",
      "  File \"/home/romanell/.pyenv/versions/3.6.7/envs/impresso-sanity-check/lib/python3.6/site-packages/distributed/utils.py\", line 666, in log_errors\n",
      "    yield\n",
      "  File \"/home/romanell/.pyenv/versions/3.6.7/envs/impresso-sanity-check/lib/python3.6/site-packages/distributed/client.py\", line 998, in _reconnect\n",
      "    await self._close()\n",
      "  File \"/home/romanell/.pyenv/versions/3.6.7/envs/impresso-sanity-check/lib/python3.6/site-packages/distributed/client.py\", line 1268, in _close\n",
      "    await gen.with_timeout(timedelta(seconds=2), list(coroutines))\n",
      "concurrent.futures._base.CancelledError\n",
      "distributed.utils - ERROR - \n",
      "Traceback (most recent call last):\n",
      "  File \"/home/romanell/.pyenv/versions/3.6.7/envs/impresso-sanity-check/lib/python3.6/site-packages/distributed/utils.py\", line 666, in log_errors\n",
      "    yield\n",
      "  File \"/home/romanell/.pyenv/versions/3.6.7/envs/impresso-sanity-check/lib/python3.6/site-packages/distributed/client.py\", line 1268, in _close\n",
      "    await gen.with_timeout(timedelta(seconds=2), list(coroutines))\n",
      "concurrent.futures._base.CancelledError\n",
      "distributed.utils - ERROR - \n",
      "Traceback (most recent call last):\n",
      "  File \"/home/romanell/.pyenv/versions/3.6.7/envs/impresso-sanity-check/lib/python3.6/site-packages/distributed/utils.py\", line 666, in log_errors\n",
      "    yield\n",
      "  File \"/home/romanell/.pyenv/versions/3.6.7/envs/impresso-sanity-check/lib/python3.6/site-packages/distributed/client.py\", line 1268, in _close\n",
      "    await gen.with_timeout(timedelta(seconds=2), list(coroutines))\n",
      "concurrent.futures._base.CancelledError\n",
      "distributed.utils - ERROR - \n",
      "Traceback (most recent call last):\n",
      "  File \"/home/romanell/.pyenv/versions/3.6.7/envs/impresso-sanity-check/lib/python3.6/site-packages/distributed/utils.py\", line 666, in log_errors\n",
      "    yield\n",
      "  File \"/home/romanell/.pyenv/versions/3.6.7/envs/impresso-sanity-check/lib/python3.6/site-packages/distributed/client.py\", line 998, in _reconnect\n",
      "    await self._close()\n",
      "  File \"/home/romanell/.pyenv/versions/3.6.7/envs/impresso-sanity-check/lib/python3.6/site-packages/distributed/client.py\", line 1268, in _close\n",
      "    await gen.with_timeout(timedelta(seconds=2), list(coroutines))\n",
      "concurrent.futures._base.CancelledError\n",
      "distributed.utils - ERROR - \n",
      "Traceback (most recent call last):\n",
      "  File \"/home/romanell/.pyenv/versions/3.6.7/envs/impresso-sanity-check/lib/python3.6/site-packages/distributed/utils.py\", line 666, in log_errors\n",
      "    yield\n",
      "  File \"/home/romanell/.pyenv/versions/3.6.7/envs/impresso-sanity-check/lib/python3.6/site-packages/distributed/client.py\", line 998, in _reconnect\n",
      "    await self._close()\n",
      "  File \"/home/romanell/.pyenv/versions/3.6.7/envs/impresso-sanity-check/lib/python3.6/site-packages/distributed/client.py\", line 1268, in _close\n",
      "    await gen.with_timeout(timedelta(seconds=2), list(coroutines))\n",
      "concurrent.futures._base.CancelledError\n",
      "distributed.utils - ERROR - \n",
      "Traceback (most recent call last):\n",
      "  File \"/home/romanell/.pyenv/versions/3.6.7/envs/impresso-sanity-check/lib/python3.6/site-packages/distributed/utils.py\", line 666, in log_errors\n",
      "    yield\n",
      "  File \"/home/romanell/.pyenv/versions/3.6.7/envs/impresso-sanity-check/lib/python3.6/site-packages/distributed/client.py\", line 998, in _reconnect\n",
      "    await self._close()\n",
      "  File \"/home/romanell/.pyenv/versions/3.6.7/envs/impresso-sanity-check/lib/python3.6/site-packages/distributed/client.py\", line 1268, in _close\n",
      "    await gen.with_timeout(timedelta(seconds=2), list(coroutines))\n",
      "concurrent.futures._base.CancelledError\n",
      "distributed.utils - ERROR - \n",
      "Traceback (most recent call last):\n",
      "  File \"/home/romanell/.pyenv/versions/3.6.7/envs/impresso-sanity-check/lib/python3.6/site-packages/distributed/utils.py\", line 666, in log_errors\n",
      "    yield\n",
      "  File \"/home/romanell/.pyenv/versions/3.6.7/envs/impresso-sanity-check/lib/python3.6/site-packages/distributed/client.py\", line 998, in _reconnect\n",
      "    await self._close()\n",
      "  File \"/home/romanell/.pyenv/versions/3.6.7/envs/impresso-sanity-check/lib/python3.6/site-packages/distributed/client.py\", line 1268, in _close\n",
      "    await gen.with_timeout(timedelta(seconds=2), list(coroutines))\n",
      "concurrent.futures._base.CancelledError\n",
      "distributed.utils - ERROR - \n",
      "Traceback (most recent call last):\n",
      "  File \"/home/romanell/.pyenv/versions/3.6.7/envs/impresso-sanity-check/lib/python3.6/site-packages/distributed/utils.py\", line 666, in log_errors\n",
      "    yield\n",
      "  File \"/home/romanell/.pyenv/versions/3.6.7/envs/impresso-sanity-check/lib/python3.6/site-packages/distributed/client.py\", line 998, in _reconnect\n",
      "    await self._close()\n",
      "  File \"/home/romanell/.pyenv/versions/3.6.7/envs/impresso-sanity-check/lib/python3.6/site-packages/distributed/client.py\", line 1268, in _close\n",
      "    await gen.with_timeout(timedelta(seconds=2), list(coroutines))\n",
      "concurrent.futures._base.CancelledError\n",
      "distributed.utils - ERROR - \n",
      "Traceback (most recent call last):\n",
      "  File \"/home/romanell/.pyenv/versions/3.6.7/envs/impresso-sanity-check/lib/python3.6/site-packages/distributed/utils.py\", line 666, in log_errors\n",
      "    yield\n",
      "  File \"/home/romanell/.pyenv/versions/3.6.7/envs/impresso-sanity-check/lib/python3.6/site-packages/distributed/client.py\", line 998, in _reconnect\n",
      "    await self._close()\n",
      "  File \"/home/romanell/.pyenv/versions/3.6.7/envs/impresso-sanity-check/lib/python3.6/site-packages/distributed/client.py\", line 1268, in _close\n",
      "    await gen.with_timeout(timedelta(seconds=2), list(coroutines))\n",
      "concurrent.futures._base.CancelledError\n",
      "distributed.utils - ERROR - \n",
      "Traceback (most recent call last):\n",
      "  File \"/home/romanell/.pyenv/versions/3.6.7/envs/impresso-sanity-check/lib/python3.6/site-packages/distributed/utils.py\", line 666, in log_errors\n",
      "    yield\n",
      "  File \"/home/romanell/.pyenv/versions/3.6.7/envs/impresso-sanity-check/lib/python3.6/site-packages/distributed/client.py\", line 998, in _reconnect\n",
      "    await self._close()\n",
      "  File \"/home/romanell/.pyenv/versions/3.6.7/envs/impresso-sanity-check/lib/python3.6/site-packages/distributed/client.py\", line 1268, in _close\n",
      "    await gen.with_timeout(timedelta(seconds=2), list(coroutines))\n",
      "concurrent.futures._base.CancelledError\n"
     ]
    }
   ],
   "source": [
    "cluster.close()"
   ]
  }
 ],
 "metadata": {
  "kernelspec": {
   "display_name": "Python 3",
   "language": "python",
   "name": "python3"
  },
  "language_info": {
   "codemirror_mode": {
    "name": "ipython",
    "version": 3
   },
   "file_extension": ".py",
   "mimetype": "text/x-python",
   "name": "python",
   "nbconvert_exporter": "python",
   "pygments_lexer": "ipython3",
   "version": "3.6.7"
  },
  "toc": {
   "base_numbering": 1,
   "nav_menu": {},
   "number_sections": false,
   "sideBar": true,
   "skip_h1_title": true,
   "title_cell": "Table of Contents",
   "title_sidebar": "Contents",
   "toc_cell": false,
   "toc_position": {
    "height": "calc(100% - 180px)",
    "left": "10px",
    "top": "150px",
    "width": "262.391px"
   },
   "toc_section_display": true,
   "toc_window_display": true
  }
 },
 "nbformat": 4,
 "nbformat_minor": 2
}
