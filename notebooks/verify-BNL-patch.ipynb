{
 "cells": [
  {
   "cell_type": "markdown",
   "metadata": {},
   "source": [
    "**Logic**:\n",
    "- compare current and new canonical data\n",
    "    - verify new CI IDs as well as deleted ones (a trace of the merging should be found in metadata)\n",
    "- cross-check with user collections in MySQL\n",
    "    - how many of the patched CIs are found there?"
   ]
  },
  {
   "cell_type": "markdown",
   "metadata": {},
   "source": [
    "## Imports"
   ]
  },
  {
   "cell_type": "code",
   "execution_count": 1,
   "metadata": {},
   "outputs": [],
   "source": [
    "import os, sys\n",
    "sys.path.append(\"../\")\n",
    "import pandas as pd\n",
    "import json\n",
    "from dask import bag as db\n",
    "from dask_k8 import DaskCluster\n",
    "from dask.distributed import Client\n",
    "from impresso_commons.utils.s3 import IMPRESSO_STORAGEOPT, fixed_s3fs_glob\n",
    "from impresso_commons.utils.s3 import alternative_read_text\n",
    "from impresso_commons.utils.kube import (make_scheduler_configuration,\n",
    "                                         make_worker_configuration)\n",
    "from sanity_check.contents.s3_data import list_files_rebuilt, list_pages"
   ]
  },
  {
   "cell_type": "markdown",
   "metadata": {},
   "source": [
    "## Functions"
   ]
  },
  {
   "cell_type": "code",
   "execution_count": 4,
   "metadata": {},
   "outputs": [],
   "source": [
    "S3_CANONICAL_DATA_BUCKET = \"s3://original-canonical-fixed\"\n",
    "S3_REBUILT_DATA_BUCKET = \"s3://canonical-rebuilt\""
   ]
  },
  {
   "cell_type": "code",
   "execution_count": 8,
   "metadata": {
    "code_folding": []
   },
   "outputs": [],
   "source": [
    "from typing import List\n",
    "\n",
    "def list_issues(bucket_name: str = S3_CANONICAL_DATA_BUCKET, newspapers : List = []):\n",
    "    if newspapers:\n",
    "        pass\n",
    "    else:\n",
    "        if bucket_name:\n",
    "            newspapers = list_newspapers(bucket_name)\n",
    "        else:\n",
    "            newspapers = list_newspapers()\n",
    "    print(f'Issues for these newspapers will be listed: {newspapers}')\n",
    "    issue_files = [\n",
    "        file\n",
    "        for np in newspapers\n",
    "        for file in fixed_s3fs_glob(f\"{os.path.join(bucket_name, f'{np}/issues/*')}\")\n",
    "    ]\n",
    "    print(f\"{bucket_name} contains {len(issue_files)} .bz2 files with issues\")\n",
    "    return issue_files"
   ]
  },
  {
   "cell_type": "code",
   "execution_count": 24,
   "metadata": {
    "code_folding": [
     0
    ]
   },
   "outputs": [],
   "source": [
    "def fetch_issues(bucket_name=S3_CANONICAL_DATA_BUCKET, newspapers=[], compute=True):\n",
    "    \"\"\"\n",
    "    Fetch issue JSON docs from an s3 bucket with impresso canonical data.\n",
    "    \"\"\"\n",
    "    if newspapers:\n",
    "        issue_files = list_issues(bucket_name, newspapers)\n",
    "    else:\n",
    "        issue_files = list_issues(bucket_name)\n",
    "\n",
    "    print(\n",
    "        (\n",
    "            f\"Fetching issue ids from {len(issue_files)} .bz2 files \"\n",
    "            f\"(compute={compute})\"\n",
    "        )\n",
    "    )\n",
    "    issue_bag = db.read_text(issue_files, storage_options=IMPRESSO_STORAGEOPT).map(\n",
    "        json.loads\n",
    "    )\n",
    "\n",
    "    if compute:\n",
    "        return issue_bag.compute()\n",
    "    else:\n",
    "        return issue_bag"
   ]
  },
  {
   "cell_type": "code",
   "execution_count": 20,
   "metadata": {
    "code_folding": [
     0
    ]
   },
   "outputs": [],
   "source": [
    "def start_cluster(n_workers : int = 10, worker_memory : str = '1G', blocking : bool = False):\n",
    "    cluster = DaskCluster(\n",
    "        namespace=\"dhlab\",\n",
    "        cluster_id=\"impresso-sanitycheck\",\n",
    "        scheduler_pod_spec=make_scheduler_configuration(),\n",
    "        worker_pod_spec=make_worker_configuration(\n",
    "            docker_image=\"ic-registry.epfl.ch/dhlab/impresso_pycommons:v1\",\n",
    "            memory=worker_memory\n",
    "        )\n",
    "    )\n",
    "    cluster.create()\n",
    "    cluster.scale(n_workers, blocking=False)\n",
    "    return cluster, cluster.make_dask_client()"
   ]
  },
  {
   "cell_type": "markdown",
   "metadata": {},
   "source": [
    "## Config"
   ]
  },
  {
   "cell_type": "code",
   "execution_count": 2,
   "metadata": {},
   "outputs": [],
   "source": [
    "new_canonical_bucket = \"s3://original-canonical-staging\"\n",
    "current_canonical_bucket = \"s3://original-canonical-release\""
   ]
  },
  {
   "cell_type": "code",
   "execution_count": 95,
   "metadata": {
    "code_folding": [
     0
    ]
   },
   "outputs": [],
   "source": [
    "lux_nps = [\n",
    "    'actionfem',\n",
    "    'armeteufel',\n",
    "    'avenirgdl',\n",
    "    'buergerbeamten',\n",
    "    'courriergdl',\n",
    "    'deletz1893',\n",
    "    'demitock',\n",
    "    'diekwochen',\n",
    "    'dunioun',\n",
    "    'gazgrdlux',\n",
    "    'indeplux',\n",
    "    'kommmit',\n",
    "    'landwortbild',\n",
    "    'lunion',\n",
    "    'luxembourg1935',\n",
    "    'luxland',\n",
    "    'luxwort',\n",
    "    'luxzeit1844',\n",
    "    'luxzeit1858',\n",
    "    'obermosel',\n",
    "    'onsjongen',\n",
    "    'schmiede',\n",
    "    'tageblatt',\n",
    "    'volkfreu1869',\n",
    "    'waechtersauer',\n",
    "    'waeschfra',\n",
    "    'actionfem',\n",
    "    'armeteufel',\n",
    "    'avenirgdl',\n",
    "    'buergerbeamten',\n",
    "    'courriergdl',\n",
    "    'deletz1893',\n",
    "    'demitock',\n",
    "    'diekwochen',\n",
    "    'dunioun',\n",
    "    'gazgrdlux',\n",
    "    'indeplux',\n",
    "    'kommmit',\n",
    "    'landwortbild',\n",
    "    'lunion',\n",
    "    'luxembourg1935',\n",
    "    'luxland',\n",
    "    'luxwort',\n",
    "    'luxzeit1844',\n",
    "    'luxzeit1858',\n",
    "    'obermosel',\n",
    "    'onsjongen',\n",
    "    'schmiede',\n",
    "    'tageblatt',\n",
    "    'volkfreu1869',\n",
    "    'waechtersauer',\n",
    "    'waeschfra',\n",
    "]"
   ]
  },
  {
   "cell_type": "code",
   "execution_count": 96,
   "metadata": {},
   "outputs": [
    {
     "data": {
      "text/plain": [
       "52"
      ]
     },
     "execution_count": 96,
     "metadata": {},
     "output_type": "execute_result"
    }
   ],
   "source": [
    "len(lux_nps)"
   ]
  },
  {
   "cell_type": "markdown",
   "metadata": {},
   "source": [
    "## dask k8 cluster"
   ]
  },
  {
   "cell_type": "code",
   "execution_count": 97,
   "metadata": {},
   "outputs": [
    {
     "name": "stdout",
     "output_type": "stream",
     "text": [
      "Scheduler: tcp://10.90.49.4:9001\n",
      "Dashboard: http://10.90.49.4:9078\n"
     ]
    }
   ],
   "source": [
    "dask_cluster, dask_client = start_cluster(n_workers=100, worker_memory='5G')"
   ]
  },
  {
   "cell_type": "markdown",
   "metadata": {},
   "source": [
    "## Read in new and current canonical"
   ]
  },
  {
   "cell_type": "code",
   "execution_count": 98,
   "metadata": {},
   "outputs": [
    {
     "name": "stdout",
     "output_type": "stream",
     "text": [
      "Issues for these newspapers will be listed: ['actionfem', 'armeteufel', 'avenirgdl', 'buergerbeamten', 'courriergdl', 'deletz1893', 'demitock', 'diekwochen', 'dunioun', 'gazgrdlux', 'indeplux', 'kommmit', 'landwortbild', 'lunion', 'luxembourg1935', 'luxland', 'luxwort', 'luxzeit1844', 'luxzeit1858', 'obermosel', 'onsjongen', 'schmiede', 'tageblatt', 'volkfreu1869', 'waechtersauer', 'waeschfra', 'actionfem', 'armeteufel', 'avenirgdl', 'buergerbeamten', 'courriergdl', 'deletz1893', 'demitock', 'diekwochen', 'dunioun', 'gazgrdlux', 'indeplux', 'kommmit', 'landwortbild', 'lunion', 'luxembourg1935', 'luxland', 'luxwort', 'luxzeit1844', 'luxzeit1858', 'obermosel', 'onsjongen', 'schmiede', 'tageblatt', 'volkfreu1869', 'waechtersauer', 'waeschfra']\n",
      "s3://original-canonical-staging contains 1050 .bz2 files with issues\n"
     ]
    }
   ],
   "source": [
    "new_canonical_files = list_issues(new_canonical_bucket, newspapers=lux_nps)"
   ]
  },
  {
   "cell_type": "code",
   "execution_count": 99,
   "metadata": {},
   "outputs": [
    {
     "name": "stdout",
     "output_type": "stream",
     "text": [
      "Issues for these newspapers will be listed: ['actionfem', 'armeteufel', 'avenirgdl', 'buergerbeamten', 'courriergdl', 'deletz1893', 'demitock', 'diekwochen', 'dunioun', 'gazgrdlux', 'indeplux', 'kommmit', 'landwortbild', 'lunion', 'luxembourg1935', 'luxland', 'luxwort', 'luxzeit1844', 'luxzeit1858', 'obermosel', 'onsjongen', 'schmiede', 'tageblatt', 'volkfreu1869', 'waechtersauer', 'waeschfra', 'actionfem', 'armeteufel', 'avenirgdl', 'buergerbeamten', 'courriergdl', 'deletz1893', 'demitock', 'diekwochen', 'dunioun', 'gazgrdlux', 'indeplux', 'kommmit', 'landwortbild', 'lunion', 'luxembourg1935', 'luxland', 'luxwort', 'luxzeit1844', 'luxzeit1858', 'obermosel', 'onsjongen', 'schmiede', 'tageblatt', 'volkfreu1869', 'waechtersauer', 'waeschfra']\n",
      "s3://original-canonical-release contains 1050 .bz2 files with issues\n"
     ]
    }
   ],
   "source": [
    "current_canonical_files = list_issues(current_canonical_bucket, newspapers=lux_nps)"
   ]
  },
  {
   "cell_type": "code",
   "execution_count": 100,
   "metadata": {},
   "outputs": [
    {
     "name": "stdout",
     "output_type": "stream",
     "text": [
      "Issues for these newspapers will be listed: ['actionfem', 'armeteufel', 'avenirgdl', 'buergerbeamten', 'courriergdl', 'deletz1893', 'demitock', 'diekwochen', 'dunioun', 'gazgrdlux', 'indeplux', 'kommmit', 'landwortbild', 'lunion', 'luxembourg1935', 'luxland', 'luxwort', 'luxzeit1844', 'luxzeit1858', 'obermosel', 'onsjongen', 'schmiede', 'tageblatt', 'volkfreu1869', 'waechtersauer', 'waeschfra', 'actionfem', 'armeteufel', 'avenirgdl', 'buergerbeamten', 'courriergdl', 'deletz1893', 'demitock', 'diekwochen', 'dunioun', 'gazgrdlux', 'indeplux', 'kommmit', 'landwortbild', 'lunion', 'luxembourg1935', 'luxland', 'luxwort', 'luxzeit1844', 'luxzeit1858', 'obermosel', 'onsjongen', 'schmiede', 'tageblatt', 'volkfreu1869', 'waechtersauer', 'waeschfra']\n",
      "s3://original-canonical-staging contains 1050 .bz2 files with issues\n",
      "Fetching issue ids from 1050 .bz2 files (compute=False)\n"
     ]
    }
   ],
   "source": [
    "newcanonical_issues_bag = fetch_issues(new_canonical_bucket, newspapers=lux_nps, compute=False)"
   ]
  },
  {
   "cell_type": "code",
   "execution_count": 101,
   "metadata": {},
   "outputs": [
    {
     "name": "stdout",
     "output_type": "stream",
     "text": [
      "Issues for these newspapers will be listed: ['actionfem', 'armeteufel', 'avenirgdl', 'buergerbeamten', 'courriergdl', 'deletz1893', 'demitock', 'diekwochen', 'dunioun', 'gazgrdlux', 'indeplux', 'kommmit', 'landwortbild', 'lunion', 'luxembourg1935', 'luxland', 'luxwort', 'luxzeit1844', 'luxzeit1858', 'obermosel', 'onsjongen', 'schmiede', 'tageblatt', 'volkfreu1869', 'waechtersauer', 'waeschfra', 'actionfem', 'armeteufel', 'avenirgdl', 'buergerbeamten', 'courriergdl', 'deletz1893', 'demitock', 'diekwochen', 'dunioun', 'gazgrdlux', 'indeplux', 'kommmit', 'landwortbild', 'lunion', 'luxembourg1935', 'luxland', 'luxwort', 'luxzeit1844', 'luxzeit1858', 'obermosel', 'onsjongen', 'schmiede', 'tageblatt', 'volkfreu1869', 'waechtersauer', 'waeschfra']\n",
      "s3://original-canonical-release contains 1050 .bz2 files with issues\n",
      "Fetching issue ids from 1050 .bz2 files (compute=False)\n"
     ]
    }
   ],
   "source": [
    "currentcanonical_issues_bag = fetch_issues(current_canonical_bucket, newspapers=lux_nps, compute=False)"
   ]
  },
  {
   "cell_type": "code",
   "execution_count": 102,
   "metadata": {},
   "outputs": [
    {
     "data": {
      "text/plain": [
       "194650"
      ]
     },
     "execution_count": 102,
     "metadata": {},
     "output_type": "execute_result"
    }
   ],
   "source": [
    "newcanonical_issues_bag.count().compute()"
   ]
  },
  {
   "cell_type": "code",
   "execution_count": 103,
   "metadata": {},
   "outputs": [
    {
     "data": {
      "text/plain": [
       "194650"
      ]
     },
     "execution_count": 103,
     "metadata": {},
     "output_type": "execute_result"
    }
   ],
   "source": [
    "currentcanonical_issues_bag.count().compute()"
   ]
  },
  {
   "cell_type": "markdown",
   "metadata": {},
   "source": [
    "## Create dataframes"
   ]
  },
  {
   "cell_type": "markdown",
   "metadata": {},
   "source": [
    "### From new canonical data"
   ]
  },
  {
   "cell_type": "code",
   "execution_count": 33,
   "metadata": {},
   "outputs": [],
   "source": [
    "example = newcanonical_issues_bag.take(1)[0]"
   ]
  },
  {
   "cell_type": "code",
   "execution_count": 63,
   "metadata": {
    "collapsed": true
   },
   "outputs": [
    {
     "data": {
      "text/plain": [
       "{'cdt': '2020-02-10 11:38:54',\n",
       " 'i': [{'m': {'id': 'luxwort-1848-03-23-a-i0001',\n",
       "    'pp': [1, 2],\n",
       "    'tp': 'article',\n",
       "    't': 'Die Regierung hat folgende Proklamation  erlassen:',\n",
       "    'l': 'fr'},\n",
       "   'l': {'id': 'MODSMD_ARTICLE1',\n",
       "    'parts': [{'comp_role': 'heading',\n",
       "      'comp_id': 'P1_TB00009',\n",
       "      'comp_fileid': 'ALTO00001',\n",
       "      'comp_page_no': 1},\n",
       "     {'comp_role': 'heading',\n",
       "      'comp_id': 'P1_TB00011',\n",
       "      'comp_fileid': 'ALTO00001',\n",
       "      'comp_page_no': 1},\n",
       "     {'comp_role': 'body',\n",
       "      'comp_id': 'P1_TB00010',\n",
       "      'comp_fileid': 'ALTO00001',\n",
       "      'comp_page_no': 1},\n",
       "     {'comp_role': 'body',\n",
       "      'comp_id': 'P1_TB00008',\n",
       "      'comp_fileid': 'ALTO00001',\n",
       "      'comp_page_no': 1},\n",
       "     {'comp_role': 'body',\n",
       "      'comp_id': 'P1_TB00007',\n",
       "      'comp_fileid': 'ALTO00001',\n",
       "      'comp_page_no': 1},\n",
       "     {'comp_role': 'body',\n",
       "      'comp_id': 'P1_TB00016',\n",
       "      'comp_fileid': 'ALTO00001',\n",
       "      'comp_page_no': 1},\n",
       "     {'comp_role': 'body',\n",
       "      'comp_id': 'P1_TB00015',\n",
       "      'comp_fileid': 'ALTO00001',\n",
       "      'comp_page_no': 1},\n",
       "     {'comp_role': 'body',\n",
       "      'comp_id': 'P1_TB00014',\n",
       "      'comp_fileid': 'ALTO00001',\n",
       "      'comp_page_no': 1},\n",
       "     {'comp_role': 'body',\n",
       "      'comp_id': 'P1_TB00012',\n",
       "      'comp_fileid': 'ALTO00001',\n",
       "      'comp_page_no': 1},\n",
       "     {'comp_role': 'body',\n",
       "      'comp_id': 'P1_TB00013',\n",
       "      'comp_fileid': 'ALTO00001',\n",
       "      'comp_page_no': 1},\n",
       "     {'comp_role': 'body',\n",
       "      'comp_id': 'P1_TB00005',\n",
       "      'comp_fileid': 'ALTO00001',\n",
       "      'comp_page_no': 1},\n",
       "     {'comp_role': 'body',\n",
       "      'comp_id': 'P1_TB00006',\n",
       "      'comp_fileid': 'ALTO00001',\n",
       "      'comp_page_no': 1},\n",
       "     {'comp_role': 'body',\n",
       "      'comp_id': 'P2_TB00008',\n",
       "      'comp_fileid': 'ALTO00002',\n",
       "      'comp_page_no': 2}]}},\n",
       "  {'m': {'id': 'luxwort-1848-03-23-a-i0002',\n",
       "    'pp': [2],\n",
       "    'tp': 'article',\n",
       "    't': 'Was will die neue Zeitung?',\n",
       "    'l': 'fr'},\n",
       "   'l': {'id': 'MODSMD_ARTICLE2',\n",
       "    'parts': [{'comp_role': 'heading',\n",
       "      'comp_id': 'P2_TB00006',\n",
       "      'comp_fileid': 'ALTO00002',\n",
       "      'comp_page_no': 2},\n",
       "     {'comp_role': 'body',\n",
       "      'comp_id': 'P2_TB00007',\n",
       "      'comp_fileid': 'ALTO00002',\n",
       "      'comp_page_no': 2},\n",
       "     {'comp_role': 'body',\n",
       "      'comp_id': 'P2_TB00005',\n",
       "      'comp_fileid': 'ALTO00002',\n",
       "      'comp_page_no': 2}]}},\n",
       "  {'m': {'id': 'luxwort-1848-03-23-a-i0003',\n",
       "    'pp': [2, 3],\n",
       "    'tp': 'article',\n",
       "    't': 'Luxemburg in den Tagen  des 15., 16. und 17. März und die  Protestation  der Katholiken des Luxemburger Landes.',\n",
       "    'l': 'fr'},\n",
       "   'l': {'id': 'MODSMD_ARTICLE3',\n",
       "    'parts': [{'comp_role': 'heading',\n",
       "      'comp_id': 'P2_TB00003',\n",
       "      'comp_fileid': 'ALTO00002',\n",
       "      'comp_page_no': 2},\n",
       "     {'comp_role': 'body',\n",
       "      'comp_id': 'P2_TB00002',\n",
       "      'comp_fileid': 'ALTO00002',\n",
       "      'comp_page_no': 2},\n",
       "     {'comp_role': 'body',\n",
       "      'comp_id': 'P2_TB00001',\n",
       "      'comp_fileid': 'ALTO00002',\n",
       "      'comp_page_no': 2},\n",
       "     {'comp_role': 'body',\n",
       "      'comp_id': 'P2_TB00004',\n",
       "      'comp_fileid': 'ALTO00002',\n",
       "      'comp_page_no': 2},\n",
       "     {'comp_role': 'body',\n",
       "      'comp_id': 'P3_TB00007',\n",
       "      'comp_fileid': 'ALTO00003',\n",
       "      'comp_page_no': 3},\n",
       "     {'comp_role': 'body',\n",
       "      'comp_id': 'P3_TB00006',\n",
       "      'comp_fileid': 'ALTO00003',\n",
       "      'comp_page_no': 3},\n",
       "     {'comp_role': 'body',\n",
       "      'comp_id': 'P3_TB00002',\n",
       "      'comp_fileid': 'ALTO00003',\n",
       "      'comp_page_no': 3}]}},\n",
       "  {'m': {'id': 'luxwort-1848-03-23-a-i0004',\n",
       "    'pp': [3, 4],\n",
       "    'tp': 'article',\n",
       "    't': 'Preußen  Patent  wegen beschleunigter Einberufung des vereinigten Landtages.',\n",
       "    'l': 'fr'},\n",
       "   'l': {'id': 'MODSMD_ARTICLE4',\n",
       "    'parts': [{'comp_role': 'heading',\n",
       "      'comp_id': 'P3_TB00010',\n",
       "      'comp_fileid': 'ALTO00003',\n",
       "      'comp_page_no': 3},\n",
       "     {'comp_role': 'body',\n",
       "      'comp_id': 'P3_TB00009',\n",
       "      'comp_fileid': 'ALTO00003',\n",
       "      'comp_page_no': 3},\n",
       "     {'comp_role': 'body',\n",
       "      'comp_id': 'P3_TB00008',\n",
       "      'comp_fileid': 'ALTO00003',\n",
       "      'comp_page_no': 3},\n",
       "     {'comp_role': 'body',\n",
       "      'comp_id': 'P4_TB00013',\n",
       "      'comp_fileid': 'ALTO00004',\n",
       "      'comp_page_no': 4},\n",
       "     {'comp_role': 'body',\n",
       "      'comp_id': 'P4_TB00001',\n",
       "      'comp_fileid': 'ALTO00004',\n",
       "      'comp_page_no': 4},\n",
       "     {'comp_role': 'body',\n",
       "      'comp_id': 'P4_TB00002',\n",
       "      'comp_fileid': 'ALTO00004',\n",
       "      'comp_page_no': 4},\n",
       "     {'comp_role': 'body',\n",
       "      'comp_id': 'P4_TB00004',\n",
       "      'comp_fileid': 'ALTO00004',\n",
       "      'comp_page_no': 4},\n",
       "     {'comp_role': 'body',\n",
       "      'comp_id': 'P4_TB00003',\n",
       "      'comp_fileid': 'ALTO00004',\n",
       "      'comp_page_no': 4}]}},\n",
       "  {'m': {'id': 'luxwort-1848-03-23-a-i0005',\n",
       "    'tp': 'ad',\n",
       "    'pp': [4],\n",
       "    't': 'Pub. 1 Page 4'},\n",
       "   'l': {'parts': [{'comp_role': None,\n",
       "      'comp_id': 'P4_CB00001',\n",
       "      'comp_fileid': 'ALTO00004',\n",
       "      'comp_page_no': 4}],\n",
       "    'id': 'DTL116'}},\n",
       "  {'m': {'id': 'luxwort-1848-03-23-a-i0006',\n",
       "    'pp': [3],\n",
       "    'tp': 'article',\n",
       "    't': 'Luxemburg.'},\n",
       "   'l': {'id': 'MODSMD_SECTION1',\n",
       "    'parts': [{'comp_role': 'heading',\n",
       "      'comp_id': 'P3_TB00005',\n",
       "      'comp_fileid': 'ALTO00003',\n",
       "      'comp_page_no': 3},\n",
       "     {'comp_role': 'body',\n",
       "      'comp_id': 'P3_TB00004',\n",
       "      'comp_fileid': 'ALTO00003',\n",
       "      'comp_page_no': 3},\n",
       "     {'comp_role': 'body',\n",
       "      'comp_id': 'P3_TB00003',\n",
       "      'comp_fileid': 'ALTO00003',\n",
       "      'comp_page_no': 3},\n",
       "     {'comp_role': 'body',\n",
       "      'comp_id': 'P3_TB00001',\n",
       "      'comp_fileid': 'ALTO00003',\n",
       "      'comp_page_no': 3},\n",
       "     {'comp_role': 'body',\n",
       "      'comp_id': 'P3_TB00011',\n",
       "      'comp_fileid': 'ALTO00003',\n",
       "      'comp_page_no': 3}],\n",
       "    'canonical_parts': []}},\n",
       "  {'m': {'id': 'luxwort-1848-03-23-a-i0007',\n",
       "    'pp': [4],\n",
       "    'tp': 'article',\n",
       "    't': 'Frankreich.'},\n",
       "   'l': {'id': 'MODSMD_SECTION2',\n",
       "    'parts': [{'comp_role': 'heading',\n",
       "      'comp_id': 'P4_TB00011',\n",
       "      'comp_fileid': 'ALTO00004',\n",
       "      'comp_page_no': 4},\n",
       "     {'comp_role': 'body',\n",
       "      'comp_id': 'P4_TB00010',\n",
       "      'comp_fileid': 'ALTO00004',\n",
       "      'comp_page_no': 4}],\n",
       "    'canonical_parts': []}},\n",
       "  {'m': {'id': 'luxwort-1848-03-23-a-i0008',\n",
       "    'pp': [4],\n",
       "    'tp': 'article',\n",
       "    't': 'Belgien.'},\n",
       "   'l': {'id': 'MODSMD_SECTION3',\n",
       "    'parts': [{'comp_role': 'heading',\n",
       "      'comp_id': 'P4_TB00009',\n",
       "      'comp_fileid': 'ALTO00004',\n",
       "      'comp_page_no': 4},\n",
       "     {'comp_role': 'body',\n",
       "      'comp_id': 'P4_TB00008',\n",
       "      'comp_fileid': 'ALTO00004',\n",
       "      'comp_page_no': 4}],\n",
       "    'canonical_parts': []}},\n",
       "  {'m': {'id': 'luxwort-1848-03-23-a-i0009',\n",
       "    'pp': [4],\n",
       "    'tp': 'article',\n",
       "    't': 'Niederlande.'},\n",
       "   'l': {'id': 'MODSMD_SECTION4',\n",
       "    'parts': [{'comp_role': 'heading',\n",
       "      'comp_id': 'P4_TB00007',\n",
       "      'comp_fileid': 'ALTO00004',\n",
       "      'comp_page_no': 4},\n",
       "     {'comp_role': 'body',\n",
       "      'comp_id': 'P4_TB00006',\n",
       "      'comp_fileid': 'ALTO00004',\n",
       "      'comp_page_no': 4}],\n",
       "    'canonical_parts': []}}],\n",
       " 'id': 'luxwort-1848-03-23-a',\n",
       " 'ar': 'open_public',\n",
       " 'pp': ['luxwort-1848-03-23-a-p0001',\n",
       "  'luxwort-1848-03-23-a-p0002',\n",
       "  'luxwort-1848-03-23-a-p0003',\n",
       "  'luxwort-1848-03-23-a-p0004']}"
      ]
     },
     "execution_count": 63,
     "metadata": {},
     "output_type": "execute_result"
    }
   ],
   "source": [
    "example"
   ]
  },
  {
   "cell_type": "code",
   "execution_count": 104,
   "metadata": {},
   "outputs": [],
   "source": [
    "newcanonical_cis_bag = newcanonical_issues_bag.map(\n",
    "    lambda i: i['i']\n",
    ").flatten().map(\n",
    "    lambda ci: {\n",
    "    'id': ci['m']['id'],\n",
    "    'title': ci['m']['t'] if 't' in ci['m'] else None,\n",
    "    'pages': ci['m']['pp'],\n",
    "    'path': new_canonical_bucket\n",
    "    }\n",
    " )"
   ]
  },
  {
   "cell_type": "code",
   "execution_count": 68,
   "metadata": {},
   "outputs": [
    {
     "data": {
      "text/plain": [
       "{'id': 'luxwort-1848-03-23-a-i0001',\n",
       " 'title': 'Die Regierung hat folgende Proklamation  erlassen:',\n",
       " 'pages': [1, 2],\n",
       " 'path': 's3://original-canonical-staging'}"
      ]
     },
     "execution_count": 68,
     "metadata": {},
     "output_type": "execute_result"
    }
   ],
   "source": [
    "#newcanonical_cis_bag.take(1)[0]"
   ]
  },
  {
   "cell_type": "code",
   "execution_count": 105,
   "metadata": {},
   "outputs": [],
   "source": [
    "newcanonical_df = newcanonical_cis_bag.to_dataframe().set_index('id').persist()"
   ]
  },
  {
   "cell_type": "code",
   "execution_count": 106,
   "metadata": {},
   "outputs": [
    {
     "data": {
      "text/html": [
       "<div>\n",
       "<style scoped>\n",
       "    .dataframe tbody tr th:only-of-type {\n",
       "        vertical-align: middle;\n",
       "    }\n",
       "\n",
       "    .dataframe tbody tr th {\n",
       "        vertical-align: top;\n",
       "    }\n",
       "\n",
       "    .dataframe thead th {\n",
       "        text-align: right;\n",
       "    }\n",
       "</style>\n",
       "<table border=\"1\" class=\"dataframe\">\n",
       "  <thead>\n",
       "    <tr style=\"text-align: right;\">\n",
       "      <th></th>\n",
       "      <th>title</th>\n",
       "      <th>pages</th>\n",
       "      <th>path</th>\n",
       "    </tr>\n",
       "    <tr>\n",
       "      <th>id</th>\n",
       "      <th></th>\n",
       "      <th></th>\n",
       "      <th></th>\n",
       "    </tr>\n",
       "  </thead>\n",
       "  <tbody>\n",
       "    <tr>\n",
       "      <th>actionfem-1927-10-15-a-i0001</th>\n",
       "      <td>None</td>\n",
       "      <td>[1]</td>\n",
       "      <td>s3://original-canonical-staging</td>\n",
       "    </tr>\n",
       "    <tr>\n",
       "      <th>actionfem-1927-10-15-a-i0001</th>\n",
       "      <td>None</td>\n",
       "      <td>[1]</td>\n",
       "      <td>s3://original-canonical-staging</td>\n",
       "    </tr>\n",
       "    <tr>\n",
       "      <th>actionfem-1927-10-15-a-i0003</th>\n",
       "      <td>Unsere Vice-Präsidentin</td>\n",
       "      <td>[6, 7]</td>\n",
       "      <td>s3://original-canonical-staging</td>\n",
       "    </tr>\n",
       "    <tr>\n",
       "      <th>actionfem-1927-10-15-a-i0003</th>\n",
       "      <td>Unsere Vice-Präsidentin</td>\n",
       "      <td>[6, 7]</td>\n",
       "      <td>s3://original-canonical-staging</td>\n",
       "    </tr>\n",
       "    <tr>\n",
       "      <th>actionfem-1927-10-15-a-i0004</th>\n",
       "      <td>Glück.</td>\n",
       "      <td>[7, 8]</td>\n",
       "      <td>s3://original-canonical-staging</td>\n",
       "    </tr>\n",
       "  </tbody>\n",
       "</table>\n",
       "</div>"
      ],
      "text/plain": [
       "                                                title   pages  \\\n",
       "id                                                              \n",
       "actionfem-1927-10-15-a-i0001                     None     [1]   \n",
       "actionfem-1927-10-15-a-i0001                     None     [1]   \n",
       "actionfem-1927-10-15-a-i0003  Unsere Vice-Präsidentin  [6, 7]   \n",
       "actionfem-1927-10-15-a-i0003  Unsere Vice-Präsidentin  [6, 7]   \n",
       "actionfem-1927-10-15-a-i0004                   Glück.  [7, 8]   \n",
       "\n",
       "                                                         path  \n",
       "id                                                             \n",
       "actionfem-1927-10-15-a-i0001  s3://original-canonical-staging  \n",
       "actionfem-1927-10-15-a-i0001  s3://original-canonical-staging  \n",
       "actionfem-1927-10-15-a-i0003  s3://original-canonical-staging  \n",
       "actionfem-1927-10-15-a-i0003  s3://original-canonical-staging  \n",
       "actionfem-1927-10-15-a-i0004  s3://original-canonical-staging  "
      ]
     },
     "execution_count": 106,
     "metadata": {},
     "output_type": "execute_result"
    }
   ],
   "source": [
    "newcanonical_df.head()"
   ]
  },
  {
   "cell_type": "code",
   "execution_count": 107,
   "metadata": {},
   "outputs": [
    {
     "data": {
      "text/plain": [
       "8748580"
      ]
     },
     "execution_count": 107,
     "metadata": {},
     "output_type": "execute_result"
    }
   ],
   "source": [
    "newcanonical_df.shape[0].compute()"
   ]
  },
  {
   "cell_type": "markdown",
   "metadata": {},
   "source": [
    "### From current canonical data"
   ]
  },
  {
   "cell_type": "code",
   "execution_count": 108,
   "metadata": {},
   "outputs": [],
   "source": [
    "currentanonical_cis_bag = currentcanonical_issues_bag.map(\n",
    "    lambda i: i['i']\n",
    ").flatten().map(\n",
    "    lambda ci: {\n",
    "    'id': ci['m']['id'],\n",
    "    'title': ci['m']['t'] if 't' in ci['m'] else None,\n",
    "    'pages': ci['m']['pp'],\n",
    "    'path': current_canonical_bucket\n",
    "    }\n",
    " )"
   ]
  },
  {
   "cell_type": "code",
   "execution_count": 109,
   "metadata": {},
   "outputs": [],
   "source": [
    "currentanonical_df = currentanonical_cis_bag.to_dataframe().set_index('id').persist()"
   ]
  },
  {
   "cell_type": "code",
   "execution_count": 110,
   "metadata": {},
   "outputs": [
    {
     "data": {
      "text/html": [
       "<div>\n",
       "<style scoped>\n",
       "    .dataframe tbody tr th:only-of-type {\n",
       "        vertical-align: middle;\n",
       "    }\n",
       "\n",
       "    .dataframe tbody tr th {\n",
       "        vertical-align: top;\n",
       "    }\n",
       "\n",
       "    .dataframe thead th {\n",
       "        text-align: right;\n",
       "    }\n",
       "</style>\n",
       "<table border=\"1\" class=\"dataframe\">\n",
       "  <thead>\n",
       "    <tr style=\"text-align: right;\">\n",
       "      <th></th>\n",
       "      <th>title</th>\n",
       "      <th>pages</th>\n",
       "      <th>path</th>\n",
       "    </tr>\n",
       "    <tr>\n",
       "      <th>id</th>\n",
       "      <th></th>\n",
       "      <th></th>\n",
       "      <th></th>\n",
       "    </tr>\n",
       "  </thead>\n",
       "  <tbody>\n",
       "    <tr>\n",
       "      <th>actionfem-1927-10-15-a-i0001</th>\n",
       "      <td>None</td>\n",
       "      <td>[1]</td>\n",
       "      <td>s3://original-canonical-release</td>\n",
       "    </tr>\n",
       "    <tr>\n",
       "      <th>actionfem-1927-10-15-a-i0001</th>\n",
       "      <td>None</td>\n",
       "      <td>[1]</td>\n",
       "      <td>s3://original-canonical-release</td>\n",
       "    </tr>\n",
       "    <tr>\n",
       "      <th>actionfem-1927-10-15-a-i0002</th>\n",
       "      <td>3. Die Form der Nahrung.</td>\n",
       "      <td>[6]</td>\n",
       "      <td>s3://original-canonical-release</td>\n",
       "    </tr>\n",
       "    <tr>\n",
       "      <th>actionfem-1927-10-15-a-i0002</th>\n",
       "      <td>3. Die Form der Nahrung.</td>\n",
       "      <td>[6]</td>\n",
       "      <td>s3://original-canonical-release</td>\n",
       "    </tr>\n",
       "    <tr>\n",
       "      <th>actionfem-1927-10-15-a-i0003</th>\n",
       "      <td>Unsere Vice-Präsidentin</td>\n",
       "      <td>[6, 7]</td>\n",
       "      <td>s3://original-canonical-release</td>\n",
       "    </tr>\n",
       "  </tbody>\n",
       "</table>\n",
       "</div>"
      ],
      "text/plain": [
       "                                                 title   pages  \\\n",
       "id                                                               \n",
       "actionfem-1927-10-15-a-i0001                      None     [1]   \n",
       "actionfem-1927-10-15-a-i0001                      None     [1]   \n",
       "actionfem-1927-10-15-a-i0002  3. Die Form der Nahrung.     [6]   \n",
       "actionfem-1927-10-15-a-i0002  3. Die Form der Nahrung.     [6]   \n",
       "actionfem-1927-10-15-a-i0003   Unsere Vice-Präsidentin  [6, 7]   \n",
       "\n",
       "                                                         path  \n",
       "id                                                             \n",
       "actionfem-1927-10-15-a-i0001  s3://original-canonical-release  \n",
       "actionfem-1927-10-15-a-i0001  s3://original-canonical-release  \n",
       "actionfem-1927-10-15-a-i0002  s3://original-canonical-release  \n",
       "actionfem-1927-10-15-a-i0002  s3://original-canonical-release  \n",
       "actionfem-1927-10-15-a-i0003  s3://original-canonical-release  "
      ]
     },
     "execution_count": 110,
     "metadata": {},
     "output_type": "execute_result"
    }
   ],
   "source": [
    "currentanonical_df.head()"
   ]
  },
  {
   "cell_type": "code",
   "execution_count": 111,
   "metadata": {},
   "outputs": [
    {
     "data": {
      "text/plain": [
       "9173874"
      ]
     },
     "execution_count": 111,
     "metadata": {},
     "output_type": "execute_result"
    }
   ],
   "source": [
    "currentanonical_df.shape[0].compute()"
   ]
  },
  {
   "cell_type": "markdown",
   "metadata": {},
   "source": [
    "## Combine the two dataframes"
   ]
  },
  {
   "cell_type": "code",
   "execution_count": 112,
   "metadata": {},
   "outputs": [],
   "source": [
    "lux_canonical_df = currentanonical_df.join(\n",
    "    newcanonical_df,\n",
    "    how='outer', \n",
    "    lsuffix='_current', \n",
    "    rsuffix='_new'\n",
    ").persist()"
   ]
  },
  {
   "cell_type": "code",
   "execution_count": 113,
   "metadata": {},
   "outputs": [
    {
     "data": {
      "text/html": [
       "<div>\n",
       "<style scoped>\n",
       "    .dataframe tbody tr th:only-of-type {\n",
       "        vertical-align: middle;\n",
       "    }\n",
       "\n",
       "    .dataframe tbody tr th {\n",
       "        vertical-align: top;\n",
       "    }\n",
       "\n",
       "    .dataframe thead th {\n",
       "        text-align: right;\n",
       "    }\n",
       "</style>\n",
       "<table border=\"1\" class=\"dataframe\">\n",
       "  <thead>\n",
       "    <tr style=\"text-align: right;\">\n",
       "      <th></th>\n",
       "      <th>title_current</th>\n",
       "      <th>pages_current</th>\n",
       "      <th>path_current</th>\n",
       "      <th>title_new</th>\n",
       "      <th>pages_new</th>\n",
       "      <th>path_new</th>\n",
       "    </tr>\n",
       "    <tr>\n",
       "      <th>id</th>\n",
       "      <th></th>\n",
       "      <th></th>\n",
       "      <th></th>\n",
       "      <th></th>\n",
       "      <th></th>\n",
       "      <th></th>\n",
       "    </tr>\n",
       "  </thead>\n",
       "  <tbody>\n",
       "    <tr>\n",
       "      <th>actionfem-1927-10-15-a-i0001</th>\n",
       "      <td>None</td>\n",
       "      <td>[1]</td>\n",
       "      <td>s3://original-canonical-release</td>\n",
       "      <td>None</td>\n",
       "      <td>[1]</td>\n",
       "      <td>s3://original-canonical-staging</td>\n",
       "    </tr>\n",
       "    <tr>\n",
       "      <th>actionfem-1927-10-15-a-i0001</th>\n",
       "      <td>None</td>\n",
       "      <td>[1]</td>\n",
       "      <td>s3://original-canonical-release</td>\n",
       "      <td>None</td>\n",
       "      <td>[1]</td>\n",
       "      <td>s3://original-canonical-staging</td>\n",
       "    </tr>\n",
       "    <tr>\n",
       "      <th>actionfem-1927-10-15-a-i0001</th>\n",
       "      <td>None</td>\n",
       "      <td>[1]</td>\n",
       "      <td>s3://original-canonical-release</td>\n",
       "      <td>None</td>\n",
       "      <td>[1]</td>\n",
       "      <td>s3://original-canonical-staging</td>\n",
       "    </tr>\n",
       "    <tr>\n",
       "      <th>actionfem-1927-10-15-a-i0001</th>\n",
       "      <td>None</td>\n",
       "      <td>[1]</td>\n",
       "      <td>s3://original-canonical-release</td>\n",
       "      <td>None</td>\n",
       "      <td>[1]</td>\n",
       "      <td>s3://original-canonical-staging</td>\n",
       "    </tr>\n",
       "    <tr>\n",
       "      <th>actionfem-1927-10-15-a-i0002</th>\n",
       "      <td>3. Die Form der Nahrung.</td>\n",
       "      <td>[6]</td>\n",
       "      <td>s3://original-canonical-release</td>\n",
       "      <td>NaN</td>\n",
       "      <td>NaN</td>\n",
       "      <td>NaN</td>\n",
       "    </tr>\n",
       "  </tbody>\n",
       "</table>\n",
       "</div>"
      ],
      "text/plain": [
       "                                         title_current pages_current  \\\n",
       "id                                                                     \n",
       "actionfem-1927-10-15-a-i0001                      None           [1]   \n",
       "actionfem-1927-10-15-a-i0001                      None           [1]   \n",
       "actionfem-1927-10-15-a-i0001                      None           [1]   \n",
       "actionfem-1927-10-15-a-i0001                      None           [1]   \n",
       "actionfem-1927-10-15-a-i0002  3. Die Form der Nahrung.           [6]   \n",
       "\n",
       "                                                 path_current title_new  \\\n",
       "id                                                                        \n",
       "actionfem-1927-10-15-a-i0001  s3://original-canonical-release      None   \n",
       "actionfem-1927-10-15-a-i0001  s3://original-canonical-release      None   \n",
       "actionfem-1927-10-15-a-i0001  s3://original-canonical-release      None   \n",
       "actionfem-1927-10-15-a-i0001  s3://original-canonical-release      None   \n",
       "actionfem-1927-10-15-a-i0002  s3://original-canonical-release       NaN   \n",
       "\n",
       "                             pages_new                         path_new  \n",
       "id                                                                       \n",
       "actionfem-1927-10-15-a-i0001       [1]  s3://original-canonical-staging  \n",
       "actionfem-1927-10-15-a-i0001       [1]  s3://original-canonical-staging  \n",
       "actionfem-1927-10-15-a-i0001       [1]  s3://original-canonical-staging  \n",
       "actionfem-1927-10-15-a-i0001       [1]  s3://original-canonical-staging  \n",
       "actionfem-1927-10-15-a-i0002       NaN                              NaN  "
      ]
     },
     "execution_count": 113,
     "metadata": {},
     "output_type": "execute_result"
    }
   ],
   "source": [
    "lux_canonical_df.head()"
   ]
  },
  {
   "cell_type": "code",
   "execution_count": 116,
   "metadata": {},
   "outputs": [],
   "source": [
    "deleted_ci_ids = lux_canonical_df[lux_canonical_df.path_new.isnull()].persist()"
   ]
  },
  {
   "cell_type": "code",
   "execution_count": 117,
   "metadata": {},
   "outputs": [
    {
     "data": {
      "text/html": [
       "<div>\n",
       "<style scoped>\n",
       "    .dataframe tbody tr th:only-of-type {\n",
       "        vertical-align: middle;\n",
       "    }\n",
       "\n",
       "    .dataframe tbody tr th {\n",
       "        vertical-align: top;\n",
       "    }\n",
       "\n",
       "    .dataframe thead th {\n",
       "        text-align: right;\n",
       "    }\n",
       "</style>\n",
       "<table border=\"1\" class=\"dataframe\">\n",
       "  <thead>\n",
       "    <tr style=\"text-align: right;\">\n",
       "      <th></th>\n",
       "      <th>title_current</th>\n",
       "      <th>pages_current</th>\n",
       "      <th>path_current</th>\n",
       "      <th>title_new</th>\n",
       "      <th>pages_new</th>\n",
       "      <th>path_new</th>\n",
       "    </tr>\n",
       "    <tr>\n",
       "      <th>id</th>\n",
       "      <th></th>\n",
       "      <th></th>\n",
       "      <th></th>\n",
       "      <th></th>\n",
       "      <th></th>\n",
       "      <th></th>\n",
       "    </tr>\n",
       "  </thead>\n",
       "  <tbody>\n",
       "    <tr>\n",
       "      <th>actionfem-1927-10-15-a-i0002</th>\n",
       "      <td>3. Die Form der Nahrung.</td>\n",
       "      <td>[6]</td>\n",
       "      <td>s3://original-canonical-release</td>\n",
       "      <td>NaN</td>\n",
       "      <td>NaN</td>\n",
       "      <td>NaN</td>\n",
       "    </tr>\n",
       "    <tr>\n",
       "      <th>actionfem-1927-10-15-a-i0002</th>\n",
       "      <td>3. Die Form der Nahrung.</td>\n",
       "      <td>[6]</td>\n",
       "      <td>s3://original-canonical-release</td>\n",
       "      <td>NaN</td>\n",
       "      <td>NaN</td>\n",
       "      <td>NaN</td>\n",
       "    </tr>\n",
       "    <tr>\n",
       "      <th>actionfem-1927-10-15-a-i0024</th>\n",
       "      <td>1. Von den einzelnen Nahrungsmitteln sind die ...</td>\n",
       "      <td>[5, 6]</td>\n",
       "      <td>s3://original-canonical-release</td>\n",
       "      <td>NaN</td>\n",
       "      <td>NaN</td>\n",
       "      <td>NaN</td>\n",
       "    </tr>\n",
       "    <tr>\n",
       "      <th>actionfem-1927-10-15-a-i0024</th>\n",
       "      <td>1. Von den einzelnen Nahrungsmitteln sind die ...</td>\n",
       "      <td>[5, 6]</td>\n",
       "      <td>s3://original-canonical-release</td>\n",
       "      <td>NaN</td>\n",
       "      <td>NaN</td>\n",
       "      <td>NaN</td>\n",
       "    </tr>\n",
       "    <tr>\n",
       "      <th>actionfem-1927-10-15-a-i0025</th>\n",
       "      <td>2. Zahl der Mahlzeiten und Quantum der Rahrung.</td>\n",
       "      <td>[6]</td>\n",
       "      <td>s3://original-canonical-release</td>\n",
       "      <td>NaN</td>\n",
       "      <td>NaN</td>\n",
       "      <td>NaN</td>\n",
       "    </tr>\n",
       "  </tbody>\n",
       "</table>\n",
       "</div>"
      ],
      "text/plain": [
       "                                                                  title_current  \\\n",
       "id                                                                                \n",
       "actionfem-1927-10-15-a-i0002                           3. Die Form der Nahrung.   \n",
       "actionfem-1927-10-15-a-i0002                           3. Die Form der Nahrung.   \n",
       "actionfem-1927-10-15-a-i0024  1. Von den einzelnen Nahrungsmitteln sind die ...   \n",
       "actionfem-1927-10-15-a-i0024  1. Von den einzelnen Nahrungsmitteln sind die ...   \n",
       "actionfem-1927-10-15-a-i0025    2. Zahl der Mahlzeiten und Quantum der Rahrung.   \n",
       "\n",
       "                             pages_current                     path_current  \\\n",
       "id                                                                            \n",
       "actionfem-1927-10-15-a-i0002           [6]  s3://original-canonical-release   \n",
       "actionfem-1927-10-15-a-i0002           [6]  s3://original-canonical-release   \n",
       "actionfem-1927-10-15-a-i0024        [5, 6]  s3://original-canonical-release   \n",
       "actionfem-1927-10-15-a-i0024        [5, 6]  s3://original-canonical-release   \n",
       "actionfem-1927-10-15-a-i0025           [6]  s3://original-canonical-release   \n",
       "\n",
       "                             title_new pages_new path_new  \n",
       "id                                                         \n",
       "actionfem-1927-10-15-a-i0002       NaN       NaN      NaN  \n",
       "actionfem-1927-10-15-a-i0002       NaN       NaN      NaN  \n",
       "actionfem-1927-10-15-a-i0024       NaN       NaN      NaN  \n",
       "actionfem-1927-10-15-a-i0024       NaN       NaN      NaN  \n",
       "actionfem-1927-10-15-a-i0025       NaN       NaN      NaN  "
      ]
     },
     "execution_count": 117,
     "metadata": {},
     "output_type": "execute_result"
    }
   ],
   "source": [
    "deleted_ci_ids.head()"
   ]
  },
  {
   "cell_type": "code",
   "execution_count": 118,
   "metadata": {},
   "outputs": [
    {
     "data": {
      "text/plain": [
       "1155482"
      ]
     },
     "execution_count": 118,
     "metadata": {},
     "output_type": "execute_result"
    }
   ],
   "source": [
    "deleted_ci_ids.shape[0].compute()"
   ]
  },
  {
   "cell_type": "code",
   "execution_count": 119,
   "metadata": {},
   "outputs": [
    {
     "data": {
      "text/plain": [
       "17922454"
      ]
     },
     "execution_count": 119,
     "metadata": {},
     "output_type": "execute_result"
    }
   ],
   "source": [
    "lux_canonical_df.shape[0].compute()"
   ]
  },
  {
   "cell_type": "code",
   "execution_count": 120,
   "metadata": {},
   "outputs": [
    {
     "data": {
      "text/plain": [
       "8748580"
      ]
     },
     "execution_count": 120,
     "metadata": {},
     "output_type": "execute_result"
    }
   ],
   "source": [
    "newcanonical_df.shape[0].compute()"
   ]
  },
  {
   "cell_type": "code",
   "execution_count": 121,
   "metadata": {},
   "outputs": [],
   "source": [
    "deleted_ci_ids_df = deleted_ci_ids.compute()"
   ]
  },
  {
   "cell_type": "code",
   "execution_count": 122,
   "metadata": {},
   "outputs": [
    {
     "data": {
      "text/plain": [
       "pandas.core.frame.DataFrame"
      ]
     },
     "execution_count": 122,
     "metadata": {},
     "output_type": "execute_result"
    }
   ],
   "source": [
    "type(deleted_ci_ids_df)"
   ]
  },
  {
   "cell_type": "code",
   "execution_count": null,
   "metadata": {},
   "outputs": [],
   "source": [
    "deleted_ci_ids_df['newspaper'] = deleted_ci_ids_df.index.map(lambda x: x.split('-')[0])"
   ]
  },
  {
   "cell_type": "code",
   "execution_count": 131,
   "metadata": {},
   "outputs": [],
   "source": [
    "deleted_ci_ids_df.to_pickle('../../impresso-processing/2020-release-v2/deleted_ci_ids.pkl')"
   ]
  },
  {
   "cell_type": "code",
   "execution_count": 132,
   "metadata": {},
   "outputs": [],
   "source": [
    "deleted_ci_ids_df.to_csv('../../impresso-processing/2020-release-v2/deleted_ci_ids.csv')"
   ]
  },
  {
   "cell_type": "code",
   "execution_count": 130,
   "metadata": {},
   "outputs": [
    {
     "data": {
      "text/html": [
       "<div>\n",
       "<style scoped>\n",
       "    .dataframe tbody tr th:only-of-type {\n",
       "        vertical-align: middle;\n",
       "    }\n",
       "\n",
       "    .dataframe tbody tr th {\n",
       "        vertical-align: top;\n",
       "    }\n",
       "\n",
       "    .dataframe thead th {\n",
       "        text-align: right;\n",
       "    }\n",
       "</style>\n",
       "<table border=\"1\" class=\"dataframe\">\n",
       "  <thead>\n",
       "    <tr style=\"text-align: right;\">\n",
       "      <th></th>\n",
       "      <th>title_current</th>\n",
       "      <th>pages_current</th>\n",
       "      <th>path_current</th>\n",
       "      <th>title_new</th>\n",
       "      <th>pages_new</th>\n",
       "      <th>path_new</th>\n",
       "      <th>newspaper</th>\n",
       "    </tr>\n",
       "    <tr>\n",
       "      <th>id</th>\n",
       "      <th></th>\n",
       "      <th></th>\n",
       "      <th></th>\n",
       "      <th></th>\n",
       "      <th></th>\n",
       "      <th></th>\n",
       "      <th></th>\n",
       "    </tr>\n",
       "  </thead>\n",
       "  <tbody>\n",
       "    <tr>\n",
       "      <th>actionfem-1927-10-15-a-i0002</th>\n",
       "      <td>3. Die Form der Nahrung.</td>\n",
       "      <td>[6]</td>\n",
       "      <td>s3://original-canonical-release</td>\n",
       "      <td>NaN</td>\n",
       "      <td>NaN</td>\n",
       "      <td>NaN</td>\n",
       "      <td>actionfem</td>\n",
       "    </tr>\n",
       "    <tr>\n",
       "      <th>actionfem-1927-10-15-a-i0002</th>\n",
       "      <td>3. Die Form der Nahrung.</td>\n",
       "      <td>[6]</td>\n",
       "      <td>s3://original-canonical-release</td>\n",
       "      <td>NaN</td>\n",
       "      <td>NaN</td>\n",
       "      <td>NaN</td>\n",
       "      <td>actionfem</td>\n",
       "    </tr>\n",
       "    <tr>\n",
       "      <th>actionfem-1927-10-15-a-i0024</th>\n",
       "      <td>1. Von den einzelnen Nahrungsmitteln sind die ...</td>\n",
       "      <td>[5, 6]</td>\n",
       "      <td>s3://original-canonical-release</td>\n",
       "      <td>NaN</td>\n",
       "      <td>NaN</td>\n",
       "      <td>NaN</td>\n",
       "      <td>actionfem</td>\n",
       "    </tr>\n",
       "    <tr>\n",
       "      <th>actionfem-1927-10-15-a-i0024</th>\n",
       "      <td>1. Von den einzelnen Nahrungsmitteln sind die ...</td>\n",
       "      <td>[5, 6]</td>\n",
       "      <td>s3://original-canonical-release</td>\n",
       "      <td>NaN</td>\n",
       "      <td>NaN</td>\n",
       "      <td>NaN</td>\n",
       "      <td>actionfem</td>\n",
       "    </tr>\n",
       "    <tr>\n",
       "      <th>actionfem-1927-10-15-a-i0025</th>\n",
       "      <td>2. Zahl der Mahlzeiten und Quantum der Rahrung.</td>\n",
       "      <td>[6]</td>\n",
       "      <td>s3://original-canonical-release</td>\n",
       "      <td>NaN</td>\n",
       "      <td>NaN</td>\n",
       "      <td>NaN</td>\n",
       "      <td>actionfem</td>\n",
       "    </tr>\n",
       "  </tbody>\n",
       "</table>\n",
       "</div>"
      ],
      "text/plain": [
       "                                                                  title_current  \\\n",
       "id                                                                                \n",
       "actionfem-1927-10-15-a-i0002                           3. Die Form der Nahrung.   \n",
       "actionfem-1927-10-15-a-i0002                           3. Die Form der Nahrung.   \n",
       "actionfem-1927-10-15-a-i0024  1. Von den einzelnen Nahrungsmitteln sind die ...   \n",
       "actionfem-1927-10-15-a-i0024  1. Von den einzelnen Nahrungsmitteln sind die ...   \n",
       "actionfem-1927-10-15-a-i0025    2. Zahl der Mahlzeiten und Quantum der Rahrung.   \n",
       "\n",
       "                             pages_current                     path_current  \\\n",
       "id                                                                            \n",
       "actionfem-1927-10-15-a-i0002           [6]  s3://original-canonical-release   \n",
       "actionfem-1927-10-15-a-i0002           [6]  s3://original-canonical-release   \n",
       "actionfem-1927-10-15-a-i0024        [5, 6]  s3://original-canonical-release   \n",
       "actionfem-1927-10-15-a-i0024        [5, 6]  s3://original-canonical-release   \n",
       "actionfem-1927-10-15-a-i0025           [6]  s3://original-canonical-release   \n",
       "\n",
       "                             title_new pages_new path_new  newspaper  \n",
       "id                                                                    \n",
       "actionfem-1927-10-15-a-i0002       NaN       NaN      NaN  actionfem  \n",
       "actionfem-1927-10-15-a-i0002       NaN       NaN      NaN  actionfem  \n",
       "actionfem-1927-10-15-a-i0024       NaN       NaN      NaN  actionfem  \n",
       "actionfem-1927-10-15-a-i0024       NaN       NaN      NaN  actionfem  \n",
       "actionfem-1927-10-15-a-i0025       NaN       NaN      NaN  actionfem  "
      ]
     },
     "execution_count": 130,
     "metadata": {},
     "output_type": "execute_result"
    }
   ],
   "source": [
    "deleted_ci_ids_df.head(5)"
   ]
  },
  {
   "cell_type": "code",
   "execution_count": 133,
   "metadata": {},
   "outputs": [
    {
     "data": {
      "text/html": [
       "<div>\n",
       "<style scoped>\n",
       "    .dataframe tbody tr th:only-of-type {\n",
       "        vertical-align: middle;\n",
       "    }\n",
       "\n",
       "    .dataframe tbody tr th {\n",
       "        vertical-align: top;\n",
       "    }\n",
       "\n",
       "    .dataframe thead th {\n",
       "        text-align: right;\n",
       "    }\n",
       "</style>\n",
       "<table border=\"1\" class=\"dataframe\">\n",
       "  <thead>\n",
       "    <tr style=\"text-align: right;\">\n",
       "      <th></th>\n",
       "      <th>newspaper</th>\n",
       "    </tr>\n",
       "  </thead>\n",
       "  <tbody>\n",
       "    <tr>\n",
       "      <th>tageblatt</th>\n",
       "      <td>433190</td>\n",
       "    </tr>\n",
       "    <tr>\n",
       "      <th>indeplux</th>\n",
       "      <td>203960</td>\n",
       "    </tr>\n",
       "    <tr>\n",
       "      <th>luxland</th>\n",
       "      <td>155674</td>\n",
       "    </tr>\n",
       "    <tr>\n",
       "      <th>luxwort</th>\n",
       "      <td>117218</td>\n",
       "    </tr>\n",
       "    <tr>\n",
       "      <th>obermosel</th>\n",
       "      <td>85488</td>\n",
       "    </tr>\n",
       "    <tr>\n",
       "      <th>luxembourg1935</th>\n",
       "      <td>60006</td>\n",
       "    </tr>\n",
       "    <tr>\n",
       "      <th>dunioun</th>\n",
       "      <td>26242</td>\n",
       "    </tr>\n",
       "    <tr>\n",
       "      <th>lunion</th>\n",
       "      <td>25840</td>\n",
       "    </tr>\n",
       "    <tr>\n",
       "      <th>luxzeit1858</th>\n",
       "      <td>9940</td>\n",
       "    </tr>\n",
       "    <tr>\n",
       "      <th>courriergdl</th>\n",
       "      <td>9602</td>\n",
       "    </tr>\n",
       "    <tr>\n",
       "      <th>buergerbeamten</th>\n",
       "      <td>6674</td>\n",
       "    </tr>\n",
       "    <tr>\n",
       "      <th>volkfreu1869</th>\n",
       "      <td>5822</td>\n",
       "    </tr>\n",
       "    <tr>\n",
       "      <th>avenirgdl</th>\n",
       "      <td>4578</td>\n",
       "    </tr>\n",
       "    <tr>\n",
       "      <th>armeteufel</th>\n",
       "      <td>2878</td>\n",
       "    </tr>\n",
       "    <tr>\n",
       "      <th>waechtersauer</th>\n",
       "      <td>2432</td>\n",
       "    </tr>\n",
       "    <tr>\n",
       "      <th>waeschfra</th>\n",
       "      <td>1766</td>\n",
       "    </tr>\n",
       "    <tr>\n",
       "      <th>onsjongen</th>\n",
       "      <td>1648</td>\n",
       "    </tr>\n",
       "    <tr>\n",
       "      <th>deletz1893</th>\n",
       "      <td>972</td>\n",
       "    </tr>\n",
       "    <tr>\n",
       "      <th>demitock</th>\n",
       "      <td>758</td>\n",
       "    </tr>\n",
       "    <tr>\n",
       "      <th>diekwochen</th>\n",
       "      <td>314</td>\n",
       "    </tr>\n",
       "    <tr>\n",
       "      <th>gazgrdlux</th>\n",
       "      <td>168</td>\n",
       "    </tr>\n",
       "    <tr>\n",
       "      <th>actionfem</th>\n",
       "      <td>158</td>\n",
       "    </tr>\n",
       "    <tr>\n",
       "      <th>schmiede</th>\n",
       "      <td>90</td>\n",
       "    </tr>\n",
       "    <tr>\n",
       "      <th>landwortbild</th>\n",
       "      <td>38</td>\n",
       "    </tr>\n",
       "    <tr>\n",
       "      <th>luxzeit1844</th>\n",
       "      <td>14</td>\n",
       "    </tr>\n",
       "    <tr>\n",
       "      <th>kommmit</th>\n",
       "      <td>12</td>\n",
       "    </tr>\n",
       "  </tbody>\n",
       "</table>\n",
       "</div>"
      ],
      "text/plain": [
       "                newspaper\n",
       "tageblatt          433190\n",
       "indeplux           203960\n",
       "luxland            155674\n",
       "luxwort            117218\n",
       "obermosel           85488\n",
       "luxembourg1935      60006\n",
       "dunioun             26242\n",
       "lunion              25840\n",
       "luxzeit1858          9940\n",
       "courriergdl          9602\n",
       "buergerbeamten       6674\n",
       "volkfreu1869         5822\n",
       "avenirgdl            4578\n",
       "armeteufel           2878\n",
       "waechtersauer        2432\n",
       "waeschfra            1766\n",
       "onsjongen            1648\n",
       "deletz1893            972\n",
       "demitock              758\n",
       "diekwochen            314\n",
       "gazgrdlux             168\n",
       "actionfem             158\n",
       "schmiede               90\n",
       "landwortbild           38\n",
       "luxzeit1844            14\n",
       "kommmit                12"
      ]
     },
     "execution_count": 133,
     "metadata": {},
     "output_type": "execute_result"
    }
   ],
   "source": [
    "deleted_ci_ids_df.newspaper.value_counts().to_frame()"
   ]
  },
  {
   "cell_type": "markdown",
   "metadata": {},
   "source": [
    "## Release resources"
   ]
  },
  {
   "cell_type": "code",
   "execution_count": 135,
   "metadata": {},
   "outputs": [],
   "source": [
    "cluster.close()"
   ]
  },
  {
   "cell_type": "code",
   "execution_count": null,
   "metadata": {},
   "outputs": [],
   "source": []
  }
 ],
 "metadata": {
  "kernelspec": {
   "display_name": "Python 3",
   "language": "python",
   "name": "python3"
  },
  "language_info": {
   "codemirror_mode": {
    "name": "ipython",
    "version": 3
   },
   "file_extension": ".py",
   "mimetype": "text/x-python",
   "name": "python",
   "nbconvert_exporter": "python",
   "pygments_lexer": "ipython3",
   "version": "3.7.4"
  },
  "toc": {
   "base_numbering": 1,
   "nav_menu": {},
   "number_sections": true,
   "sideBar": true,
   "skip_h1_title": false,
   "title_cell": "Table of Contents",
   "title_sidebar": "Contents",
   "toc_cell": false,
   "toc_position": {
    "height": "calc(100% - 180px)",
    "left": "10px",
    "top": "150px",
    "width": "288px"
   },
   "toc_section_display": true,
   "toc_window_display": true
  }
 },
 "nbformat": 4,
 "nbformat_minor": 4
}
