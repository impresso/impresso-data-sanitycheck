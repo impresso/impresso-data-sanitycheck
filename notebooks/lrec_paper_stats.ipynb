{
 "cells": [
  {
   "cell_type": "markdown",
   "metadata": {},
   "source": [
    "## imports"
   ]
  },
  {
   "cell_type": "code",
   "execution_count": 1,
   "metadata": {},
   "outputs": [],
   "source": [
    "import os, sys\n",
    "sys.path.append(\"../\")\n",
    "import pandas as pd\n",
    "import json\n",
    "from dask import bag as db\n",
    "from dask_k8 import DaskCluster\n",
    "from dask.distributed import Client\n",
    "from impresso_commons.utils.s3 import IMPRESSO_STORAGEOPT, fixed_s3fs_glob\n",
    "from impresso_commons.utils.s3 import alternative_read_text\n",
    "from impresso_commons.utils.kube import (make_scheduler_configuration,\n",
    "                                         make_worker_configuration)\n",
    "from sanity_check.contents.s3_data import list_files_rebuilt, list_pages"
   ]
  },
  {
   "cell_type": "markdown",
   "metadata": {},
   "source": [
    "## set up dask cluster"
   ]
  },
  {
   "cell_type": "code",
   "execution_count": 3,
   "metadata": {},
   "outputs": [],
   "source": [
    "cluster = DaskCluster(\n",
    "    namespace=\"dhlab\",\n",
    "    cluster_id=\"impresso-sanitycheck\",\n",
    "    scheduler_pod_spec=make_scheduler_configuration(),\n",
    "    worker_pod_spec=make_worker_configuration(\n",
    "        docker_image=\"ic-registry.epfl.ch/dhlab/impresso_pycommons:v1\",\n",
    "        memory=\"1G\"\n",
    "    )\n",
    ")"
   ]
  },
  {
   "cell_type": "code",
   "execution_count": 4,
   "metadata": {},
   "outputs": [
    {
     "name": "stdout",
     "output_type": "stream",
     "text": [
      "Scheduler: tcp://10.90.47.6:28895\n",
      "Dashboard: http://10.90.47.6:9740\n"
     ]
    }
   ],
   "source": [
    "cluster.create()\n",
    "cluster.scale(100, blocking=False)"
   ]
  },
  {
   "cell_type": "code",
   "execution_count": 5,
   "metadata": {},
   "outputs": [],
   "source": [
    "dask_client = cluster.make_dask_client()"
   ]
  },
  {
   "cell_type": "code",
   "execution_count": 10,
   "metadata": {},
   "outputs": [
    {
     "data": {
      "text/html": [
       "<table style=\"border: 2px solid white;\">\n",
       "<tr>\n",
       "<td style=\"vertical-align: top; border: 0px solid white\">\n",
       "<h3 style=\"text-align: left;\">Client</h3>\n",
       "<ul style=\"text-align: left; list-style: none; margin: 0; padding: 0;\">\n",
       "  <li><b>Scheduler: </b>tcp://10.90.47.6:28895</li>\n",
       "  <li><b>Dashboard: </b><a href='http://10.90.47.6:8787/status' target='_blank'>http://10.90.47.6:8787/status</a>\n",
       "</ul>\n",
       "</td>\n",
       "<td style=\"vertical-align: top; border: 0px solid white\">\n",
       "<h3 style=\"text-align: left;\">Cluster</h3>\n",
       "<ul style=\"text-align: left; list-style:none; margin: 0; padding: 0;\">\n",
       "  <li><b>Workers: </b>100</li>\n",
       "  <li><b>Cores: </b>100</li>\n",
       "  <li><b>Memory: </b>100.00 GB</li>\n",
       "</ul>\n",
       "</td>\n",
       "</tr>\n",
       "</table>"
      ],
      "text/plain": [
       "<Client: scheduler='tcp://10.233.84.206:8786' processes=100 cores=100>"
      ]
     },
     "execution_count": 10,
     "metadata": {},
     "output_type": "execute_result"
    }
   ],
   "source": [
    "dask_client"
   ]
  },
  {
   "cell_type": "markdown",
   "metadata": {},
   "source": [
    "## load license information"
   ]
  },
  {
   "cell_type": "code",
   "execution_count": 11,
   "metadata": {},
   "outputs": [],
   "source": [
    "from sanity_check.contents.s3_data import fetch_issues"
   ]
  },
  {
   "cell_type": "code",
   "execution_count": 12,
   "metadata": {},
   "outputs": [
    {
     "name": "stdout",
     "output_type": "stream",
     "text": [
      "Fetching list of newspapers from s3://original-canonical-staging\n",
      "original-canonical-staging contains 78 newspapers\n",
      "s3://original-canonical-staging contains 3101 .bz2 files\n",
      "Fetching issue ids from 3101 .bz2 files (compute=False)\n"
     ]
    }
   ],
   "source": [
    "issue_bag = fetch_issues(\"s3://original-canonical-staging\", compute=False)"
   ]
  },
  {
   "cell_type": "code",
   "execution_count": 14,
   "metadata": {},
   "outputs": [],
   "source": [
    "license_df = issue_bag.map(\n",
    "    lambda i: {\n",
    "        \"id\": i['id'],\n",
    "        \"license\": i['ar'],\n",
    "        \"n_pages\": len(set(i['pp']))\n",
    "    }\n",
    ").to_dataframe().set_index('id').persist()"
   ]
  },
  {
   "cell_type": "code",
   "execution_count": 15,
   "metadata": {},
   "outputs": [
    {
     "data": {
      "text/html": [
       "<div>\n",
       "<style scoped>\n",
       "    .dataframe tbody tr th:only-of-type {\n",
       "        vertical-align: middle;\n",
       "    }\n",
       "\n",
       "    .dataframe tbody tr th {\n",
       "        vertical-align: top;\n",
       "    }\n",
       "\n",
       "    .dataframe thead th {\n",
       "        text-align: right;\n",
       "    }\n",
       "</style>\n",
       "<table border=\"1\" class=\"dataframe\">\n",
       "  <thead>\n",
       "    <tr style=\"text-align: right;\">\n",
       "      <th></th>\n",
       "      <th>license</th>\n",
       "      <th>n_pages</th>\n",
       "    </tr>\n",
       "    <tr>\n",
       "      <th>id</th>\n",
       "      <th></th>\n",
       "      <th></th>\n",
       "    </tr>\n",
       "  </thead>\n",
       "  <tbody>\n",
       "    <tr>\n",
       "      <th>BDC-1839-01-20-a</th>\n",
       "      <td>open_public</td>\n",
       "      <td>6</td>\n",
       "    </tr>\n",
       "    <tr>\n",
       "      <th>BDC-1839-01-21-a</th>\n",
       "      <td>open_public</td>\n",
       "      <td>4</td>\n",
       "    </tr>\n",
       "    <tr>\n",
       "      <th>BDC-1839-01-23-a</th>\n",
       "      <td>open_public</td>\n",
       "      <td>4</td>\n",
       "    </tr>\n",
       "    <tr>\n",
       "      <th>BDC-1839-01-26-a</th>\n",
       "      <td>open_public</td>\n",
       "      <td>8</td>\n",
       "    </tr>\n",
       "    <tr>\n",
       "      <th>BDC-1839-01-28-a</th>\n",
       "      <td>open_public</td>\n",
       "      <td>2</td>\n",
       "    </tr>\n",
       "  </tbody>\n",
       "</table>\n",
       "</div>"
      ],
      "text/plain": [
       "                      license  n_pages\n",
       "id                                    \n",
       "BDC-1839-01-20-a  open_public        6\n",
       "BDC-1839-01-21-a  open_public        4\n",
       "BDC-1839-01-23-a  open_public        4\n",
       "BDC-1839-01-26-a  open_public        8\n",
       "BDC-1839-01-28-a  open_public        2"
      ]
     },
     "execution_count": 15,
     "metadata": {},
     "output_type": "execute_result"
    }
   ],
   "source": [
    "license_df.head()"
   ]
  },
  {
   "cell_type": "code",
   "execution_count": 19,
   "metadata": {},
   "outputs": [
    {
     "data": {
      "text/html": [
       "<div>\n",
       "<style scoped>\n",
       "    .dataframe tbody tr th:only-of-type {\n",
       "        vertical-align: middle;\n",
       "    }\n",
       "\n",
       "    .dataframe tbody tr th {\n",
       "        vertical-align: top;\n",
       "    }\n",
       "\n",
       "    .dataframe thead th {\n",
       "        text-align: right;\n",
       "    }\n",
       "</style>\n",
       "<table border=\"1\" class=\"dataframe\">\n",
       "  <thead>\n",
       "    <tr style=\"text-align: right;\">\n",
       "      <th></th>\n",
       "      <th>n_pages</th>\n",
       "    </tr>\n",
       "    <tr>\n",
       "      <th>license</th>\n",
       "      <th></th>\n",
       "    </tr>\n",
       "  </thead>\n",
       "  <tbody>\n",
       "    <tr>\n",
       "      <th>closed</th>\n",
       "      <td>994141</td>\n",
       "    </tr>\n",
       "    <tr>\n",
       "      <th>open_private</th>\n",
       "      <td>4132821</td>\n",
       "    </tr>\n",
       "    <tr>\n",
       "      <th>open_public</th>\n",
       "      <td>399363</td>\n",
       "    </tr>\n",
       "  </tbody>\n",
       "</table>\n",
       "</div>"
      ],
      "text/plain": [
       "              n_pages\n",
       "license              \n",
       "closed         994141\n",
       "open_private  4132821\n",
       "open_public    399363"
      ]
     },
     "execution_count": 19,
     "metadata": {},
     "output_type": "execute_result"
    }
   ],
   "source": [
    "license_df.groupby(by='license').agg({\n",
    "    \"n_pages\": sum\n",
    "}).compute()"
   ]
  },
  {
   "cell_type": "code",
   "execution_count": 21,
   "metadata": {},
   "outputs": [
    {
     "data": {
      "text/plain": [
       "license\n",
       "open_public      79746\n",
       "open_private    337163\n",
       "closed          187860\n",
       "dtype: int64"
      ]
     },
     "execution_count": 21,
     "metadata": {},
     "output_type": "execute_result"
    }
   ],
   "source": [
    "license_df.groupby(by='license').size().compute()"
   ]
  },
  {
   "cell_type": "code",
   "execution_count": null,
   "metadata": {},
   "outputs": [],
   "source": [
    "pd_license_df = license_df.compute()\n",
    "pd_license_df['year'] = pd_license_df.index.map(lambda idx: idx.split('-')[1])"
   ]
  },
  {
   "cell_type": "markdown",
   "metadata": {},
   "source": [
    "## compute content item stats"
   ]
  },
  {
   "cell_type": "code",
   "execution_count": 22,
   "metadata": {},
   "outputs": [],
   "source": [
    "from dask import dataframe as ddf\n",
    "\n",
    "ci_df = ddf.read_csv(\n",
    "    \"s3://impresso-stats/content-item-stats/*\",\n",
    "    storage_options=IMPRESSO_STORAGEOPT\n",
    ")"
   ]
  },
  {
   "cell_type": "code",
   "execution_count": 23,
   "metadata": {},
   "outputs": [
    {
     "data": {
      "text/html": [
       "<div>\n",
       "<style scoped>\n",
       "    .dataframe tbody tr th:only-of-type {\n",
       "        vertical-align: middle;\n",
       "    }\n",
       "\n",
       "    .dataframe tbody tr th {\n",
       "        vertical-align: top;\n",
       "    }\n",
       "\n",
       "    .dataframe thead th {\n",
       "        text-align: right;\n",
       "    }\n",
       "</style>\n",
       "<table border=\"1\" class=\"dataframe\">\n",
       "  <thead>\n",
       "    <tr style=\"text-align: right;\">\n",
       "      <th></th>\n",
       "      <th>id</th>\n",
       "      <th>year</th>\n",
       "      <th>newspaper</th>\n",
       "      <th>type</th>\n",
       "      <th>n_tokens</th>\n",
       "      <th>title_length</th>\n",
       "    </tr>\n",
       "  </thead>\n",
       "  <tbody>\n",
       "    <tr>\n",
       "      <th>0</th>\n",
       "      <td>BDC-1839-01-20-a-i0001</td>\n",
       "      <td>1839</td>\n",
       "      <td>BDC</td>\n",
       "      <td>ar</td>\n",
       "      <td>250.0</td>\n",
       "      <td>4.0</td>\n",
       "    </tr>\n",
       "    <tr>\n",
       "      <th>1</th>\n",
       "      <td>BDC-1839-01-20-a-i0002</td>\n",
       "      <td>1839</td>\n",
       "      <td>BDC</td>\n",
       "      <td>ar</td>\n",
       "      <td>758.0</td>\n",
       "      <td>NaN</td>\n",
       "    </tr>\n",
       "    <tr>\n",
       "      <th>2</th>\n",
       "      <td>BDC-1839-01-20-a-i0003</td>\n",
       "      <td>1839</td>\n",
       "      <td>BDC</td>\n",
       "      <td>ar</td>\n",
       "      <td>14.0</td>\n",
       "      <td>31.0</td>\n",
       "    </tr>\n",
       "    <tr>\n",
       "      <th>3</th>\n",
       "      <td>BDC-1839-01-20-a-i0004</td>\n",
       "      <td>1839</td>\n",
       "      <td>BDC</td>\n",
       "      <td>ar</td>\n",
       "      <td>349.0</td>\n",
       "      <td>22.0</td>\n",
       "    </tr>\n",
       "    <tr>\n",
       "      <th>4</th>\n",
       "      <td>BDC-1839-01-20-a-i0005</td>\n",
       "      <td>1839</td>\n",
       "      <td>BDC</td>\n",
       "      <td>ar</td>\n",
       "      <td>193.0</td>\n",
       "      <td>NaN</td>\n",
       "    </tr>\n",
       "  </tbody>\n",
       "</table>\n",
       "</div>"
      ],
      "text/plain": [
       "                       id  year newspaper type  n_tokens  title_length\n",
       "0  BDC-1839-01-20-a-i0001  1839       BDC   ar     250.0           4.0\n",
       "1  BDC-1839-01-20-a-i0002  1839       BDC   ar     758.0           NaN\n",
       "2  BDC-1839-01-20-a-i0003  1839       BDC   ar      14.0          31.0\n",
       "3  BDC-1839-01-20-a-i0004  1839       BDC   ar     349.0          22.0\n",
       "4  BDC-1839-01-20-a-i0005  1839       BDC   ar     193.0           NaN"
      ]
     },
     "execution_count": 23,
     "metadata": {},
     "output_type": "execute_result"
    }
   ],
   "source": [
    "ci_df.head()"
   ]
  },
  {
   "cell_type": "code",
   "execution_count": 25,
   "metadata": {},
   "outputs": [],
   "source": [
    "ci_df['issue_id'] = ci_df.apply(\n",
    "    lambda x: \"-\".join(x['id'].split(\"-\")[:-1]), \n",
    "    meta=('issue_id', str),\n",
    "    axis=1\n",
    ")"
   ]
  },
  {
   "cell_type": "code",
   "execution_count": 30,
   "metadata": {},
   "outputs": [],
   "source": [
    "ci_df.type = ci_df.type.astype('category')"
   ]
  },
  {
   "cell_type": "code",
   "execution_count": 31,
   "metadata": {},
   "outputs": [
    {
     "data": {
      "text/html": [
       "<div>\n",
       "<style scoped>\n",
       "    .dataframe tbody tr th:only-of-type {\n",
       "        vertical-align: middle;\n",
       "    }\n",
       "\n",
       "    .dataframe tbody tr th {\n",
       "        vertical-align: top;\n",
       "    }\n",
       "\n",
       "    .dataframe thead th {\n",
       "        text-align: right;\n",
       "    }\n",
       "</style>\n",
       "<table border=\"1\" class=\"dataframe\">\n",
       "  <thead>\n",
       "    <tr style=\"text-align: right;\">\n",
       "      <th></th>\n",
       "      <th>id</th>\n",
       "      <th>year</th>\n",
       "      <th>newspaper</th>\n",
       "      <th>type</th>\n",
       "      <th>n_tokens</th>\n",
       "      <th>title_length</th>\n",
       "      <th>issue_id</th>\n",
       "    </tr>\n",
       "  </thead>\n",
       "  <tbody>\n",
       "    <tr>\n",
       "      <th>0</th>\n",
       "      <td>BDC-1839-01-20-a-i0001</td>\n",
       "      <td>1839</td>\n",
       "      <td>BDC</td>\n",
       "      <td>ar</td>\n",
       "      <td>250.0</td>\n",
       "      <td>4.0</td>\n",
       "      <td>BDC-1839-01-20-a</td>\n",
       "    </tr>\n",
       "    <tr>\n",
       "      <th>1</th>\n",
       "      <td>BDC-1839-01-20-a-i0002</td>\n",
       "      <td>1839</td>\n",
       "      <td>BDC</td>\n",
       "      <td>ar</td>\n",
       "      <td>758.0</td>\n",
       "      <td>NaN</td>\n",
       "      <td>BDC-1839-01-20-a</td>\n",
       "    </tr>\n",
       "    <tr>\n",
       "      <th>2</th>\n",
       "      <td>BDC-1839-01-20-a-i0003</td>\n",
       "      <td>1839</td>\n",
       "      <td>BDC</td>\n",
       "      <td>ar</td>\n",
       "      <td>14.0</td>\n",
       "      <td>31.0</td>\n",
       "      <td>BDC-1839-01-20-a</td>\n",
       "    </tr>\n",
       "    <tr>\n",
       "      <th>3</th>\n",
       "      <td>BDC-1839-01-20-a-i0004</td>\n",
       "      <td>1839</td>\n",
       "      <td>BDC</td>\n",
       "      <td>ar</td>\n",
       "      <td>349.0</td>\n",
       "      <td>22.0</td>\n",
       "      <td>BDC-1839-01-20-a</td>\n",
       "    </tr>\n",
       "    <tr>\n",
       "      <th>4</th>\n",
       "      <td>BDC-1839-01-20-a-i0005</td>\n",
       "      <td>1839</td>\n",
       "      <td>BDC</td>\n",
       "      <td>ar</td>\n",
       "      <td>193.0</td>\n",
       "      <td>NaN</td>\n",
       "      <td>BDC-1839-01-20-a</td>\n",
       "    </tr>\n",
       "  </tbody>\n",
       "</table>\n",
       "</div>"
      ],
      "text/plain": [
       "                       id  year newspaper type  n_tokens  title_length  \\\n",
       "0  BDC-1839-01-20-a-i0001  1839       BDC   ar     250.0           4.0   \n",
       "1  BDC-1839-01-20-a-i0002  1839       BDC   ar     758.0           NaN   \n",
       "2  BDC-1839-01-20-a-i0003  1839       BDC   ar      14.0          31.0   \n",
       "3  BDC-1839-01-20-a-i0004  1839       BDC   ar     349.0          22.0   \n",
       "4  BDC-1839-01-20-a-i0005  1839       BDC   ar     193.0           NaN   \n",
       "\n",
       "           issue_id  \n",
       "0  BDC-1839-01-20-a  \n",
       "1  BDC-1839-01-20-a  \n",
       "2  BDC-1839-01-20-a  \n",
       "3  BDC-1839-01-20-a  \n",
       "4  BDC-1839-01-20-a  "
      ]
     },
     "execution_count": 31,
     "metadata": {},
     "output_type": "execute_result"
    }
   ],
   "source": [
    "ci_df.head()"
   ]
  },
  {
   "cell_type": "code",
   "execution_count": 34,
   "metadata": {},
   "outputs": [],
   "source": [
    "ci_df.type = ci_df.type.cat.as_known()"
   ]
  },
  {
   "cell_type": "code",
   "execution_count": 35,
   "metadata": {},
   "outputs": [
    {
     "data": {
      "text/html": [
       "<div>\n",
       "<style scoped>\n",
       "    .dataframe tbody tr th:only-of-type {\n",
       "        vertical-align: middle;\n",
       "    }\n",
       "\n",
       "    .dataframe tbody tr th {\n",
       "        vertical-align: top;\n",
       "    }\n",
       "\n",
       "    .dataframe thead th {\n",
       "        text-align: right;\n",
       "    }\n",
       "</style>\n",
       "<table border=\"1\" class=\"dataframe\">\n",
       "  <thead>\n",
       "    <tr style=\"text-align: right;\">\n",
       "      <th></th>\n",
       "      <th>id</th>\n",
       "      <th>year</th>\n",
       "      <th>newspaper</th>\n",
       "      <th>type</th>\n",
       "      <th>n_tokens</th>\n",
       "      <th>title_length</th>\n",
       "      <th>issue_id</th>\n",
       "    </tr>\n",
       "  </thead>\n",
       "  <tbody>\n",
       "    <tr>\n",
       "      <th>0</th>\n",
       "      <td>BDC-1839-01-20-a-i0001</td>\n",
       "      <td>1839</td>\n",
       "      <td>BDC</td>\n",
       "      <td>ar</td>\n",
       "      <td>250.0</td>\n",
       "      <td>4.0</td>\n",
       "      <td>BDC-1839-01-20-a</td>\n",
       "    </tr>\n",
       "    <tr>\n",
       "      <th>1</th>\n",
       "      <td>BDC-1839-01-20-a-i0002</td>\n",
       "      <td>1839</td>\n",
       "      <td>BDC</td>\n",
       "      <td>ar</td>\n",
       "      <td>758.0</td>\n",
       "      <td>NaN</td>\n",
       "      <td>BDC-1839-01-20-a</td>\n",
       "    </tr>\n",
       "    <tr>\n",
       "      <th>2</th>\n",
       "      <td>BDC-1839-01-20-a-i0003</td>\n",
       "      <td>1839</td>\n",
       "      <td>BDC</td>\n",
       "      <td>ar</td>\n",
       "      <td>14.0</td>\n",
       "      <td>31.0</td>\n",
       "      <td>BDC-1839-01-20-a</td>\n",
       "    </tr>\n",
       "    <tr>\n",
       "      <th>3</th>\n",
       "      <td>BDC-1839-01-20-a-i0004</td>\n",
       "      <td>1839</td>\n",
       "      <td>BDC</td>\n",
       "      <td>ar</td>\n",
       "      <td>349.0</td>\n",
       "      <td>22.0</td>\n",
       "      <td>BDC-1839-01-20-a</td>\n",
       "    </tr>\n",
       "    <tr>\n",
       "      <th>4</th>\n",
       "      <td>BDC-1839-01-20-a-i0005</td>\n",
       "      <td>1839</td>\n",
       "      <td>BDC</td>\n",
       "      <td>ar</td>\n",
       "      <td>193.0</td>\n",
       "      <td>NaN</td>\n",
       "      <td>BDC-1839-01-20-a</td>\n",
       "    </tr>\n",
       "  </tbody>\n",
       "</table>\n",
       "</div>"
      ],
      "text/plain": [
       "                       id  year newspaper type  n_tokens  title_length  \\\n",
       "0  BDC-1839-01-20-a-i0001  1839       BDC   ar     250.0           4.0   \n",
       "1  BDC-1839-01-20-a-i0002  1839       BDC   ar     758.0           NaN   \n",
       "2  BDC-1839-01-20-a-i0003  1839       BDC   ar      14.0          31.0   \n",
       "3  BDC-1839-01-20-a-i0004  1839       BDC   ar     349.0          22.0   \n",
       "4  BDC-1839-01-20-a-i0005  1839       BDC   ar     193.0           NaN   \n",
       "\n",
       "           issue_id  \n",
       "0  BDC-1839-01-20-a  \n",
       "1  BDC-1839-01-20-a  \n",
       "2  BDC-1839-01-20-a  \n",
       "3  BDC-1839-01-20-a  \n",
       "4  BDC-1839-01-20-a  "
      ]
     },
     "execution_count": 35,
     "metadata": {},
     "output_type": "execute_result"
    }
   ],
   "source": [
    "ci_df.head()"
   ]
  },
  {
   "cell_type": "code",
   "execution_count": 47,
   "metadata": {},
   "outputs": [],
   "source": [
    "enriched_ci_df = ci_df.join(license_df, on='issue_id').persist()"
   ]
  },
  {
   "cell_type": "code",
   "execution_count": 57,
   "metadata": {},
   "outputs": [
    {
     "data": {
      "text/html": [
       "<div>\n",
       "<style scoped>\n",
       "    .dataframe tbody tr th:only-of-type {\n",
       "        vertical-align: middle;\n",
       "    }\n",
       "\n",
       "    .dataframe tbody tr th {\n",
       "        vertical-align: top;\n",
       "    }\n",
       "\n",
       "    .dataframe thead th {\n",
       "        text-align: right;\n",
       "    }\n",
       "</style>\n",
       "<table border=\"1\" class=\"dataframe\">\n",
       "  <thead>\n",
       "    <tr style=\"text-align: right;\">\n",
       "      <th></th>\n",
       "      <th>id</th>\n",
       "      <th>year</th>\n",
       "      <th>newspaper</th>\n",
       "      <th>type</th>\n",
       "      <th>n_tokens</th>\n",
       "      <th>title_length</th>\n",
       "      <th>issue_id</th>\n",
       "      <th>license</th>\n",
       "      <th>n_pages</th>\n",
       "    </tr>\n",
       "  </thead>\n",
       "  <tbody>\n",
       "    <tr>\n",
       "      <th>0</th>\n",
       "      <td>BDC-1839-01-20-a-i0001</td>\n",
       "      <td>1839</td>\n",
       "      <td>BDC</td>\n",
       "      <td>ar</td>\n",
       "      <td>250</td>\n",
       "      <td>4.0</td>\n",
       "      <td>BDC-1839-01-20-a</td>\n",
       "      <td>open_public</td>\n",
       "      <td>6</td>\n",
       "    </tr>\n",
       "    <tr>\n",
       "      <th>1</th>\n",
       "      <td>BDC-1839-01-20-a-i0002</td>\n",
       "      <td>1839</td>\n",
       "      <td>BDC</td>\n",
       "      <td>ar</td>\n",
       "      <td>758</td>\n",
       "      <td>NaN</td>\n",
       "      <td>BDC-1839-01-20-a</td>\n",
       "      <td>open_public</td>\n",
       "      <td>6</td>\n",
       "    </tr>\n",
       "    <tr>\n",
       "      <th>2</th>\n",
       "      <td>BDC-1839-01-20-a-i0003</td>\n",
       "      <td>1839</td>\n",
       "      <td>BDC</td>\n",
       "      <td>ar</td>\n",
       "      <td>14</td>\n",
       "      <td>31.0</td>\n",
       "      <td>BDC-1839-01-20-a</td>\n",
       "      <td>open_public</td>\n",
       "      <td>6</td>\n",
       "    </tr>\n",
       "    <tr>\n",
       "      <th>3</th>\n",
       "      <td>BDC-1839-01-20-a-i0004</td>\n",
       "      <td>1839</td>\n",
       "      <td>BDC</td>\n",
       "      <td>ar</td>\n",
       "      <td>349</td>\n",
       "      <td>22.0</td>\n",
       "      <td>BDC-1839-01-20-a</td>\n",
       "      <td>open_public</td>\n",
       "      <td>6</td>\n",
       "    </tr>\n",
       "    <tr>\n",
       "      <th>4</th>\n",
       "      <td>BDC-1839-01-20-a-i0005</td>\n",
       "      <td>1839</td>\n",
       "      <td>BDC</td>\n",
       "      <td>ar</td>\n",
       "      <td>193</td>\n",
       "      <td>NaN</td>\n",
       "      <td>BDC-1839-01-20-a</td>\n",
       "      <td>open_public</td>\n",
       "      <td>6</td>\n",
       "    </tr>\n",
       "  </tbody>\n",
       "</table>\n",
       "</div>"
      ],
      "text/plain": [
       "                       id  year newspaper type  n_tokens  title_length  \\\n",
       "0  BDC-1839-01-20-a-i0001  1839       BDC   ar       250           4.0   \n",
       "1  BDC-1839-01-20-a-i0002  1839       BDC   ar       758           NaN   \n",
       "2  BDC-1839-01-20-a-i0003  1839       BDC   ar        14          31.0   \n",
       "3  BDC-1839-01-20-a-i0004  1839       BDC   ar       349          22.0   \n",
       "4  BDC-1839-01-20-a-i0005  1839       BDC   ar       193           NaN   \n",
       "\n",
       "           issue_id      license  n_pages  \n",
       "0  BDC-1839-01-20-a  open_public        6  \n",
       "1  BDC-1839-01-20-a  open_public        6  \n",
       "2  BDC-1839-01-20-a  open_public        6  \n",
       "3  BDC-1839-01-20-a  open_public        6  \n",
       "4  BDC-1839-01-20-a  open_public        6  "
      ]
     },
     "execution_count": 57,
     "metadata": {},
     "output_type": "execute_result"
    }
   ],
   "source": [
    "enriched_ci_df.head()"
   ]
  },
  {
   "cell_type": "code",
   "execution_count": 50,
   "metadata": {},
   "outputs": [],
   "source": [
    "enriched_ci_df.n_tokens = enriched_ci_df.n_tokens.fillna(0)"
   ]
  },
  {
   "cell_type": "code",
   "execution_count": 51,
   "metadata": {},
   "outputs": [],
   "source": [
    "enriched_ci_df.n_tokens = enriched_ci_df.n_tokens.astype('int')"
   ]
  },
  {
   "cell_type": "code",
   "execution_count": 54,
   "metadata": {},
   "outputs": [
    {
     "data": {
      "text/html": [
       "<div>\n",
       "<style scoped>\n",
       "    .dataframe tbody tr th:only-of-type {\n",
       "        vertical-align: middle;\n",
       "    }\n",
       "\n",
       "    .dataframe tbody tr th {\n",
       "        vertical-align: top;\n",
       "    }\n",
       "\n",
       "    .dataframe thead th {\n",
       "        text-align: right;\n",
       "    }\n",
       "</style>\n",
       "<table border=\"1\" class=\"dataframe\">\n",
       "  <thead>\n",
       "    <tr style=\"text-align: right;\">\n",
       "      <th></th>\n",
       "      <th>n_tokens</th>\n",
       "    </tr>\n",
       "    <tr>\n",
       "      <th>license</th>\n",
       "      <th></th>\n",
       "    </tr>\n",
       "  </thead>\n",
       "  <tbody>\n",
       "    <tr>\n",
       "      <th>closed</th>\n",
       "      <td>2641896310</td>\n",
       "    </tr>\n",
       "    <tr>\n",
       "      <th>open_private</th>\n",
       "      <td>9374592395</td>\n",
       "    </tr>\n",
       "    <tr>\n",
       "      <th>open_public</th>\n",
       "      <td>572030104</td>\n",
       "    </tr>\n",
       "  </tbody>\n",
       "</table>\n",
       "</div>"
      ],
      "text/plain": [
       "                n_tokens\n",
       "license                 \n",
       "closed        2641896310\n",
       "open_private  9374592395\n",
       "open_public    572030104"
      ]
     },
     "execution_count": 54,
     "metadata": {},
     "output_type": "execute_result"
    }
   ],
   "source": [
    "enriched_ci_df.groupby(by='license').agg({'n_tokens':sum}).compute()"
   ]
  },
  {
   "cell_type": "code",
   "execution_count": 55,
   "metadata": {},
   "outputs": [
    {
     "data": {
      "text/html": [
       "<div>\n",
       "<style scoped>\n",
       "    .dataframe tbody tr th:only-of-type {\n",
       "        vertical-align: middle;\n",
       "    }\n",
       "\n",
       "    .dataframe tbody tr th {\n",
       "        vertical-align: top;\n",
       "    }\n",
       "\n",
       "    .dataframe thead th {\n",
       "        text-align: right;\n",
       "    }\n",
       "</style>\n",
       "<table border=\"1\" class=\"dataframe\">\n",
       "  <thead>\n",
       "    <tr style=\"text-align: right;\">\n",
       "      <th></th>\n",
       "      <th>id</th>\n",
       "    </tr>\n",
       "    <tr>\n",
       "      <th>license</th>\n",
       "      <th></th>\n",
       "    </tr>\n",
       "  </thead>\n",
       "  <tbody>\n",
       "    <tr>\n",
       "      <th>closed</th>\n",
       "      <td>4269189</td>\n",
       "    </tr>\n",
       "    <tr>\n",
       "      <th>open_private</th>\n",
       "      <td>38948561</td>\n",
       "    </tr>\n",
       "    <tr>\n",
       "      <th>open_public</th>\n",
       "      <td>1461700</td>\n",
       "    </tr>\n",
       "  </tbody>\n",
       "</table>\n",
       "</div>"
      ],
      "text/plain": [
       "                    id\n",
       "license               \n",
       "closed         4269189\n",
       "open_private  38948561\n",
       "open_public    1461700"
      ]
     },
     "execution_count": 55,
     "metadata": {},
     "output_type": "execute_result"
    }
   ],
   "source": [
    "enriched_ci_df[\n",
    "    enriched_ci_df.type != 'img'\n",
    "].groupby(by='license').agg({'id':'count'}).compute()"
   ]
  },
  {
   "cell_type": "code",
   "execution_count": 78,
   "metadata": {},
   "outputs": [
    {
     "ename": "NameError",
     "evalue": "name 'enriched_ci_df' is not defined",
     "output_type": "error",
     "traceback": [
      "\u001b[0;31m---------------------------------------------------------------------------\u001b[0m",
      "\u001b[0;31mNameError\u001b[0m                                 Traceback (most recent call last)",
      "\u001b[0;32m<ipython-input-78-16cd725973e8>\u001b[0m in \u001b[0;36m<module>\u001b[0;34m\u001b[0m\n\u001b[0;32m----> 1\u001b[0;31m enriched_ci_df[\n\u001b[0m\u001b[1;32m      2\u001b[0m     \u001b[0menriched_ci_df\u001b[0m\u001b[0;34m.\u001b[0m\u001b[0mtype\u001b[0m \u001b[0;34m!=\u001b[0m \u001b[0;34m'img'\u001b[0m\u001b[0;34m\u001b[0m\u001b[0;34m\u001b[0m\u001b[0m\n\u001b[1;32m      3\u001b[0m ].groupby(by='license').agg({'id':'count'}).compute().sum()\n",
      "\u001b[0;31mNameError\u001b[0m: name 'enriched_ci_df' is not defined"
     ]
    }
   ],
   "source": [
    "enriched_ci_df[\n",
    "    enriched_ci_df.type != 'img'\n",
    "].groupby(by='license').agg({'id':'count'}).compute()"
   ]
  },
  {
   "cell_type": "code",
   "execution_count": 56,
   "metadata": {},
   "outputs": [
    {
     "data": {
      "text/html": [
       "<div>\n",
       "<style scoped>\n",
       "    .dataframe tbody tr th:only-of-type {\n",
       "        vertical-align: middle;\n",
       "    }\n",
       "\n",
       "    .dataframe tbody tr th {\n",
       "        vertical-align: top;\n",
       "    }\n",
       "\n",
       "    .dataframe thead th {\n",
       "        text-align: right;\n",
       "    }\n",
       "</style>\n",
       "<table border=\"1\" class=\"dataframe\">\n",
       "  <thead>\n",
       "    <tr style=\"text-align: right;\">\n",
       "      <th></th>\n",
       "      <th>id</th>\n",
       "    </tr>\n",
       "    <tr>\n",
       "      <th>license</th>\n",
       "      <th></th>\n",
       "    </tr>\n",
       "  </thead>\n",
       "  <tbody>\n",
       "    <tr>\n",
       "      <th>closed</th>\n",
       "      <td>417732</td>\n",
       "    </tr>\n",
       "    <tr>\n",
       "      <th>open_private</th>\n",
       "      <td>3030126</td>\n",
       "    </tr>\n",
       "    <tr>\n",
       "      <th>open_public</th>\n",
       "      <td>32964</td>\n",
       "    </tr>\n",
       "  </tbody>\n",
       "</table>\n",
       "</div>"
      ],
      "text/plain": [
       "                   id\n",
       "license              \n",
       "closed         417732\n",
       "open_private  3030126\n",
       "open_public     32964"
      ]
     },
     "execution_count": 56,
     "metadata": {},
     "output_type": "execute_result"
    }
   ],
   "source": [
    "enriched_ci_df[\n",
    "    enriched_ci_df.type == 'img'\n",
    "].groupby(by='license').agg({'id':'count'}).compute()"
   ]
  },
  {
   "cell_type": "code",
   "execution_count": 88,
   "metadata": {},
   "outputs": [],
   "source": [
    "cluster.close()"
   ]
  },
  {
   "cell_type": "markdown",
   "metadata": {},
   "source": [
    "## Plot"
   ]
  },
  {
   "cell_type": "code",
   "execution_count": 22,
   "metadata": {},
   "outputs": [],
   "source": [
    "import matplotlib.pyplot as plt"
   ]
  },
  {
   "cell_type": "code",
   "execution_count": 68,
   "metadata": {},
   "outputs": [
    {
     "data": {
      "text/html": [
       "<div>\n",
       "<style scoped>\n",
       "    .dataframe tbody tr th:only-of-type {\n",
       "        vertical-align: middle;\n",
       "    }\n",
       "\n",
       "    .dataframe tbody tr th {\n",
       "        vertical-align: top;\n",
       "    }\n",
       "\n",
       "    .dataframe thead th {\n",
       "        text-align: right;\n",
       "    }\n",
       "</style>\n",
       "<table border=\"1\" class=\"dataframe\">\n",
       "  <thead>\n",
       "    <tr style=\"text-align: right;\">\n",
       "      <th></th>\n",
       "      <th>id</th>\n",
       "      <th>year</th>\n",
       "      <th>newspaper</th>\n",
       "      <th>type</th>\n",
       "      <th>n_tokens</th>\n",
       "      <th>title_length</th>\n",
       "      <th>issue_id</th>\n",
       "      <th>license</th>\n",
       "      <th>n_pages</th>\n",
       "    </tr>\n",
       "  </thead>\n",
       "  <tbody>\n",
       "    <tr>\n",
       "      <th>0</th>\n",
       "      <td>BDC-1839-01-20-a-i0001</td>\n",
       "      <td>1839</td>\n",
       "      <td>BDC</td>\n",
       "      <td>ar</td>\n",
       "      <td>250</td>\n",
       "      <td>4.0</td>\n",
       "      <td>BDC-1839-01-20-a</td>\n",
       "      <td>open_public</td>\n",
       "      <td>6</td>\n",
       "    </tr>\n",
       "    <tr>\n",
       "      <th>1</th>\n",
       "      <td>BDC-1839-01-20-a-i0002</td>\n",
       "      <td>1839</td>\n",
       "      <td>BDC</td>\n",
       "      <td>ar</td>\n",
       "      <td>758</td>\n",
       "      <td>NaN</td>\n",
       "      <td>BDC-1839-01-20-a</td>\n",
       "      <td>open_public</td>\n",
       "      <td>6</td>\n",
       "    </tr>\n",
       "    <tr>\n",
       "      <th>2</th>\n",
       "      <td>BDC-1839-01-20-a-i0003</td>\n",
       "      <td>1839</td>\n",
       "      <td>BDC</td>\n",
       "      <td>ar</td>\n",
       "      <td>14</td>\n",
       "      <td>31.0</td>\n",
       "      <td>BDC-1839-01-20-a</td>\n",
       "      <td>open_public</td>\n",
       "      <td>6</td>\n",
       "    </tr>\n",
       "    <tr>\n",
       "      <th>3</th>\n",
       "      <td>BDC-1839-01-20-a-i0004</td>\n",
       "      <td>1839</td>\n",
       "      <td>BDC</td>\n",
       "      <td>ar</td>\n",
       "      <td>349</td>\n",
       "      <td>22.0</td>\n",
       "      <td>BDC-1839-01-20-a</td>\n",
       "      <td>open_public</td>\n",
       "      <td>6</td>\n",
       "    </tr>\n",
       "    <tr>\n",
       "      <th>4</th>\n",
       "      <td>BDC-1839-01-20-a-i0005</td>\n",
       "      <td>1839</td>\n",
       "      <td>BDC</td>\n",
       "      <td>ar</td>\n",
       "      <td>193</td>\n",
       "      <td>NaN</td>\n",
       "      <td>BDC-1839-01-20-a</td>\n",
       "      <td>open_public</td>\n",
       "      <td>6</td>\n",
       "    </tr>\n",
       "  </tbody>\n",
       "</table>\n",
       "</div>"
      ],
      "text/plain": [
       "                       id  year newspaper type  n_tokens  title_length  \\\n",
       "0  BDC-1839-01-20-a-i0001  1839       BDC   ar       250           4.0   \n",
       "1  BDC-1839-01-20-a-i0002  1839       BDC   ar       758           NaN   \n",
       "2  BDC-1839-01-20-a-i0003  1839       BDC   ar        14          31.0   \n",
       "3  BDC-1839-01-20-a-i0004  1839       BDC   ar       349          22.0   \n",
       "4  BDC-1839-01-20-a-i0005  1839       BDC   ar       193           NaN   \n",
       "\n",
       "           issue_id      license  n_pages  \n",
       "0  BDC-1839-01-20-a  open_public        6  \n",
       "1  BDC-1839-01-20-a  open_public        6  \n",
       "2  BDC-1839-01-20-a  open_public        6  \n",
       "3  BDC-1839-01-20-a  open_public        6  \n",
       "4  BDC-1839-01-20-a  open_public        6  "
      ]
     },
     "execution_count": 68,
     "metadata": {},
     "output_type": "execute_result"
    }
   ],
   "source": [
    "enriched_ci_df.head()"
   ]
  },
  {
   "cell_type": "code",
   "execution_count": 70,
   "metadata": {},
   "outputs": [],
   "source": [
    "token_count_by_year = enriched_ci_df[\n",
    "    enriched_ci_df.license != 'closed'\n",
    "].groupby(by='year').sum().compute()"
   ]
  },
  {
   "cell_type": "code",
   "execution_count": 77,
   "metadata": {},
   "outputs": [],
   "source": [
    "df = token_count_by_year[['n_tokens']].sort_index()"
   ]
  },
  {
   "cell_type": "code",
   "execution_count": 87,
   "metadata": {},
   "outputs": [],
   "source": [
    "df.to_pickle('/home/romanell/Downloads/tokens_by_year.pkl')"
   ]
  },
  {
   "cell_type": "code",
   "execution_count": 2,
   "metadata": {},
   "outputs": [],
   "source": [
    "df = pd.read_pickle('/home/romanell/Downloads/tokens_by_year.pkl')"
   ]
  },
  {
   "cell_type": "code",
   "execution_count": 20,
   "metadata": {},
   "outputs": [
    {
     "data": {
      "text/html": [
       "<div>\n",
       "<style scoped>\n",
       "    .dataframe tbody tr th:only-of-type {\n",
       "        vertical-align: middle;\n",
       "    }\n",
       "\n",
       "    .dataframe tbody tr th {\n",
       "        vertical-align: top;\n",
       "    }\n",
       "\n",
       "    .dataframe thead th {\n",
       "        text-align: right;\n",
       "    }\n",
       "</style>\n",
       "<table border=\"1\" class=\"dataframe\">\n",
       "  <thead>\n",
       "    <tr style=\"text-align: right;\">\n",
       "      <th></th>\n",
       "      <th>n_tokens</th>\n",
       "    </tr>\n",
       "    <tr>\n",
       "      <th>year</th>\n",
       "      <th></th>\n",
       "    </tr>\n",
       "  </thead>\n",
       "  <tbody>\n",
       "    <tr>\n",
       "      <th>1,738</th>\n",
       "      <td>4,442</td>\n",
       "    </tr>\n",
       "    <tr>\n",
       "      <th>1,740</th>\n",
       "      <td>3,464</td>\n",
       "    </tr>\n",
       "    <tr>\n",
       "      <th>1,758</th>\n",
       "      <td>2,209</td>\n",
       "    </tr>\n",
       "    <tr>\n",
       "      <th>1,762</th>\n",
       "      <td>726</td>\n",
       "    </tr>\n",
       "    <tr>\n",
       "      <th>1,766</th>\n",
       "      <td>1,465</td>\n",
       "    </tr>\n",
       "    <tr>\n",
       "      <th>1,767</th>\n",
       "      <td>623</td>\n",
       "    </tr>\n",
       "    <tr>\n",
       "      <th>1,768</th>\n",
       "      <td>14,210</td>\n",
       "    </tr>\n",
       "    <tr>\n",
       "      <th>1,769</th>\n",
       "      <td>31,787</td>\n",
       "    </tr>\n",
       "    <tr>\n",
       "      <th>1,770</th>\n",
       "      <td>70,740</td>\n",
       "    </tr>\n",
       "    <tr>\n",
       "      <th>1,771</th>\n",
       "      <td>70,246</td>\n",
       "    </tr>\n",
       "    <tr>\n",
       "      <th>1,772</th>\n",
       "      <td>34,313</td>\n",
       "    </tr>\n",
       "    <tr>\n",
       "      <th>1,773</th>\n",
       "      <td>4,887</td>\n",
       "    </tr>\n",
       "    <tr>\n",
       "      <th>1,780</th>\n",
       "      <td>1,087</td>\n",
       "    </tr>\n",
       "    <tr>\n",
       "      <th>1,783</th>\n",
       "      <td>1,459</td>\n",
       "    </tr>\n",
       "    <tr>\n",
       "      <th>1,785</th>\n",
       "      <td>1,500</td>\n",
       "    </tr>\n",
       "    <tr>\n",
       "      <th>1,787</th>\n",
       "      <td>1,532</td>\n",
       "    </tr>\n",
       "    <tr>\n",
       "      <th>1,788</th>\n",
       "      <td>3,203</td>\n",
       "    </tr>\n",
       "    <tr>\n",
       "      <th>1,791</th>\n",
       "      <td>49,985</td>\n",
       "    </tr>\n",
       "    <tr>\n",
       "      <th>1,792</th>\n",
       "      <td>60,510</td>\n",
       "    </tr>\n",
       "    <tr>\n",
       "      <th>1,796</th>\n",
       "      <td>9,428</td>\n",
       "    </tr>\n",
       "    <tr>\n",
       "      <th>1,797</th>\n",
       "      <td>70,376</td>\n",
       "    </tr>\n",
       "    <tr>\n",
       "      <th>1,798</th>\n",
       "      <td>377,924</td>\n",
       "    </tr>\n",
       "    <tr>\n",
       "      <th>1,799</th>\n",
       "      <td>654,982</td>\n",
       "    </tr>\n",
       "    <tr>\n",
       "      <th>1,800</th>\n",
       "      <td>495,454</td>\n",
       "    </tr>\n",
       "    <tr>\n",
       "      <th>1,801</th>\n",
       "      <td>322,768</td>\n",
       "    </tr>\n",
       "    <tr>\n",
       "      <th>1,802</th>\n",
       "      <td>1,592</td>\n",
       "    </tr>\n",
       "    <tr>\n",
       "      <th>1,803</th>\n",
       "      <td>1,406</td>\n",
       "    </tr>\n",
       "    <tr>\n",
       "      <th>1,804</th>\n",
       "      <td>342,402</td>\n",
       "    </tr>\n",
       "    <tr>\n",
       "      <th>1,805</th>\n",
       "      <td>284,780</td>\n",
       "    </tr>\n",
       "    <tr>\n",
       "      <th>1,806</th>\n",
       "      <td>547,293</td>\n",
       "    </tr>\n",
       "    <tr>\n",
       "      <th>...</th>\n",
       "      <td>...</td>\n",
       "    </tr>\n",
       "    <tr>\n",
       "      <th>1,989</th>\n",
       "      <td>109,451,949</td>\n",
       "    </tr>\n",
       "    <tr>\n",
       "      <th>1,990</th>\n",
       "      <td>111,908,930</td>\n",
       "    </tr>\n",
       "    <tr>\n",
       "      <th>1,991</th>\n",
       "      <td>117,631,076</td>\n",
       "    </tr>\n",
       "    <tr>\n",
       "      <th>1,992</th>\n",
       "      <td>120,570,896</td>\n",
       "    </tr>\n",
       "    <tr>\n",
       "      <th>1,993</th>\n",
       "      <td>109,121,169</td>\n",
       "    </tr>\n",
       "    <tr>\n",
       "      <th>1,994</th>\n",
       "      <td>114,757,802</td>\n",
       "    </tr>\n",
       "    <tr>\n",
       "      <th>1,995</th>\n",
       "      <td>115,864,476</td>\n",
       "    </tr>\n",
       "    <tr>\n",
       "      <th>1,996</th>\n",
       "      <td>120,339,896</td>\n",
       "    </tr>\n",
       "    <tr>\n",
       "      <th>1,997</th>\n",
       "      <td>122,877,655</td>\n",
       "    </tr>\n",
       "    <tr>\n",
       "      <th>1,998</th>\n",
       "      <td>85,242,810</td>\n",
       "    </tr>\n",
       "    <tr>\n",
       "      <th>1,999</th>\n",
       "      <td>79,351,179</td>\n",
       "    </tr>\n",
       "    <tr>\n",
       "      <th>2,000</th>\n",
       "      <td>81,350,865</td>\n",
       "    </tr>\n",
       "    <tr>\n",
       "      <th>2,001</th>\n",
       "      <td>82,091,939</td>\n",
       "    </tr>\n",
       "    <tr>\n",
       "      <th>2,002</th>\n",
       "      <td>80,074,097</td>\n",
       "    </tr>\n",
       "    <tr>\n",
       "      <th>2,003</th>\n",
       "      <td>76,029,535</td>\n",
       "    </tr>\n",
       "    <tr>\n",
       "      <th>2,004</th>\n",
       "      <td>76,576,628</td>\n",
       "    </tr>\n",
       "    <tr>\n",
       "      <th>2,005</th>\n",
       "      <td>70,884,872</td>\n",
       "    </tr>\n",
       "    <tr>\n",
       "      <th>2,006</th>\n",
       "      <td>67,557,296</td>\n",
       "    </tr>\n",
       "    <tr>\n",
       "      <th>2,007</th>\n",
       "      <td>57,088,516</td>\n",
       "    </tr>\n",
       "    <tr>\n",
       "      <th>2,008</th>\n",
       "      <td>57,042,838</td>\n",
       "    </tr>\n",
       "    <tr>\n",
       "      <th>2,009</th>\n",
       "      <td>51,257,613</td>\n",
       "    </tr>\n",
       "    <tr>\n",
       "      <th>2,010</th>\n",
       "      <td>50,098,270</td>\n",
       "    </tr>\n",
       "    <tr>\n",
       "      <th>2,011</th>\n",
       "      <td>40,798,279</td>\n",
       "    </tr>\n",
       "    <tr>\n",
       "      <th>2,012</th>\n",
       "      <td>40,213,108</td>\n",
       "    </tr>\n",
       "    <tr>\n",
       "      <th>2,013</th>\n",
       "      <td>27,337,110</td>\n",
       "    </tr>\n",
       "    <tr>\n",
       "      <th>2,014</th>\n",
       "      <td>26,537,480</td>\n",
       "    </tr>\n",
       "    <tr>\n",
       "      <th>2,015</th>\n",
       "      <td>26,208,807</td>\n",
       "    </tr>\n",
       "    <tr>\n",
       "      <th>2,016</th>\n",
       "      <td>26,124,214</td>\n",
       "    </tr>\n",
       "    <tr>\n",
       "      <th>2,017</th>\n",
       "      <td>22,064,124</td>\n",
       "    </tr>\n",
       "    <tr>\n",
       "      <th>2,018</th>\n",
       "      <td>595,327</td>\n",
       "    </tr>\n",
       "  </tbody>\n",
       "</table>\n",
       "<p>242 rows × 1 columns</p>\n",
       "</div>"
      ],
      "text/plain": [
       "          n_tokens\n",
       "year              \n",
       "1,738        4,442\n",
       "1,740        3,464\n",
       "1,758        2,209\n",
       "1,762          726\n",
       "1,766        1,465\n",
       "1,767          623\n",
       "1,768       14,210\n",
       "1,769       31,787\n",
       "1,770       70,740\n",
       "1,771       70,246\n",
       "1,772       34,313\n",
       "1,773        4,887\n",
       "1,780        1,087\n",
       "1,783        1,459\n",
       "1,785        1,500\n",
       "1,787        1,532\n",
       "1,788        3,203\n",
       "1,791       49,985\n",
       "1,792       60,510\n",
       "1,796        9,428\n",
       "1,797       70,376\n",
       "1,798      377,924\n",
       "1,799      654,982\n",
       "1,800      495,454\n",
       "1,801      322,768\n",
       "1,802        1,592\n",
       "1,803        1,406\n",
       "1,804      342,402\n",
       "1,805      284,780\n",
       "1,806      547,293\n",
       "...            ...\n",
       "1,989  109,451,949\n",
       "1,990  111,908,930\n",
       "1,991  117,631,076\n",
       "1,992  120,570,896\n",
       "1,993  109,121,169\n",
       "1,994  114,757,802\n",
       "1,995  115,864,476\n",
       "1,996  120,339,896\n",
       "1,997  122,877,655\n",
       "1,998   85,242,810\n",
       "1,999   79,351,179\n",
       "2,000   81,350,865\n",
       "2,001   82,091,939\n",
       "2,002   80,074,097\n",
       "2,003   76,029,535\n",
       "2,004   76,576,628\n",
       "2,005   70,884,872\n",
       "2,006   67,557,296\n",
       "2,007   57,088,516\n",
       "2,008   57,042,838\n",
       "2,009   51,257,613\n",
       "2,010   50,098,270\n",
       "2,011   40,798,279\n",
       "2,012   40,213,108\n",
       "2,013   27,337,110\n",
       "2,014   26,537,480\n",
       "2,015   26,208,807\n",
       "2,016   26,124,214\n",
       "2,017   22,064,124\n",
       "2,018      595,327\n",
       "\n",
       "[242 rows x 1 columns]"
      ]
     },
     "execution_count": 20,
     "metadata": {},
     "output_type": "execute_result"
    }
   ],
   "source": [
    "df"
   ]
  },
  {
   "cell_type": "code",
   "execution_count": 66,
   "metadata": {},
   "outputs": [
    {
     "data": {
      "image/png": "[encoded data removed]",
      "text/plain": [
       "<Figure size 1440x720 with 1 Axes>"
      ]
     },
     "metadata": {
      "needs_background": "light"
     },
     "output_type": "display_data"
    }
   ],
   "source": [
    "ax = df.n_tokens.plot(kind='area',  figsize=(20,10), fontsize=16,)"
   ]
  },
  {
   "cell_type": "code",
   "execution_count": 71,
   "metadata": {},
   "outputs": [],
   "source": [
    "ax.ticklabel_format(style='plain')"
   ]
  },
  {
   "cell_type": "code",
   "execution_count": 72,
   "metadata": {},
   "outputs": [],
   "source": [
    "ax.yaxis.set_major_formatter(mpl.ticker.StrMethodFormatter('{x:,.0f}'))"
   ]
  },
  {
   "cell_type": "code",
   "execution_count": 75,
   "metadata": {},
   "outputs": [
    {
     "data": {
      "text/plain": [
       "Text(0.5, 22.200000000000003, 'Year')"
      ]
     },
     "execution_count": 75,
     "metadata": {},
     "output_type": "execute_result"
    }
   ],
   "source": [
    "ax.set_title('Number of tokens per year', size = 16)\n",
    "ax.set_xlabel('Year', size = 16)"
   ]
  },
  {
   "cell_type": "code",
   "execution_count": 76,
   "metadata": {},
   "outputs": [],
   "source": [
    "ax.get_figure().savefig('/home/romanell/Downloads/lrec_plot.png', dpi=300)"
   ]
  },
  {
   "cell_type": "code",
   "execution_count": 77,
   "metadata": {},
   "outputs": [
    {
     "data": {
      "image/png": "[encoded data removed]",
      "text/plain": [
       "<Figure size 1440x720 with 1 Axes>"
      ]
     },
     "execution_count": 77,
     "metadata": {},
     "output_type": "execute_result"
    }
   ],
   "source": [
    "ax.get_figure()"
   ]
  },
  {
   "cell_type": "code",
   "execution_count": null,
   "metadata": {},
   "outputs": [],
   "source": []
  }
 ],
 "metadata": {
  "kernelspec": {
   "display_name": "Python 3",
   "language": "python",
   "name": "python3"
  },
  "language_info": {
   "codemirror_mode": {
    "name": "ipython",
    "version": 3
   },
   "file_extension": ".py",
   "mimetype": "text/x-python",
   "name": "python",
   "nbconvert_exporter": "python",
   "pygments_lexer": "ipython3",
   "version": "3.6.7"
  },
  "toc": {
   "base_numbering": 1,
   "nav_menu": {},
   "number_sections": true,
   "sideBar": true,
   "skip_h1_title": false,
   "title_cell": "Table of Contents",
   "title_sidebar": "Contents",
   "toc_cell": false,
   "toc_position": {},
   "toc_section_display": true,
   "toc_window_display": true
  }
 },
 "nbformat": 4,
 "nbformat_minor": 2
}
